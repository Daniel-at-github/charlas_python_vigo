{
 "cells": [
  {
   "cell_type": "code",
   "execution_count": null,
   "metadata": {
    "scrolled": true
   },
   "outputs": [],
   "source": [
    "%matplotlib inline\n",
    "\n",
    "import json\n",
    "import pickle\n",
    "import pandas\n",
    "import numpy\n",
    "import matplotlib.pyplot as plt\n",
    "import math\n",
    "from scipy.optimize import curve_fit\n",
    "\n",
    "from pandas import DataFrame\n",
    "\n",
    "\n",
    "def log_as_dataframe(log):\n",
    "    columns = ['timestamp', 'level', 'source', 'function', 'data']\n",
    "    df = pandas.DataFrame(log, columns=columns)\n",
    "    return df.set_index('timestamp').sort_index()\n",
    "\n",
    "\n",
    "df = log_as_dataframe(pickle.load(open('log.pkl', 'rb')))\n",
    "df = df[df['function'] == 'log_front_sensors_calibration']\n",
    "df = DataFrame([json.loads(x.replace('nan', 'NaN')) for x in df['data'].values])\n",
    "df['left_raw'] = df['left_raw_on'] - df['left_raw_off']\n",
    "df['right_raw'] = df['right_raw_on'] - df['right_raw_off']\n",
    "df['micrometers'] = df['micrometers'] - df['micrometers'][0]\n",
    "df['micrometers'] = (180 * 2 - 12 - 36) * 1000 - df['micrometers']\n",
    "df = df[(df['micrometers'] > 80000) & (df['micrometers'] < 270000)]\n",
    "df['meters'] = df['micrometers'] / 1000000\n",
    "df = df.set_index('meters')\n",
    "df = df.sort_index(ascending=True)\n",
    "df.head()"
   ]
  },
  {
   "cell_type": "code",
   "execution_count": null,
   "metadata": {
    "scrolled": true
   },
   "outputs": [],
   "source": [
    "df[['left_raw', 'right_raw']].plot()"
   ]
  },
  {
   "cell_type": "code",
   "execution_count": null,
   "metadata": {},
   "outputs": [],
   "source": [
    "popt_FR, pcov_FR = curve_fit(lambda t, a, b: numpy.exp(a / (b + t)),\n",
    "                             df.index.values,\n",
    "                             df['right_raw'].values)\n",
    "popt_FL, pcov_FL = curve_fit(lambda t, a, b: numpy.exp(a / (b + t)),\n",
    "                             df.index.values, \n",
    "                             df['left_raw'].values)"
   ]
  },
  {
   "cell_type": "code",
   "execution_count": null,
   "metadata": {},
   "outputs": [],
   "source": [
    "def generate_curve(x, parameters):\n",
    "    return numpy.exp(parameters[0] / (parameters[1] + df.index.values))\n",
    "\n",
    "\n",
    "f, (ax1, ax2) = plt.subplots(2, sharex=True, sharey=True)\n",
    "ax1.plot(df.index.values, df['right_raw'])\n",
    "ax1.plot(df.index.values, generate_curve(df.index.values, popt_FR))\n",
    "ax2.plot(df.index.values, df['left_raw'])\n",
    "ax2.plot(df.index.values, generate_curve(df.index.values, popt_FL))\n",
    "plt.show()\n",
    "\n",
    "print('FR_a {}, FR_b {}'.format(popt_FR[0],popt_FR[1]))\n",
    "print('FL_a {}, FL_b {}'.format(popt_FL[0],popt_FL[1]))"
   ]
  },
  {
   "cell_type": "code",
   "execution_count": null,
   "metadata": {
    "collapsed": true
   },
   "outputs": [],
   "source": []
  }
 ],
 "metadata": {
  "kernelspec": {
   "display_name": "Python 3",
   "language": "python",
   "name": "python3"
  },
  "language_info": {
   "codemirror_mode": {
    "name": "ipython",
    "version": 3
   },
   "file_extension": ".py",
   "mimetype": "text/x-python",
   "name": "python",
   "nbconvert_exporter": "python",
   "pygments_lexer": "ipython3",
   "version": "3.6.3"
  }
 },
 "nbformat": 4,
 "nbformat_minor": 2
}
