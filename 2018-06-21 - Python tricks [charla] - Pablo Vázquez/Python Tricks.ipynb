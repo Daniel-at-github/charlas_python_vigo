{
 "cells": [
  {
   "cell_type": "code",
   "execution_count": 3,
   "metadata": {},
   "outputs": [],
   "source": [
    "# Python local http server 60000\n",
    "# From CLI: python -m http.server 60000"
   ]
  },
  {
   "cell_type": "code",
   "execution_count": 4,
   "metadata": {},
   "outputs": [
    {
     "name": "stdout",
     "output_type": "stream",
     "text": [
      "1 2 3\n"
     ]
    }
   ],
   "source": [
    "# Mutiple assigment\n",
    "a_list = [1, 2, 3]\n",
    "\n",
    "a, b, c = a_list\n",
    "\n",
    "print(a, b, c)"
   ]
  },
  {
   "cell_type": "code",
   "execution_count": 5,
   "metadata": {},
   "outputs": [
    {
     "name": "stdout",
     "output_type": "stream",
     "text": [
      "var_1 = 2\n",
      "var_2 = 1\n"
     ]
    }
   ],
   "source": [
    "# Swapping 2 values (Old School)\n",
    "var_1 = 1\n",
    "var_2 = 2\n",
    "\n",
    "aux = var_1\n",
    "var_1 = var_2\n",
    "var_2 = aux\n",
    "\n",
    "print('var_1 =', var_1)\n",
    "print('var_2 =', var_2)"
   ]
  },
  {
   "cell_type": "code",
   "execution_count": 6,
   "metadata": {},
   "outputs": [
    {
     "name": "stdout",
     "output_type": "stream",
     "text": [
      "var_1 = 2\n",
      "var_2 = 1\n"
     ]
    }
   ],
   "source": [
    "# Swapping 2 values (Pythonic way)\n",
    "var_1 = 1\n",
    "var_2 = 2\n",
    "\n",
    "var_1, var_2 = var_2, var_1\n",
    "\n",
    "print('var_1 =', var_1)\n",
    "print('var_2 =', var_2)"
   ]
  },
  {
   "cell_type": "code",
   "execution_count": 7,
   "metadata": {},
   "outputs": [
    {
     "name": "stdout",
     "output_type": "stream",
     "text": [
      "var_1 = 5\n",
      "var_2 = 4\n",
      "var_3 = 3\n",
      "var_4 = 2\n",
      "var_5 = 1\n"
     ]
    }
   ],
   "source": [
    "# Swapping N values (Pythonic way)\n",
    "var_1 = 1\n",
    "var_2 = 2\n",
    "var_3 = 3\n",
    "var_4 = 4\n",
    "var_5 = 5\n",
    "\n",
    "var_1, var_2, var_3, var_4, var_5 = var_5, var_4, var_3, var_2, var_1\n",
    "\n",
    "print('var_1 =', var_1)\n",
    "print('var_2 =', var_2)\n",
    "print('var_3 =', var_3)\n",
    "print('var_4 =', var_4)\n",
    "print('var_5 =', var_5)"
   ]
  },
  {
   "cell_type": "code",
   "execution_count": 8,
   "metadata": {},
   "outputs": [
    {
     "name": "stdout",
     "output_type": "stream",
     "text": [
      "[1, 2, 3, 'a', 'b', 'c', 9, 8, 7]\n"
     ]
    }
   ],
   "source": [
    "# Merging lists (Old method)\n",
    "a = [1, 2, 3]\n",
    "b = ['a', 'b', 'c']\n",
    "c = [9, 8, 7]\n",
    "\n",
    "a.extend(b)\n",
    "a.extend(c)\n",
    "\n",
    "print(a)"
   ]
  },
  {
   "cell_type": "code",
   "execution_count": 9,
   "metadata": {},
   "outputs": [
    {
     "name": "stdout",
     "output_type": "stream",
     "text": [
      "[1, 2, 3, 'a', 'b', 'c', 9, 8, 7]\n"
     ]
    }
   ],
   "source": [
    "# Merging lists (New method)\n",
    "a = [1, 2, 3]\n",
    "b = ['a', 'b', 'c']\n",
    "c = [9, 8, 7]\n",
    "\n",
    "a = a + b + c\n",
    "\n",
    "print(a)"
   ]
  },
  {
   "cell_type": "code",
   "execution_count": 10,
   "metadata": {},
   "outputs": [
    {
     "name": "stdout",
     "output_type": "stream",
     "text": [
      "{'d': 9, 'b': 2, 'a': 1, 'e': 8, 'f': 7}\n"
     ]
    }
   ],
   "source": [
    "# Merging two dicts (Old method)\n",
    "x = {'a':1,'b':2}\n",
    "y = {'d':9,'e':8,'f':7}\n",
    "\n",
    "x.update(y)\n",
    "\n",
    "print(x)"
   ]
  },
  {
   "cell_type": "code",
   "execution_count": 12,
   "metadata": {
    "scrolled": true
   },
   "outputs": [
    {
     "name": "stdout",
     "output_type": "stream",
     "text": [
      "{'d': 9, 'b': 7, 'a': 1, 'e': 8}\n"
     ]
    }
   ],
   "source": [
    "# Merging two dicts (New method)\n",
    "x = {'a':1,'b':2}\n",
    "y = {'d':9,'e':8,'b':7}\n",
    "\n",
    "z = {**x, **y}\n",
    "\n",
    "print(z)"
   ]
  },
  {
   "cell_type": "code",
   "execution_count": 15,
   "metadata": {},
   "outputs": [
    {
     "data": {
      "text/plain": [
       "14"
      ]
     },
     "execution_count": 15,
     "metadata": {},
     "output_type": "execute_result"
    }
   ],
   "source": [
    "# Last output value is stored in _\n",
    "4 + 2 * 5"
   ]
  },
  {
   "cell_type": "code",
   "execution_count": 16,
   "metadata": {},
   "outputs": [
    {
     "data": {
      "text/plain": [
       "14"
      ]
     },
     "execution_count": 16,
     "metadata": {},
     "output_type": "execute_result"
    }
   ],
   "source": [
    "# If we print the contents of _\n",
    "_"
   ]
  },
  {
   "cell_type": "code",
   "execution_count": 17,
   "metadata": {},
   "outputs": [
    {
     "name": "stdout",
     "output_type": "stream",
     "text": [
      "1 5\n"
     ]
    }
   ],
   "source": [
    "# Underscore is also useful for discarding \n",
    "# non neccessary values in any assignation...\n",
    "a, _, _, _, b = [1, 2, 3, 4, 5]\n",
    "print(a, b)"
   ]
  },
  {
   "cell_type": "code",
   "execution_count": 18,
   "metadata": {},
   "outputs": [
    {
     "name": "stdout",
     "output_type": "stream",
     "text": [
      "1 6\n"
     ]
    }
   ],
   "source": [
    "# ... and star expression makes it even\n",
    "# more useful to avoid repetition \n",
    "# (Only one starred expression is allowed)\n",
    "a, *_, b = [1, 2, 3, 4, 5, 6]\n",
    "\n",
    "print(a, b)"
   ]
  },
  {
   "cell_type": "code",
   "execution_count": 19,
   "metadata": {},
   "outputs": [
    {
     "name": "stdout",
     "output_type": "stream",
     "text": [
      "0 :  a\n",
      "1 :  b\n",
      "2 :  c\n"
     ]
    }
   ],
   "source": [
    "# Iterate over an object and get \n",
    "# the index in each iteration\n",
    "my_list = ['a', 'b', 'c']\n",
    "\n",
    "for index, value in enumerate(my_list):\n",
    "    print(index, ': ', value)"
   ]
  },
  {
   "cell_type": "code",
   "execution_count": 20,
   "metadata": {},
   "outputs": [
    {
     "name": "stdout",
     "output_type": "stream",
     "text": [
      "3 :  a\n",
      "4 :  b\n",
      "5 :  c\n"
     ]
    }
   ],
   "source": [
    "# Iterate over an object and get \n",
    "# the index in each iteration\n",
    "# starting in 3\n",
    "my_list = ['a', 'b', 'c']\n",
    "\n",
    "for index, value in enumerate(my_list, 3):\n",
    "    print(index, ': ', value)"
   ]
  },
  {
   "cell_type": "code",
   "execution_count": 21,
   "metadata": {},
   "outputs": [
    {
     "name": "stdout",
     "output_type": "stream",
     "text": [
      "[4, 3, 2, 1]\n"
     ]
    }
   ],
   "source": [
    "# Reversing a list in place\n",
    "my_list = [1, 2, 3, 4]\n",
    "my_list.reverse()\n",
    "print(my_list)"
   ]
  },
  {
   "cell_type": "code",
   "execution_count": 28,
   "metadata": {},
   "outputs": [
    {
     "data": {
      "text/plain": [
       "'oie'"
      ]
     },
     "execution_count": 28,
     "metadata": {},
     "output_type": "execute_result"
    }
   ],
   "source": [
    "# Reversing any sliceable object\n",
    "# (creates a new object)\n",
    "name = 'Pepito'\n",
    "name[::-2]"
   ]
  },
  {
   "cell_type": "code",
   "execution_count": 30,
   "metadata": {},
   "outputs": [
    {
     "name": "stdout",
     "output_type": "stream",
     "text": [
      "[1, 2, 3, 4]\n",
      "['1', '2', '3', '4']\n"
     ]
    }
   ],
   "source": [
    "# Apply any function to all items in a list\n",
    "# Example: Turn a list of integers in a list of strings\n",
    "integers_list = [1, 2, 3, 4]\n",
    "strings_list = list(map(str, integers_list))\n",
    "print(integers_list)\n",
    "print(strings_list)"
   ]
  },
  {
   "cell_type": "code",
   "execution_count": 31,
   "metadata": {},
   "outputs": [
    {
     "data": {
      "text/plain": [
       "[(1, 'a'), (2, 'b'), (3, 'c'), (4, 'd'), (5, 'e')]"
      ]
     },
     "execution_count": 31,
     "metadata": {},
     "output_type": "execute_result"
    }
   ],
   "source": [
    "# Join any iterables as a list of tuples\n",
    "a = [1, 2, 3, 4, 5]\n",
    "b = ['a', 'b', 'c', 'd', 'e']\n",
    "list(zip(a, b))"
   ]
  },
  {
   "cell_type": "code",
   "execution_count": 33,
   "metadata": {},
   "outputs": [
    {
     "data": {
      "text/plain": [
       "{1: 'a', 2: 'b', 3: 'c', 4: 'd', 5: 'e'}"
      ]
     },
     "execution_count": 33,
     "metadata": {},
     "output_type": "execute_result"
    }
   ],
   "source": [
    "# Create a dictionary using one list \n",
    "# for keys and one list for values\n",
    "a = [1, 2, 3, 4, 5]\n",
    "b = ['a', 'b', 'c', 'd', 'e', 'f']\n",
    "dict(zip(a, b))"
   ]
  },
  {
   "cell_type": "code",
   "execution_count": 35,
   "metadata": {},
   "outputs": [
    {
     "name": "stdout",
     "output_type": "stream",
     "text": [
      "[1, 999, 3, 4]\n"
     ]
    }
   ],
   "source": [
    "# Lists are mutable so...\n",
    "list_a = [1, 2, 3, 4]\n",
    "list_b = list_a\n",
    "list_b[1] = 999\n",
    "\n",
    "print(list_a)\n"
   ]
  },
  {
   "cell_type": "code",
   "execution_count": 34,
   "metadata": {},
   "outputs": [
    {
     "name": "stdout",
     "output_type": "stream",
     "text": [
      "[1, 2, 3, 4]\n",
      "[1, 999, 3, 4]\n"
     ]
    }
   ],
   "source": [
    "#... if you need a copy of a list to work\n",
    "a_list = [1, 2, 3, 4]\n",
    "another_list = a_list[:]\n",
    "another_list[1] = 999\n",
    "\n",
    "print(a_list)\n",
    "print(another_list)"
   ]
  },
  {
   "cell_type": "code",
   "execution_count": 36,
   "metadata": {},
   "outputs": [
    {
     "name": "stdout",
     "output_type": "stream",
     "text": [
      "Hello world\n",
      "Hello world\n",
      "Hello world\n",
      "Hello world\n",
      "Hello world\n"
     ]
    }
   ],
   "source": [
    "# Repeating strings (Old school)\n",
    "# Print \"Hello world\" 5 times\n",
    "for i in range(5):\n",
    "    print(\"Hello world\")\n"
   ]
  },
  {
   "cell_type": "code",
   "execution_count": 37,
   "metadata": {},
   "outputs": [
    {
     "name": "stdout",
     "output_type": "stream",
     "text": [
      "Hello world\n",
      "Hello world\n",
      "Hello world\n",
      "Hello world\n",
      "Hello world\n",
      "\n"
     ]
    }
   ],
   "source": [
    "# Repeating strings (Pythonic way)\n",
    "# Print \"Hello world\" 5 times\n",
    "print(\"Hello world\\n\" * 5)"
   ]
  },
  {
   "cell_type": "code",
   "execution_count": 51,
   "metadata": {},
   "outputs": [
    {
     "name": "stdout",
     "output_type": "stream",
     "text": [
      "OK!\n"
     ]
    }
   ],
   "source": [
    "# Complex if (Method 1)\n",
    "a, b, c = 1, 2, 3\n",
    "\n",
    "if (a, b, c)==(1, 2, 3):\n",
    "    print('OK!')\n"
   ]
  },
  {
   "cell_type": "code",
   "execution_count": 41,
   "metadata": {},
   "outputs": [
    {
     "name": "stdout",
     "output_type": "stream",
     "text": [
      "OK!\n"
     ]
    }
   ],
   "source": [
    "# Complex if (Method 2)\n",
    "a, b, c = 1, 2, 3\n",
    "\n",
    "rules = [a==1, b==2, c==4]\n",
    "\n",
    "if any(rules):\n",
    "    print('OK!')"
   ]
  },
  {
   "cell_type": "code",
   "execution_count": 45,
   "metadata": {},
   "outputs": [],
   "source": [
    "# Complex if (Method 3)\n",
    "# Specific case when only need to test \n",
    "# that variables are True or False\n",
    "a, b, c = 1, 2, 0\n",
    "\n",
    "\n",
    "if all([a, b, c]):\n",
    "    print('OK!')"
   ]
  },
  {
   "cell_type": "code",
   "execution_count": null,
   "metadata": {},
   "outputs": [],
   "source": [
    "# Complex if (Method 4: Non Pythonic way)\n",
    "# Specific case when only need to test \n",
    "# that a variable contains any of some\n",
    "# specific values\n",
    "a = 2\n",
    "\n",
    "if a==1 or a==2 or a==3:\n",
    "    print('OK!')"
   ]
  },
  {
   "cell_type": "code",
   "execution_count": 47,
   "metadata": {},
   "outputs": [],
   "source": [
    "# Complex if (Method 5: Pythonic way)\n",
    "# Specific case when only need to test \n",
    "# that a variable contains any of some\n",
    "# specific values\n",
    "a = 6\n",
    "\n",
    "valid_values = [1, 2, 3]\n",
    "\n",
    "if a in valid_values:\n",
    "    print('OK!')"
   ]
  },
  {
   "cell_type": "code",
   "execution_count": 48,
   "metadata": {},
   "outputs": [
    {
     "name": "stdout",
     "output_type": "stream",
     "text": [
      "It is an url!\n"
     ]
    }
   ],
   "source": [
    "# Check if a string beggins with any of \n",
    "# several candidate strings (Non Pythonic way)\n",
    "url = 'https://python-vigo.es'\n",
    "\n",
    "if url.startswith('http://') or url.startswith('https://'):\n",
    "    print('It is an url!')"
   ]
  },
  {
   "cell_type": "code",
   "execution_count": 49,
   "metadata": {},
   "outputs": [
    {
     "name": "stdout",
     "output_type": "stream",
     "text": [
      "It is an url!\n"
     ]
    }
   ],
   "source": [
    "# Check if a string beggins with any of \n",
    "# several candidate strings (Pythonic way)\n",
    "url = 'https://python-vigo.es'\n",
    "\n",
    "if url.startswith(('http://', 'https://')):\n",
    "    print('It is an url!')"
   ]
  },
  {
   "cell_type": "code",
   "execution_count": 50,
   "metadata": {},
   "outputs": [
    {
     "name": "stdout",
     "output_type": "stream",
     "text": [
      "It is an url!\n"
     ]
    }
   ],
   "source": [
    "# The same applies to endswith\n",
    "url = 'https://python-vigo.es'\n",
    "\n",
    "if url.endswith(('.com', '.es')):\n",
    "    print('It is an url!')"
   ]
  },
  {
   "cell_type": "code",
   "execution_count": null,
   "metadata": {},
   "outputs": [],
   "source": []
  }
 ],
 "metadata": {
  "kernelspec": {
   "display_name": "Python 3",
   "language": "python",
   "name": "python3"
  },
  "language_info": {
   "codemirror_mode": {
    "name": "ipython",
    "version": 3
   },
   "file_extension": ".py",
   "mimetype": "text/x-python",
   "name": "python",
   "nbconvert_exporter": "python",
   "pygments_lexer": "ipython3",
   "version": "3.5.3"
  }
 },
 "nbformat": 4,
 "nbformat_minor": 2
}
