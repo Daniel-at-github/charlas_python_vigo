{
 "cells": [
  {
   "cell_type": "markdown",
   "id": "da367adc-34dc-4e7d-91e6-acd144d67efc",
   "metadata": {
    "slideshow": {
     "slide_type": "skip"
    },
    "tags": []
   },
   "source": [
    "Como ejecutar este notebook para poder crear las slides:\n",
    "\n",
    "``` sh\n",
    "python -m venv venv\n",
    "source venv/bin/activate\n",
    "python -m pip install --upgrade pip\n",
    "python -m pip install --upgrade \"rich[jupyter]\"\n",
    "python -m pip install --upgrade jupyterlab\n",
    "# python -m pip install --upgrade ipykernel\n",
    "export COLUMNS=63\n",
    "jupyter-lab\n",
    "```"
   ]
  },
  {
   "cell_type": "markdown",
   "id": "7d041f72-49a3-4e4d-b9be-313a57b3f8fa",
   "metadata": {
    "slideshow": {
     "slide_type": "slide"
    },
    "tags": []
   },
   "source": [
    "# How to get Rich!\n",
    "# 🚫₿🪙"
   ]
  },
  {
   "cell_type": "code",
   "execution_count": 1,
   "id": "a247145e-5304-4d7b-8b75-d435bdb7b781",
   "metadata": {
    "slideshow": {
     "slide_type": "slide"
    },
    "tags": []
   },
   "outputs": [
    {
     "name": "stdout",
     "output_type": "stream",
     "text": [
      "Requirement already satisfied: rich in ./venv/lib/python3.10/site-packages (12.2.0)\n",
      "Requirement already satisfied: pygments<3.0.0,>=2.6.0 in ./venv/lib/python3.10/site-packages (from rich) (2.11.2)\n",
      "Requirement already satisfied: commonmark<0.10.0,>=0.9.0 in ./venv/lib/python3.10/site-packages (from rich) (0.9.1)\n",
      "Note: you may need to restart the kernel to use updated packages.\n",
      "Requirement already satisfied: ipykernel in ./venv/lib/python3.10/site-packages (6.13.0)\n",
      "Requirement already satisfied: matplotlib-inline>=0.1 in ./venv/lib/python3.10/site-packages (from ipykernel) (0.1.3)\n",
      "Requirement already satisfied: jupyter-client>=6.1.12 in ./venv/lib/python3.10/site-packages (from ipykernel) (7.2.2)\n",
      "Requirement already satisfied: psutil in ./venv/lib/python3.10/site-packages (from ipykernel) (5.9.0)\n",
      "Requirement already satisfied: nest-asyncio in ./venv/lib/python3.10/site-packages (from ipykernel) (1.5.5)\n",
      "Requirement already satisfied: packaging in ./venv/lib/python3.10/site-packages (from ipykernel) (21.3)\n",
      "Requirement already satisfied: debugpy>=1.0 in ./venv/lib/python3.10/site-packages (from ipykernel) (1.6.0)\n",
      "Requirement already satisfied: tornado>=6.1 in ./venv/lib/python3.10/site-packages (from ipykernel) (6.1)\n",
      "Requirement already satisfied: ipython>=7.23.1 in ./venv/lib/python3.10/site-packages (from ipykernel) (8.2.0)\n",
      "Requirement already satisfied: traitlets>=5.1.0 in ./venv/lib/python3.10/site-packages (from ipykernel) (5.1.1)\n",
      "Requirement already satisfied: pygments>=2.4.0 in ./venv/lib/python3.10/site-packages (from ipython>=7.23.1->ipykernel) (2.11.2)\n",
      "Requirement already satisfied: pexpect>4.3 in ./venv/lib/python3.10/site-packages (from ipython>=7.23.1->ipykernel) (4.8.0)\n",
      "Requirement already satisfied: jedi>=0.16 in ./venv/lib/python3.10/site-packages (from ipython>=7.23.1->ipykernel) (0.18.1)\n",
      "Requirement already satisfied: setuptools>=18.5 in ./venv/lib/python3.10/site-packages (from ipython>=7.23.1->ipykernel) (57.4.0)\n",
      "Requirement already satisfied: decorator in ./venv/lib/python3.10/site-packages (from ipython>=7.23.1->ipykernel) (5.1.1)\n",
      "Requirement already satisfied: pickleshare in ./venv/lib/python3.10/site-packages (from ipython>=7.23.1->ipykernel) (0.7.5)\n",
      "Requirement already satisfied: stack-data in ./venv/lib/python3.10/site-packages (from ipython>=7.23.1->ipykernel) (0.2.0)\n",
      "Requirement already satisfied: backcall in ./venv/lib/python3.10/site-packages (from ipython>=7.23.1->ipykernel) (0.2.0)\n",
      "Requirement already satisfied: prompt-toolkit!=3.0.0,!=3.0.1,<3.1.0,>=2.0.0 in ./venv/lib/python3.10/site-packages (from ipython>=7.23.1->ipykernel) (3.0.29)\n",
      "Requirement already satisfied: entrypoints in ./venv/lib/python3.10/site-packages (from jupyter-client>=6.1.12->ipykernel) (0.4)\n",
      "Requirement already satisfied: python-dateutil>=2.8.2 in ./venv/lib/python3.10/site-packages (from jupyter-client>=6.1.12->ipykernel) (2.8.2)\n",
      "Requirement already satisfied: jupyter-core>=4.9.2 in ./venv/lib/python3.10/site-packages (from jupyter-client>=6.1.12->ipykernel) (4.9.2)\n",
      "Requirement already satisfied: pyzmq>=22.3 in ./venv/lib/python3.10/site-packages (from jupyter-client>=6.1.12->ipykernel) (22.3.0)\n",
      "Requirement already satisfied: pyparsing!=3.0.5,>=2.0.2 in ./venv/lib/python3.10/site-packages (from packaging->ipykernel) (3.0.8)\n",
      "Requirement already satisfied: parso<0.9.0,>=0.8.0 in ./venv/lib/python3.10/site-packages (from jedi>=0.16->ipython>=7.23.1->ipykernel) (0.8.3)\n",
      "Requirement already satisfied: ptyprocess>=0.5 in ./venv/lib/python3.10/site-packages (from pexpect>4.3->ipython>=7.23.1->ipykernel) (0.7.0)\n",
      "Requirement already satisfied: wcwidth in ./venv/lib/python3.10/site-packages (from prompt-toolkit!=3.0.0,!=3.0.1,<3.1.0,>=2.0.0->ipython>=7.23.1->ipykernel) (0.2.5)\n",
      "Requirement already satisfied: six>=1.5 in ./venv/lib/python3.10/site-packages (from python-dateutil>=2.8.2->jupyter-client>=6.1.12->ipykernel) (1.16.0)\n",
      "Requirement already satisfied: pure-eval in ./venv/lib/python3.10/site-packages (from stack-data->ipython>=7.23.1->ipykernel) (0.2.2)\n",
      "Requirement already satisfied: executing in ./venv/lib/python3.10/site-packages (from stack-data->ipython>=7.23.1->ipykernel) (0.8.3)\n",
      "Requirement already satisfied: asttokens in ./venv/lib/python3.10/site-packages (from stack-data->ipython>=7.23.1->ipykernel) (2.0.5)\n",
      "Note: you may need to restart the kernel to use updated packages.\n"
     ]
    }
   ],
   "source": [
    "# TLDR\n",
    "%pip install rich --upgrade\n",
    "%pip install ipykernel --upgrade # En Jupyter"
   ]
  },
  {
   "cell_type": "markdown",
   "id": "6e2f82a1-22b4-49b8-b6e9-74b1a8e68905",
   "metadata": {
    "slideshow": {
     "slide_type": "slide"
    },
    "tags": []
   },
   "source": [
    "Hablamos de este Rich:  \n",
    "<img src=\"assets/rich_logo.svg\" width=400 align=right/>  \n",
    "https://pypi.org/project/rich/  "
   ]
  },
  {
   "cell_type": "markdown",
   "id": "c88343d1-7f02-4d5c-b87d-dbc59807f9e5",
   "metadata": {
    "slideshow": {
     "slide_type": "slide"
    },
    "tags": []
   },
   "source": [
    "Rich tiene varios submódulos"
   ]
  },
  {
   "cell_type": "code",
   "execution_count": 2,
   "id": "6a501d17-7196-469f-92c6-b8a25c4bb5dd",
   "metadata": {
    "tags": []
   },
   "outputs": [],
   "source": [
    "import random\n",
    "import time \n",
    "\n",
    "import rich\n",
    "import rich.emoji\n",
    "import rich.color\n",
    "import rich.console\n",
    "import rich.markdown\n",
    "import rich.progress\n",
    "import rich.table\n",
    "\n",
    "# ..."
   ]
  },
  {
   "cell_type": "markdown",
   "id": "dafce5b2-9147-43aa-9b37-cf09c9dadba4",
   "metadata": {
    "slideshow": {
     "slide_type": "slide"
    },
    "tags": []
   },
   "source": [
    "Con Rich se puede imprimir en la consola en colores"
   ]
  },
  {
   "cell_type": "code",
   "execution_count": 3,
   "id": "eee92f22-81c0-4a75-a15b-bb7a09995d5e",
   "metadata": {
    "tags": []
   },
   "outputs": [
    {
     "data": {
      "text/html": [
       "<pre style=\"white-space:pre;overflow-x:auto;line-height:normal;font-family:Menlo,'DejaVu Sans Mono',consolas,'Courier New',monospace\">Hello <span style=\"color: #ff0000; text-decoration-color: #ff0000; font-weight: bold; font-style: italic\">world</span>!\n",
       "<span style=\"color: #800080; text-decoration-color: #800080\">Usando </span><span style=\"color: #800080; text-decoration-color: #800080; font-weight: bold\">Markup</span>\n",
       "<span style=\"font-weight: bold\">Bold,</span><span style=\"font-weight: bold; font-style: italic\"> bold and italic, </span><span style=\"font-style: italic\">italic</span>\n",
       "Usar <a href=\"https://vigotech.org/\" target=\"_blank\">enlaces</a> estilo Markup <span style=\"font-weight: bold\">(</span>en Jupyter<span style=\"font-weight: bold\">)</span>\n",
       "Emojis 🎉 ✨\n",
       "E incluso molestar <span style=\"color: #800000; text-decoration-color: #800000; font-weight: bold\">parpadeando</span> <span style=\"font-weight: bold\">(</span>en terminal<span style=\"font-weight: bold\">)</span>\n",
       "\n",
       "</pre>\n"
      ],
      "text/plain": [
       "Hello \u001b[1;3;38;5;196mworld\u001b[0m!\n",
       "\u001b[35mUsando \u001b[0m\u001b[1;35mMarkup\u001b[0m\n",
       "\u001b[1mBold,\u001b[0m\u001b[1;3m bold and italic, \u001b[0m\u001b[3mitalic\u001b[0m\n",
       "Usar \u001b]8;id=995626;https://vigotech.org/\u001b\\enlaces\u001b]8;;\u001b\\ estilo Markup \u001b[1m(\u001b[0men Jupyter\u001b[1m)\u001b[0m\n",
       "Emojis 🎉 ✨\n",
       "E incluso molestar \u001b[1;5;31mparpadeando\u001b[0m \u001b[1m(\u001b[0men terminal\u001b[1m)\u001b[0m\n",
       "\n"
      ]
     },
     "metadata": {},
     "output_type": "display_data"
    }
   ],
   "source": [
    "rich.print(\"\"\"Hello [italic bold red1]world[/italic bold red1]!\n",
    "[magenta]Usando [b]Markup[/b][/magenta]\n",
    "[bold]Bold,[italic] bold and italic, [/bold]italic[/italic]\n",
    "Usar [link=https://vigotech.org/]enlaces[/link] estilo Markup (en Jupyter)\n",
    "Emojis :tada: :sparkles:\n",
    "E incluso molestar [bold red blink]parpadeando[/] (en terminal)\n",
    "\"\"\")"
   ]
  },
  {
   "cell_type": "markdown",
   "id": "d4d2fcc5-214c-4eaf-8e25-e6e8b2bb2d63",
   "metadata": {
    "slideshow": {
     "slide_type": "slide"
    },
    "tags": []
   },
   "source": [
    "Para saber los nombres de los colores (en Rich):"
   ]
  },
  {
   "cell_type": "code",
   "execution_count": 4,
   "id": "bed6af40-2a5b-4d8e-99fc-54238d173618",
   "metadata": {
    "collapsed": true,
    "jupyter": {
     "outputs_hidden": true
    },
    "tags": []
   },
   "outputs": [
    {
     "name": "stdout",
     "output_type": "stream",
     "text": [
      "┏━━━━━━━━━━━━┳━━━━━━━━┳━━━━━━━━━━━━━━┳━━━━━━━━━┳━━━━━━━━━━━━━━┓\n",
      "┃\u001b[1m \u001b[0m\u001b[1mColor     \u001b[0m\u001b[1m \u001b[0m┃\u001b[1m \u001b[0m\u001b[1mNumber\u001b[0m\u001b[1m \u001b[0m┃\u001b[1m \u001b[0m\u001b[1mName        \u001b[0m\u001b[1m \u001b[0m┃\u001b[1m \u001b[0m\u001b[1mHex    \u001b[0m\u001b[1m \u001b[0m┃\u001b[1m \u001b[0m\u001b[1mRGB         \u001b[0m\u001b[1m \u001b[0m┃\n",
      "┡━━━━━━━━━━━━╇━━━━━━━━╇━━━━━━━━━━━━━━╇━━━━━━━━━╇━━━━━━━━━━━━━━┩\n",
      "│ \u001b[40m          \u001b[0m │\u001b[33m \u001b[0m\u001b[33m     0\u001b[0m\u001b[33m \u001b[0m│\u001b[32m \u001b[0m\u001b[32m\"black\"     \u001b[0m\u001b[32m \u001b[0m│\u001b[34m \u001b[0m\u001b[34m       \u001b[0m\u001b[34m \u001b[0m│\u001b[35m \u001b[0m\u001b[35m            \u001b[0m\u001b[35m \u001b[0m│\n",
      "│ \u001b[41m          \u001b[0m │\u001b[33m \u001b[0m\u001b[33m     1\u001b[0m\u001b[33m \u001b[0m│\u001b[32m \u001b[0m\u001b[32m\"red\"       \u001b[0m\u001b[32m \u001b[0m│\u001b[34m \u001b[0m\u001b[34m       \u001b[0m\u001b[34m \u001b[0m│\u001b[35m \u001b[0m\u001b[35m            \u001b[0m\u001b[35m \u001b[0m│\n",
      "│ \u001b[42m          \u001b[0m │\u001b[33m \u001b[0m\u001b[33m     2\u001b[0m\u001b[33m \u001b[0m│\u001b[32m \u001b[0m\u001b[32m\"green\"     \u001b[0m\u001b[32m \u001b[0m│\u001b[34m \u001b[0m\u001b[34m       \u001b[0m\u001b[34m \u001b[0m│\u001b[35m \u001b[0m\u001b[35m            \u001b[0m\u001b[35m \u001b[0m│\n",
      "│ \u001b[43m          \u001b[0m │\u001b[33m \u001b[0m\u001b[33m     3\u001b[0m\u001b[33m \u001b[0m│\u001b[32m \u001b[0m\u001b[32m\"yellow\"    \u001b[0m\u001b[32m \u001b[0m│\u001b[34m \u001b[0m\u001b[34m       \u001b[0m\u001b[34m \u001b[0m│\u001b[35m \u001b[0m\u001b[35m            \u001b[0m\u001b[35m \u001b[0m│\n",
      "│ \u001b[44m          \u001b[0m │\u001b[33m \u001b[0m\u001b[33m     4\u001b[0m\u001b[33m \u001b[0m│\u001b[32m \u001b[0m\u001b[32m\"blue\"      \u001b[0m\u001b[32m \u001b[0m│\u001b[34m \u001b[0m\u001b[34m       \u001b[0m\u001b[34m \u001b[0m│\u001b[35m \u001b[0m\u001b[35m            \u001b[0m\u001b[35m \u001b[0m│\n",
      "│ \u001b[45m          \u001b[0m │\u001b[33m \u001b[0m\u001b[33m     5\u001b[0m\u001b[33m \u001b[0m│\u001b[32m \u001b[0m\u001b[32m\"magenta\"   \u001b[0m\u001b[32m \u001b[0m│\u001b[34m \u001b[0m\u001b[34m       \u001b[0m\u001b[34m \u001b[0m│\u001b[35m \u001b[0m\u001b[35m            \u001b[0m\u001b[35m \u001b[0m│\n",
      "│ \u001b[46m          \u001b[0m │\u001b[33m \u001b[0m\u001b[33m     6\u001b[0m\u001b[33m \u001b[0m│\u001b[32m \u001b[0m\u001b[32m\"cyan\"      \u001b[0m\u001b[32m \u001b[0m│\u001b[34m \u001b[0m\u001b[34m       \u001b[0m\u001b[34m \u001b[0m│\u001b[35m \u001b[0m\u001b[35m            \u001b[0m\u001b[35m \u001b[0m│\n",
      "│ \u001b[47m          \u001b[0m │\u001b[33m \u001b[0m\u001b[33m     7\u001b[0m\u001b[33m \u001b[0m│\u001b[32m \u001b[0m\u001b[32m\"white\"     \u001b[0m\u001b[32m \u001b[0m│\u001b[34m \u001b[0m\u001b[34m       \u001b[0m\u001b[34m \u001b[0m│\u001b[35m \u001b[0m\u001b[35m            \u001b[0m\u001b[35m \u001b[0m│\n",
      "│ \u001b[100m          \u001b[0m │\u001b[33m \u001b[0m\u001b[33m     8\u001b[0m\u001b[33m \u001b[0m│\u001b[32m \u001b[0m\u001b[32m\"bright_bla…\u001b[0m\u001b[32m \u001b[0m│\u001b[34m \u001b[0m\u001b[34m       \u001b[0m\u001b[34m \u001b[0m│\u001b[35m \u001b[0m\u001b[35m            \u001b[0m\u001b[35m \u001b[0m│\n",
      "│ \u001b[101m          \u001b[0m │\u001b[33m \u001b[0m\u001b[33m     9\u001b[0m\u001b[33m \u001b[0m│\u001b[32m \u001b[0m\u001b[32m\"bright_red\"\u001b[0m\u001b[32m \u001b[0m│\u001b[34m \u001b[0m\u001b[34m       \u001b[0m\u001b[34m \u001b[0m│\u001b[35m \u001b[0m\u001b[35m            \u001b[0m\u001b[35m \u001b[0m│\n",
      "│ \u001b[102m          \u001b[0m │\u001b[33m \u001b[0m\u001b[33m    10\u001b[0m\u001b[33m \u001b[0m│\u001b[32m \u001b[0m\u001b[32m\"bright_gre…\u001b[0m\u001b[32m \u001b[0m│\u001b[34m \u001b[0m\u001b[34m       \u001b[0m\u001b[34m \u001b[0m│\u001b[35m \u001b[0m\u001b[35m            \u001b[0m\u001b[35m \u001b[0m│\n",
      "│ \u001b[103m          \u001b[0m │\u001b[33m \u001b[0m\u001b[33m    11\u001b[0m\u001b[33m \u001b[0m│\u001b[32m \u001b[0m\u001b[32m\"bright_yel…\u001b[0m\u001b[32m \u001b[0m│\u001b[34m \u001b[0m\u001b[34m       \u001b[0m\u001b[34m \u001b[0m│\u001b[35m \u001b[0m\u001b[35m            \u001b[0m\u001b[35m \u001b[0m│\n",
      "│ \u001b[104m          \u001b[0m │\u001b[33m \u001b[0m\u001b[33m    12\u001b[0m\u001b[33m \u001b[0m│\u001b[32m \u001b[0m\u001b[32m\"bright_blu…\u001b[0m\u001b[32m \u001b[0m│\u001b[34m \u001b[0m\u001b[34m       \u001b[0m\u001b[34m \u001b[0m│\u001b[35m \u001b[0m\u001b[35m            \u001b[0m\u001b[35m \u001b[0m│\n",
      "│ \u001b[105m          \u001b[0m │\u001b[33m \u001b[0m\u001b[33m    13\u001b[0m\u001b[33m \u001b[0m│\u001b[32m \u001b[0m\u001b[32m\"bright_mag…\u001b[0m\u001b[32m \u001b[0m│\u001b[34m \u001b[0m\u001b[34m       \u001b[0m\u001b[34m \u001b[0m│\u001b[35m \u001b[0m\u001b[35m            \u001b[0m\u001b[35m \u001b[0m│\n",
      "│ \u001b[106m          \u001b[0m │\u001b[33m \u001b[0m\u001b[33m    14\u001b[0m\u001b[33m \u001b[0m│\u001b[32m \u001b[0m\u001b[32m\"bright_cya…\u001b[0m\u001b[32m \u001b[0m│\u001b[34m \u001b[0m\u001b[34m       \u001b[0m\u001b[34m \u001b[0m│\u001b[35m \u001b[0m\u001b[35m            \u001b[0m\u001b[35m \u001b[0m│\n",
      "│ \u001b[107m          \u001b[0m │\u001b[33m \u001b[0m\u001b[33m    15\u001b[0m\u001b[33m \u001b[0m│\u001b[32m \u001b[0m\u001b[32m\"bright_whi…\u001b[0m\u001b[32m \u001b[0m│\u001b[34m \u001b[0m\u001b[34m       \u001b[0m\u001b[34m \u001b[0m│\u001b[35m \u001b[0m\u001b[35m            \u001b[0m\u001b[35m \u001b[0m│\n",
      "│ \u001b[48;5;16m          \u001b[0m │\u001b[33m \u001b[0m\u001b[33m    16\u001b[0m\u001b[33m \u001b[0m│\u001b[32m \u001b[0m\u001b[32m\"gray0\"     \u001b[0m\u001b[32m \u001b[0m│\u001b[34m \u001b[0m\u001b[34m#000000\u001b[0m\u001b[34m \u001b[0m│\u001b[35m \u001b[0m\u001b[35mrgb(0,0,0)  \u001b[0m\u001b[35m \u001b[0m│\n",
      "│ \u001b[48;5;17m          \u001b[0m │\u001b[33m \u001b[0m\u001b[33m    17\u001b[0m\u001b[33m \u001b[0m│\u001b[32m \u001b[0m\u001b[32m\"navy_blue\" \u001b[0m\u001b[32m \u001b[0m│\u001b[34m \u001b[0m\u001b[34m#00005f\u001b[0m\u001b[34m \u001b[0m│\u001b[35m \u001b[0m\u001b[35mrgb(0,0,95) \u001b[0m\u001b[35m \u001b[0m│\n",
      "│ \u001b[48;5;18m          \u001b[0m │\u001b[33m \u001b[0m\u001b[33m    18\u001b[0m\u001b[33m \u001b[0m│\u001b[32m \u001b[0m\u001b[32m\"dark_blue\" \u001b[0m\u001b[32m \u001b[0m│\u001b[34m \u001b[0m\u001b[34m#000087\u001b[0m\u001b[34m \u001b[0m│\u001b[35m \u001b[0m\u001b[35mrgb(0,0,135)\u001b[0m\u001b[35m \u001b[0m│\n",
      "│ \u001b[48;5;20m          \u001b[0m │\u001b[33m \u001b[0m\u001b[33m    20\u001b[0m\u001b[33m \u001b[0m│\u001b[32m \u001b[0m\u001b[32m\"blue3\"     \u001b[0m\u001b[32m \u001b[0m│\u001b[34m \u001b[0m\u001b[34m#0000d7\u001b[0m\u001b[34m \u001b[0m│\u001b[35m \u001b[0m\u001b[35mrgb(0,0,215)\u001b[0m\u001b[35m \u001b[0m│\n",
      "│ \u001b[48;5;21m          \u001b[0m │\u001b[33m \u001b[0m\u001b[33m    21\u001b[0m\u001b[33m \u001b[0m│\u001b[32m \u001b[0m\u001b[32m\"blue1\"     \u001b[0m\u001b[32m \u001b[0m│\u001b[34m \u001b[0m\u001b[34m#0000ff\u001b[0m\u001b[34m \u001b[0m│\u001b[35m \u001b[0m\u001b[35mrgb(0,0,255)\u001b[0m\u001b[35m \u001b[0m│\n",
      "│ \u001b[48;5;22m          \u001b[0m │\u001b[33m \u001b[0m\u001b[33m    22\u001b[0m\u001b[33m \u001b[0m│\u001b[32m \u001b[0m\u001b[32m\"dark_green\"\u001b[0m\u001b[32m \u001b[0m│\u001b[34m \u001b[0m\u001b[34m#005f00\u001b[0m\u001b[34m \u001b[0m│\u001b[35m \u001b[0m\u001b[35mrgb(0,95,0) \u001b[0m\u001b[35m \u001b[0m│\n",
      "│ \u001b[48;5;25m          \u001b[0m │\u001b[33m \u001b[0m\u001b[33m    25\u001b[0m\u001b[33m \u001b[0m│\u001b[32m \u001b[0m\u001b[32m\"deep_sky_b…\u001b[0m\u001b[32m \u001b[0m│\u001b[34m \u001b[0m\u001b[34m#005faf\u001b[0m\u001b[34m \u001b[0m│\u001b[35m \u001b[0m\u001b[35mrgb(0,95,17…\u001b[0m\u001b[35m \u001b[0m│\n",
      "│ \u001b[48;5;26m          \u001b[0m │\u001b[33m \u001b[0m\u001b[33m    26\u001b[0m\u001b[33m \u001b[0m│\u001b[32m \u001b[0m\u001b[32m\"dodger_blu…\u001b[0m\u001b[32m \u001b[0m│\u001b[34m \u001b[0m\u001b[34m#005fd7\u001b[0m\u001b[34m \u001b[0m│\u001b[35m \u001b[0m\u001b[35mrgb(0,95,21…\u001b[0m\u001b[35m \u001b[0m│\n",
      "│ \u001b[48;5;27m          \u001b[0m │\u001b[33m \u001b[0m\u001b[33m    27\u001b[0m\u001b[33m \u001b[0m│\u001b[32m \u001b[0m\u001b[32m\"dodger_blu…\u001b[0m\u001b[32m \u001b[0m│\u001b[34m \u001b[0m\u001b[34m#005fff\u001b[0m\u001b[34m \u001b[0m│\u001b[35m \u001b[0m\u001b[35mrgb(0,95,25…\u001b[0m\u001b[35m \u001b[0m│\n",
      "│ \u001b[48;5;28m          \u001b[0m │\u001b[33m \u001b[0m\u001b[33m    28\u001b[0m\u001b[33m \u001b[0m│\u001b[32m \u001b[0m\u001b[32m\"green4\"    \u001b[0m\u001b[32m \u001b[0m│\u001b[34m \u001b[0m\u001b[34m#008700\u001b[0m\u001b[34m \u001b[0m│\u001b[35m \u001b[0m\u001b[35mrgb(0,135,0)\u001b[0m\u001b[35m \u001b[0m│\n",
      "│ \u001b[48;5;29m          \u001b[0m │\u001b[33m \u001b[0m\u001b[33m    29\u001b[0m\u001b[33m \u001b[0m│\u001b[32m \u001b[0m\u001b[32m\"spring_gre…\u001b[0m\u001b[32m \u001b[0m│\u001b[34m \u001b[0m\u001b[34m#00875f\u001b[0m\u001b[34m \u001b[0m│\u001b[35m \u001b[0m\u001b[35mrgb(0,135,9…\u001b[0m\u001b[35m \u001b[0m│\n",
      "│ \u001b[48;5;30m          \u001b[0m │\u001b[33m \u001b[0m\u001b[33m    30\u001b[0m\u001b[33m \u001b[0m│\u001b[32m \u001b[0m\u001b[32m\"turquoise4\"\u001b[0m\u001b[32m \u001b[0m│\u001b[34m \u001b[0m\u001b[34m#008787\u001b[0m\u001b[34m \u001b[0m│\u001b[35m \u001b[0m\u001b[35mrgb(0,135,1…\u001b[0m\u001b[35m \u001b[0m│\n",
      "│ \u001b[48;5;32m          \u001b[0m │\u001b[33m \u001b[0m\u001b[33m    32\u001b[0m\u001b[33m \u001b[0m│\u001b[32m \u001b[0m\u001b[32m\"deep_sky_b…\u001b[0m\u001b[32m \u001b[0m│\u001b[34m \u001b[0m\u001b[34m#0087d7\u001b[0m\u001b[34m \u001b[0m│\u001b[35m \u001b[0m\u001b[35mrgb(0,135,2…\u001b[0m\u001b[35m \u001b[0m│\n",
      "│ \u001b[48;5;33m          \u001b[0m │\u001b[33m \u001b[0m\u001b[33m    33\u001b[0m\u001b[33m \u001b[0m│\u001b[32m \u001b[0m\u001b[32m\"dodger_blu…\u001b[0m\u001b[32m \u001b[0m│\u001b[34m \u001b[0m\u001b[34m#0087ff\u001b[0m\u001b[34m \u001b[0m│\u001b[35m \u001b[0m\u001b[35mrgb(0,135,2…\u001b[0m\u001b[35m \u001b[0m│\n",
      "│ \u001b[48;5;36m          \u001b[0m │\u001b[33m \u001b[0m\u001b[33m    36\u001b[0m\u001b[33m \u001b[0m│\u001b[32m \u001b[0m\u001b[32m\"dark_cyan\" \u001b[0m\u001b[32m \u001b[0m│\u001b[34m \u001b[0m\u001b[34m#00af87\u001b[0m\u001b[34m \u001b[0m│\u001b[35m \u001b[0m\u001b[35mrgb(0,175,1…\u001b[0m\u001b[35m \u001b[0m│\n",
      "│ \u001b[48;5;37m          \u001b[0m │\u001b[33m \u001b[0m\u001b[33m    37\u001b[0m\u001b[33m \u001b[0m│\u001b[32m \u001b[0m\u001b[32m\"light_sea_…\u001b[0m\u001b[32m \u001b[0m│\u001b[34m \u001b[0m\u001b[34m#00afaf\u001b[0m\u001b[34m \u001b[0m│\u001b[35m \u001b[0m\u001b[35mrgb(0,175,1…\u001b[0m\u001b[35m \u001b[0m│\n",
      "│ \u001b[48;5;38m          \u001b[0m │\u001b[33m \u001b[0m\u001b[33m    38\u001b[0m\u001b[33m \u001b[0m│\u001b[32m \u001b[0m\u001b[32m\"deep_sky_b…\u001b[0m\u001b[32m \u001b[0m│\u001b[34m \u001b[0m\u001b[34m#00afd7\u001b[0m\u001b[34m \u001b[0m│\u001b[35m \u001b[0m\u001b[35mrgb(0,175,2…\u001b[0m\u001b[35m \u001b[0m│\n",
      "│ \u001b[48;5;39m          \u001b[0m │\u001b[33m \u001b[0m\u001b[33m    39\u001b[0m\u001b[33m \u001b[0m│\u001b[32m \u001b[0m\u001b[32m\"deep_sky_b…\u001b[0m\u001b[32m \u001b[0m│\u001b[34m \u001b[0m\u001b[34m#00afff\u001b[0m\u001b[34m \u001b[0m│\u001b[35m \u001b[0m\u001b[35mrgb(0,175,2…\u001b[0m\u001b[35m \u001b[0m│\n",
      "│ \u001b[48;5;40m          \u001b[0m │\u001b[33m \u001b[0m\u001b[33m    40\u001b[0m\u001b[33m \u001b[0m│\u001b[32m \u001b[0m\u001b[32m\"green3\"    \u001b[0m\u001b[32m \u001b[0m│\u001b[34m \u001b[0m\u001b[34m#00d700\u001b[0m\u001b[34m \u001b[0m│\u001b[35m \u001b[0m\u001b[35mrgb(0,215,0)\u001b[0m\u001b[35m \u001b[0m│\n",
      "│ \u001b[48;5;41m          \u001b[0m │\u001b[33m \u001b[0m\u001b[33m    41\u001b[0m\u001b[33m \u001b[0m│\u001b[32m \u001b[0m\u001b[32m\"spring_gre…\u001b[0m\u001b[32m \u001b[0m│\u001b[34m \u001b[0m\u001b[34m#00d75f\u001b[0m\u001b[34m \u001b[0m│\u001b[35m \u001b[0m\u001b[35mrgb(0,215,9…\u001b[0m\u001b[35m \u001b[0m│\n",
      "│ \u001b[48;5;43m          \u001b[0m │\u001b[33m \u001b[0m\u001b[33m    43\u001b[0m\u001b[33m \u001b[0m│\u001b[32m \u001b[0m\u001b[32m\"cyan3\"     \u001b[0m\u001b[32m \u001b[0m│\u001b[34m \u001b[0m\u001b[34m#00d7af\u001b[0m\u001b[34m \u001b[0m│\u001b[35m \u001b[0m\u001b[35mrgb(0,215,1…\u001b[0m\u001b[35m \u001b[0m│\n",
      "│ \u001b[48;5;44m          \u001b[0m │\u001b[33m \u001b[0m\u001b[33m    44\u001b[0m\u001b[33m \u001b[0m│\u001b[32m \u001b[0m\u001b[32m\"dark_turqu…\u001b[0m\u001b[32m \u001b[0m│\u001b[34m \u001b[0m\u001b[34m#00d7d7\u001b[0m\u001b[34m \u001b[0m│\u001b[35m \u001b[0m\u001b[35mrgb(0,215,2…\u001b[0m\u001b[35m \u001b[0m│\n",
      "│ \u001b[48;5;45m          \u001b[0m │\u001b[33m \u001b[0m\u001b[33m    45\u001b[0m\u001b[33m \u001b[0m│\u001b[32m \u001b[0m\u001b[32m\"turquoise2\"\u001b[0m\u001b[32m \u001b[0m│\u001b[34m \u001b[0m\u001b[34m#00d7ff\u001b[0m\u001b[34m \u001b[0m│\u001b[35m \u001b[0m\u001b[35mrgb(0,215,2…\u001b[0m\u001b[35m \u001b[0m│\n",
      "│ \u001b[48;5;46m          \u001b[0m │\u001b[33m \u001b[0m\u001b[33m    46\u001b[0m\u001b[33m \u001b[0m│\u001b[32m \u001b[0m\u001b[32m\"green1\"    \u001b[0m\u001b[32m \u001b[0m│\u001b[34m \u001b[0m\u001b[34m#00ff00\u001b[0m\u001b[34m \u001b[0m│\u001b[35m \u001b[0m\u001b[35mrgb(0,255,0)\u001b[0m\u001b[35m \u001b[0m│\n",
      "│ \u001b[48;5;47m          \u001b[0m │\u001b[33m \u001b[0m\u001b[33m    47\u001b[0m\u001b[33m \u001b[0m│\u001b[32m \u001b[0m\u001b[32m\"spring_gre…\u001b[0m\u001b[32m \u001b[0m│\u001b[34m \u001b[0m\u001b[34m#00ff5f\u001b[0m\u001b[34m \u001b[0m│\u001b[35m \u001b[0m\u001b[35mrgb(0,255,9…\u001b[0m\u001b[35m \u001b[0m│\n",
      "│ \u001b[48;5;48m          \u001b[0m │\u001b[33m \u001b[0m\u001b[33m    48\u001b[0m\u001b[33m \u001b[0m│\u001b[32m \u001b[0m\u001b[32m\"spring_gre…\u001b[0m\u001b[32m \u001b[0m│\u001b[34m \u001b[0m\u001b[34m#00ff87\u001b[0m\u001b[34m \u001b[0m│\u001b[35m \u001b[0m\u001b[35mrgb(0,255,1…\u001b[0m\u001b[35m \u001b[0m│\n",
      "│ \u001b[48;5;49m          \u001b[0m │\u001b[33m \u001b[0m\u001b[33m    49\u001b[0m\u001b[33m \u001b[0m│\u001b[32m \u001b[0m\u001b[32m\"medium_spr…\u001b[0m\u001b[32m \u001b[0m│\u001b[34m \u001b[0m\u001b[34m#00ffaf\u001b[0m\u001b[34m \u001b[0m│\u001b[35m \u001b[0m\u001b[35mrgb(0,255,1…\u001b[0m\u001b[35m \u001b[0m│\n",
      "│ \u001b[48;5;50m          \u001b[0m │\u001b[33m \u001b[0m\u001b[33m    50\u001b[0m\u001b[33m \u001b[0m│\u001b[32m \u001b[0m\u001b[32m\"cyan2\"     \u001b[0m\u001b[32m \u001b[0m│\u001b[34m \u001b[0m\u001b[34m#00ffd7\u001b[0m\u001b[34m \u001b[0m│\u001b[35m \u001b[0m\u001b[35mrgb(0,255,2…\u001b[0m\u001b[35m \u001b[0m│\n",
      "│ \u001b[48;5;51m          \u001b[0m │\u001b[33m \u001b[0m\u001b[33m    51\u001b[0m\u001b[33m \u001b[0m│\u001b[32m \u001b[0m\u001b[32m\"cyan1\"     \u001b[0m\u001b[32m \u001b[0m│\u001b[34m \u001b[0m\u001b[34m#00ffff\u001b[0m\u001b[34m \u001b[0m│\u001b[35m \u001b[0m\u001b[35mrgb(0,255,2…\u001b[0m\u001b[35m \u001b[0m│\n",
      "│ \u001b[48;5;55m          \u001b[0m │\u001b[33m \u001b[0m\u001b[33m    55\u001b[0m\u001b[33m \u001b[0m│\u001b[32m \u001b[0m\u001b[32m\"purple4\"   \u001b[0m\u001b[32m \u001b[0m│\u001b[34m \u001b[0m\u001b[34m#5f00af\u001b[0m\u001b[34m \u001b[0m│\u001b[35m \u001b[0m\u001b[35mrgb(95,0,17…\u001b[0m\u001b[35m \u001b[0m│\n",
      "│ \u001b[48;5;56m          \u001b[0m │\u001b[33m \u001b[0m\u001b[33m    56\u001b[0m\u001b[33m \u001b[0m│\u001b[32m \u001b[0m\u001b[32m\"purple3\"   \u001b[0m\u001b[32m \u001b[0m│\u001b[34m \u001b[0m\u001b[34m#5f00d7\u001b[0m\u001b[34m \u001b[0m│\u001b[35m \u001b[0m\u001b[35mrgb(95,0,21…\u001b[0m\u001b[35m \u001b[0m│\n",
      "│ \u001b[48;5;57m          \u001b[0m │\u001b[33m \u001b[0m\u001b[33m    57\u001b[0m\u001b[33m \u001b[0m│\u001b[32m \u001b[0m\u001b[32m\"blue_viole…\u001b[0m\u001b[32m \u001b[0m│\u001b[34m \u001b[0m\u001b[34m#5f00ff\u001b[0m\u001b[34m \u001b[0m│\u001b[35m \u001b[0m\u001b[35mrgb(95,0,25…\u001b[0m\u001b[35m \u001b[0m│\n",
      "│ \u001b[48;5;59m          \u001b[0m │\u001b[33m \u001b[0m\u001b[33m    59\u001b[0m\u001b[33m \u001b[0m│\u001b[32m \u001b[0m\u001b[32m\"gray37\"    \u001b[0m\u001b[32m \u001b[0m│\u001b[34m \u001b[0m\u001b[34m#5f5f5f\u001b[0m\u001b[34m \u001b[0m│\u001b[35m \u001b[0m\u001b[35mrgb(95,95,9…\u001b[0m\u001b[35m \u001b[0m│\n",
      "│ \u001b[48;5;60m          \u001b[0m │\u001b[33m \u001b[0m\u001b[33m    60\u001b[0m\u001b[33m \u001b[0m│\u001b[32m \u001b[0m\u001b[32m\"medium_pur…\u001b[0m\u001b[32m \u001b[0m│\u001b[34m \u001b[0m\u001b[34m#5f5f87\u001b[0m\u001b[34m \u001b[0m│\u001b[35m \u001b[0m\u001b[35mrgb(95,95,1…\u001b[0m\u001b[35m \u001b[0m│\n",
      "│ \u001b[48;5;62m          \u001b[0m │\u001b[33m \u001b[0m\u001b[33m    62\u001b[0m\u001b[33m \u001b[0m│\u001b[32m \u001b[0m\u001b[32m\"slate_blue…\u001b[0m\u001b[32m \u001b[0m│\u001b[34m \u001b[0m\u001b[34m#5f5fd7\u001b[0m\u001b[34m \u001b[0m│\u001b[35m \u001b[0m\u001b[35mrgb(95,95,2…\u001b[0m\u001b[35m \u001b[0m│\n",
      "│ \u001b[48;5;63m          \u001b[0m │\u001b[33m \u001b[0m\u001b[33m    63\u001b[0m\u001b[33m \u001b[0m│\u001b[32m \u001b[0m\u001b[32m\"royal_blue…\u001b[0m\u001b[32m \u001b[0m│\u001b[34m \u001b[0m\u001b[34m#5f5fff\u001b[0m\u001b[34m \u001b[0m│\u001b[35m \u001b[0m\u001b[35mrgb(95,95,2…\u001b[0m\u001b[35m \u001b[0m│\n",
      "│ \u001b[48;5;64m          \u001b[0m │\u001b[33m \u001b[0m\u001b[33m    64\u001b[0m\u001b[33m \u001b[0m│\u001b[32m \u001b[0m\u001b[32m\"chartreuse…\u001b[0m\u001b[32m \u001b[0m│\u001b[34m \u001b[0m\u001b[34m#5f8700\u001b[0m\u001b[34m \u001b[0m│\u001b[35m \u001b[0m\u001b[35mrgb(95,135,…\u001b[0m\u001b[35m \u001b[0m│\n",
      "│ \u001b[48;5;66m          \u001b[0m │\u001b[33m \u001b[0m\u001b[33m    66\u001b[0m\u001b[33m \u001b[0m│\u001b[32m \u001b[0m\u001b[32m\"pale_turqu…\u001b[0m\u001b[32m \u001b[0m│\u001b[34m \u001b[0m\u001b[34m#5f8787\u001b[0m\u001b[34m \u001b[0m│\u001b[35m \u001b[0m\u001b[35mrgb(95,135,…\u001b[0m\u001b[35m \u001b[0m│\n",
      "│ \u001b[48;5;67m          \u001b[0m │\u001b[33m \u001b[0m\u001b[33m    67\u001b[0m\u001b[33m \u001b[0m│\u001b[32m \u001b[0m\u001b[32m\"steel_blue\"\u001b[0m\u001b[32m \u001b[0m│\u001b[34m \u001b[0m\u001b[34m#5f87af\u001b[0m\u001b[34m \u001b[0m│\u001b[35m \u001b[0m\u001b[35mrgb(95,135,…\u001b[0m\u001b[35m \u001b[0m│\n",
      "│ \u001b[48;5;68m          \u001b[0m │\u001b[33m \u001b[0m\u001b[33m    68\u001b[0m\u001b[33m \u001b[0m│\u001b[32m \u001b[0m\u001b[32m\"steel_blue…\u001b[0m\u001b[32m \u001b[0m│\u001b[34m \u001b[0m\u001b[34m#5f87d7\u001b[0m\u001b[34m \u001b[0m│\u001b[35m \u001b[0m\u001b[35mrgb(95,135,…\u001b[0m\u001b[35m \u001b[0m│\n",
      "│ \u001b[48;5;69m          \u001b[0m │\u001b[33m \u001b[0m\u001b[33m    69\u001b[0m\u001b[33m \u001b[0m│\u001b[32m \u001b[0m\u001b[32m\"cornflower…\u001b[0m\u001b[32m \u001b[0m│\u001b[34m \u001b[0m\u001b[34m#5f87ff\u001b[0m\u001b[34m \u001b[0m│\u001b[35m \u001b[0m\u001b[35mrgb(95,135,…\u001b[0m\u001b[35m \u001b[0m│\n",
      "│ \u001b[48;5;71m          \u001b[0m │\u001b[33m \u001b[0m\u001b[33m    71\u001b[0m\u001b[33m \u001b[0m│\u001b[32m \u001b[0m\u001b[32m\"dark_sea_g…\u001b[0m\u001b[32m \u001b[0m│\u001b[34m \u001b[0m\u001b[34m#5faf5f\u001b[0m\u001b[34m \u001b[0m│\u001b[35m \u001b[0m\u001b[35mrgb(95,175,…\u001b[0m\u001b[35m \u001b[0m│\n",
      "│ \u001b[48;5;73m          \u001b[0m │\u001b[33m \u001b[0m\u001b[33m    73\u001b[0m\u001b[33m \u001b[0m│\u001b[32m \u001b[0m\u001b[32m\"cadet_blue\"\u001b[0m\u001b[32m \u001b[0m│\u001b[34m \u001b[0m\u001b[34m#5fafaf\u001b[0m\u001b[34m \u001b[0m│\u001b[35m \u001b[0m\u001b[35mrgb(95,175,…\u001b[0m\u001b[35m \u001b[0m│\n",
      "│ \u001b[48;5;74m          \u001b[0m │\u001b[33m \u001b[0m\u001b[33m    74\u001b[0m\u001b[33m \u001b[0m│\u001b[32m \u001b[0m\u001b[32m\"sky_blue3\" \u001b[0m\u001b[32m \u001b[0m│\u001b[34m \u001b[0m\u001b[34m#5fafd7\u001b[0m\u001b[34m \u001b[0m│\u001b[35m \u001b[0m\u001b[35mrgb(95,175,…\u001b[0m\u001b[35m \u001b[0m│\n",
      "│ \u001b[48;5;76m          \u001b[0m │\u001b[33m \u001b[0m\u001b[33m    76\u001b[0m\u001b[33m \u001b[0m│\u001b[32m \u001b[0m\u001b[32m\"chartreuse…\u001b[0m\u001b[32m \u001b[0m│\u001b[34m \u001b[0m\u001b[34m#5fd700\u001b[0m\u001b[34m \u001b[0m│\u001b[35m \u001b[0m\u001b[35mrgb(95,215,…\u001b[0m\u001b[35m \u001b[0m│\n",
      "│ \u001b[48;5;78m          \u001b[0m │\u001b[33m \u001b[0m\u001b[33m    78\u001b[0m\u001b[33m \u001b[0m│\u001b[32m \u001b[0m\u001b[32m\"sea_green3\"\u001b[0m\u001b[32m \u001b[0m│\u001b[34m \u001b[0m\u001b[34m#5fd787\u001b[0m\u001b[34m \u001b[0m│\u001b[35m \u001b[0m\u001b[35mrgb(95,215,…\u001b[0m\u001b[35m \u001b[0m│\n",
      "│ \u001b[48;5;79m          \u001b[0m │\u001b[33m \u001b[0m\u001b[33m    79\u001b[0m\u001b[33m \u001b[0m│\u001b[32m \u001b[0m\u001b[32m\"aquamarine…\u001b[0m\u001b[32m \u001b[0m│\u001b[34m \u001b[0m\u001b[34m#5fd7af\u001b[0m\u001b[34m \u001b[0m│\u001b[35m \u001b[0m\u001b[35mrgb(95,215,…\u001b[0m\u001b[35m \u001b[0m│\n",
      "│ \u001b[48;5;80m          \u001b[0m │\u001b[33m \u001b[0m\u001b[33m    80\u001b[0m\u001b[33m \u001b[0m│\u001b[32m \u001b[0m\u001b[32m\"medium_tur…\u001b[0m\u001b[32m \u001b[0m│\u001b[34m \u001b[0m\u001b[34m#5fd7d7\u001b[0m\u001b[34m \u001b[0m│\u001b[35m \u001b[0m\u001b[35mrgb(95,215,…\u001b[0m\u001b[35m \u001b[0m│\n",
      "│ \u001b[48;5;81m          \u001b[0m │\u001b[33m \u001b[0m\u001b[33m    81\u001b[0m\u001b[33m \u001b[0m│\u001b[32m \u001b[0m\u001b[32m\"steel_blue…\u001b[0m\u001b[32m \u001b[0m│\u001b[34m \u001b[0m\u001b[34m#5fd7ff\u001b[0m\u001b[34m \u001b[0m│\u001b[35m \u001b[0m\u001b[35mrgb(95,215,…\u001b[0m\u001b[35m \u001b[0m│\n",
      "│ \u001b[48;5;83m          \u001b[0m │\u001b[33m \u001b[0m\u001b[33m    83\u001b[0m\u001b[33m \u001b[0m│\u001b[32m \u001b[0m\u001b[32m\"sea_green2\"\u001b[0m\u001b[32m \u001b[0m│\u001b[34m \u001b[0m\u001b[34m#5fff5f\u001b[0m\u001b[34m \u001b[0m│\u001b[35m \u001b[0m\u001b[35mrgb(95,255,…\u001b[0m\u001b[35m \u001b[0m│\n",
      "│ \u001b[48;5;85m          \u001b[0m │\u001b[33m \u001b[0m\u001b[33m    85\u001b[0m\u001b[33m \u001b[0m│\u001b[32m \u001b[0m\u001b[32m\"sea_green1\"\u001b[0m\u001b[32m \u001b[0m│\u001b[34m \u001b[0m\u001b[34m#5fffaf\u001b[0m\u001b[34m \u001b[0m│\u001b[35m \u001b[0m\u001b[35mrgb(95,255,…\u001b[0m\u001b[35m \u001b[0m│\n",
      "│ \u001b[48;5;87m          \u001b[0m │\u001b[33m \u001b[0m\u001b[33m    87\u001b[0m\u001b[33m \u001b[0m│\u001b[32m \u001b[0m\u001b[32m\"dark_slate…\u001b[0m\u001b[32m \u001b[0m│\u001b[34m \u001b[0m\u001b[34m#5fffff\u001b[0m\u001b[34m \u001b[0m│\u001b[35m \u001b[0m\u001b[35mrgb(95,255,…\u001b[0m\u001b[35m \u001b[0m│\n",
      "│ \u001b[48;5;88m          \u001b[0m │\u001b[33m \u001b[0m\u001b[33m    88\u001b[0m\u001b[33m \u001b[0m│\u001b[32m \u001b[0m\u001b[32m\"dark_red\"  \u001b[0m\u001b[32m \u001b[0m│\u001b[34m \u001b[0m\u001b[34m#870000\u001b[0m\u001b[34m \u001b[0m│\u001b[35m \u001b[0m\u001b[35mrgb(135,0,0)\u001b[0m\u001b[35m \u001b[0m│\n",
      "│ \u001b[48;5;91m          \u001b[0m │\u001b[33m \u001b[0m\u001b[33m    91\u001b[0m\u001b[33m \u001b[0m│\u001b[32m \u001b[0m\u001b[32m\"dark_magen…\u001b[0m\u001b[32m \u001b[0m│\u001b[34m \u001b[0m\u001b[34m#8700af\u001b[0m\u001b[34m \u001b[0m│\u001b[35m \u001b[0m\u001b[35mrgb(135,0,1…\u001b[0m\u001b[35m \u001b[0m│\n",
      "│ \u001b[48;5;94m          \u001b[0m │\u001b[33m \u001b[0m\u001b[33m    94\u001b[0m\u001b[33m \u001b[0m│\u001b[32m \u001b[0m\u001b[32m\"orange4\"   \u001b[0m\u001b[32m \u001b[0m│\u001b[34m \u001b[0m\u001b[34m#875f00\u001b[0m\u001b[34m \u001b[0m│\u001b[35m \u001b[0m\u001b[35mrgb(135,95,…\u001b[0m\u001b[35m \u001b[0m│\n",
      "│ \u001b[48;5;95m          \u001b[0m │\u001b[33m \u001b[0m\u001b[33m    95\u001b[0m\u001b[33m \u001b[0m│\u001b[32m \u001b[0m\u001b[32m\"light_pink…\u001b[0m\u001b[32m \u001b[0m│\u001b[34m \u001b[0m\u001b[34m#875f5f\u001b[0m\u001b[34m \u001b[0m│\u001b[35m \u001b[0m\u001b[35mrgb(135,95,…\u001b[0m\u001b[35m \u001b[0m│\n",
      "│ \u001b[48;5;96m          \u001b[0m │\u001b[33m \u001b[0m\u001b[33m    96\u001b[0m\u001b[33m \u001b[0m│\u001b[32m \u001b[0m\u001b[32m\"plum4\"     \u001b[0m\u001b[32m \u001b[0m│\u001b[34m \u001b[0m\u001b[34m#875f87\u001b[0m\u001b[34m \u001b[0m│\u001b[35m \u001b[0m\u001b[35mrgb(135,95,…\u001b[0m\u001b[35m \u001b[0m│\n",
      "│ \u001b[48;5;98m          \u001b[0m │\u001b[33m \u001b[0m\u001b[33m    98\u001b[0m\u001b[33m \u001b[0m│\u001b[32m \u001b[0m\u001b[32m\"medium_pur…\u001b[0m\u001b[32m \u001b[0m│\u001b[34m \u001b[0m\u001b[34m#875fd7\u001b[0m\u001b[34m \u001b[0m│\u001b[35m \u001b[0m\u001b[35mrgb(135,95,…\u001b[0m\u001b[35m \u001b[0m│\n",
      "│ \u001b[48;5;99m          \u001b[0m │\u001b[33m \u001b[0m\u001b[33m    99\u001b[0m\u001b[33m \u001b[0m│\u001b[32m \u001b[0m\u001b[32m\"slate_blue…\u001b[0m\u001b[32m \u001b[0m│\u001b[34m \u001b[0m\u001b[34m#875fff\u001b[0m\u001b[34m \u001b[0m│\u001b[35m \u001b[0m\u001b[35mrgb(135,95,…\u001b[0m\u001b[35m \u001b[0m│\n",
      "│ \u001b[48;5;101m          \u001b[0m │\u001b[33m \u001b[0m\u001b[33m   101\u001b[0m\u001b[33m \u001b[0m│\u001b[32m \u001b[0m\u001b[32m\"wheat4\"    \u001b[0m\u001b[32m \u001b[0m│\u001b[34m \u001b[0m\u001b[34m#87875f\u001b[0m\u001b[34m \u001b[0m│\u001b[35m \u001b[0m\u001b[35mrgb(135,135…\u001b[0m\u001b[35m \u001b[0m│\n",
      "│ \u001b[48;5;102m          \u001b[0m │\u001b[33m \u001b[0m\u001b[33m   102\u001b[0m\u001b[33m \u001b[0m│\u001b[32m \u001b[0m\u001b[32m\"gray53\"    \u001b[0m\u001b[32m \u001b[0m│\u001b[34m \u001b[0m\u001b[34m#878787\u001b[0m\u001b[34m \u001b[0m│\u001b[35m \u001b[0m\u001b[35mrgb(135,135…\u001b[0m\u001b[35m \u001b[0m│\n",
      "│ \u001b[48;5;103m          \u001b[0m │\u001b[33m \u001b[0m\u001b[33m   103\u001b[0m\u001b[33m \u001b[0m│\u001b[32m \u001b[0m\u001b[32m\"light_slat…\u001b[0m\u001b[32m \u001b[0m│\u001b[34m \u001b[0m\u001b[34m#8787af\u001b[0m\u001b[34m \u001b[0m│\u001b[35m \u001b[0m\u001b[35mrgb(135,135…\u001b[0m\u001b[35m \u001b[0m│\n",
      "│ \u001b[48;5;104m          \u001b[0m │\u001b[33m \u001b[0m\u001b[33m   104\u001b[0m\u001b[33m \u001b[0m│\u001b[32m \u001b[0m\u001b[32m\"medium_pur…\u001b[0m\u001b[32m \u001b[0m│\u001b[34m \u001b[0m\u001b[34m#8787d7\u001b[0m\u001b[34m \u001b[0m│\u001b[35m \u001b[0m\u001b[35mrgb(135,135…\u001b[0m\u001b[35m \u001b[0m│\n",
      "│ \u001b[48;5;105m          \u001b[0m │\u001b[33m \u001b[0m\u001b[33m   105\u001b[0m\u001b[33m \u001b[0m│\u001b[32m \u001b[0m\u001b[32m\"light_slat…\u001b[0m\u001b[32m \u001b[0m│\u001b[34m \u001b[0m\u001b[34m#8787ff\u001b[0m\u001b[34m \u001b[0m│\u001b[35m \u001b[0m\u001b[35mrgb(135,135…\u001b[0m\u001b[35m \u001b[0m│\n",
      "│ \u001b[48;5;106m          \u001b[0m │\u001b[33m \u001b[0m\u001b[33m   106\u001b[0m\u001b[33m \u001b[0m│\u001b[32m \u001b[0m\u001b[32m\"yellow4\"   \u001b[0m\u001b[32m \u001b[0m│\u001b[34m \u001b[0m\u001b[34m#87af00\u001b[0m\u001b[34m \u001b[0m│\u001b[35m \u001b[0m\u001b[35mrgb(135,175…\u001b[0m\u001b[35m \u001b[0m│\n",
      "│ \u001b[48;5;108m          \u001b[0m │\u001b[33m \u001b[0m\u001b[33m   108\u001b[0m\u001b[33m \u001b[0m│\u001b[32m \u001b[0m\u001b[32m\"dark_sea_g…\u001b[0m\u001b[32m \u001b[0m│\u001b[34m \u001b[0m\u001b[34m#87af87\u001b[0m\u001b[34m \u001b[0m│\u001b[35m \u001b[0m\u001b[35mrgb(135,175…\u001b[0m\u001b[35m \u001b[0m│\n",
      "│ \u001b[48;5;110m          \u001b[0m │\u001b[33m \u001b[0m\u001b[33m   110\u001b[0m\u001b[33m \u001b[0m│\u001b[32m \u001b[0m\u001b[32m\"light_sky_…\u001b[0m\u001b[32m \u001b[0m│\u001b[34m \u001b[0m\u001b[34m#87afd7\u001b[0m\u001b[34m \u001b[0m│\u001b[35m \u001b[0m\u001b[35mrgb(135,175…\u001b[0m\u001b[35m \u001b[0m│\n",
      "│ \u001b[48;5;111m          \u001b[0m │\u001b[33m \u001b[0m\u001b[33m   111\u001b[0m\u001b[33m \u001b[0m│\u001b[32m \u001b[0m\u001b[32m\"sky_blue2\" \u001b[0m\u001b[32m \u001b[0m│\u001b[34m \u001b[0m\u001b[34m#87afff\u001b[0m\u001b[34m \u001b[0m│\u001b[35m \u001b[0m\u001b[35mrgb(135,175…\u001b[0m\u001b[35m \u001b[0m│\n",
      "│ \u001b[48;5;112m          \u001b[0m │\u001b[33m \u001b[0m\u001b[33m   112\u001b[0m\u001b[33m \u001b[0m│\u001b[32m \u001b[0m\u001b[32m\"chartreuse…\u001b[0m\u001b[32m \u001b[0m│\u001b[34m \u001b[0m\u001b[34m#87d700\u001b[0m\u001b[34m \u001b[0m│\u001b[35m \u001b[0m\u001b[35mrgb(135,215…\u001b[0m\u001b[35m \u001b[0m│\n",
      "│ \u001b[48;5;114m          \u001b[0m │\u001b[33m \u001b[0m\u001b[33m   114\u001b[0m\u001b[33m \u001b[0m│\u001b[32m \u001b[0m\u001b[32m\"pale_green…\u001b[0m\u001b[32m \u001b[0m│\u001b[34m \u001b[0m\u001b[34m#87d787\u001b[0m\u001b[34m \u001b[0m│\u001b[35m \u001b[0m\u001b[35mrgb(135,215…\u001b[0m\u001b[35m \u001b[0m│\n",
      "│ \u001b[48;5;116m          \u001b[0m │\u001b[33m \u001b[0m\u001b[33m   116\u001b[0m\u001b[33m \u001b[0m│\u001b[32m \u001b[0m\u001b[32m\"dark_slate…\u001b[0m\u001b[32m \u001b[0m│\u001b[34m \u001b[0m\u001b[34m#87d7d7\u001b[0m\u001b[34m \u001b[0m│\u001b[35m \u001b[0m\u001b[35mrgb(135,215…\u001b[0m\u001b[35m \u001b[0m│\n",
      "│ \u001b[48;5;117m          \u001b[0m │\u001b[33m \u001b[0m\u001b[33m   117\u001b[0m\u001b[33m \u001b[0m│\u001b[32m \u001b[0m\u001b[32m\"sky_blue1\" \u001b[0m\u001b[32m \u001b[0m│\u001b[34m \u001b[0m\u001b[34m#87d7ff\u001b[0m\u001b[34m \u001b[0m│\u001b[35m \u001b[0m\u001b[35mrgb(135,215…\u001b[0m\u001b[35m \u001b[0m│\n",
      "│ \u001b[48;5;118m          \u001b[0m │\u001b[33m \u001b[0m\u001b[33m   118\u001b[0m\u001b[33m \u001b[0m│\u001b[32m \u001b[0m\u001b[32m\"chartreuse…\u001b[0m\u001b[32m \u001b[0m│\u001b[34m \u001b[0m\u001b[34m#87ff00\u001b[0m\u001b[34m \u001b[0m│\u001b[35m \u001b[0m\u001b[35mrgb(135,255…\u001b[0m\u001b[35m \u001b[0m│\n",
      "│ \u001b[48;5;120m          \u001b[0m │\u001b[33m \u001b[0m\u001b[33m   120\u001b[0m\u001b[33m \u001b[0m│\u001b[32m \u001b[0m\u001b[32m\"light_gree…\u001b[0m\u001b[32m \u001b[0m│\u001b[34m \u001b[0m\u001b[34m#87ff87\u001b[0m\u001b[34m \u001b[0m│\u001b[35m \u001b[0m\u001b[35mrgb(135,255…\u001b[0m\u001b[35m \u001b[0m│\n",
      "│ \u001b[48;5;122m          \u001b[0m │\u001b[33m \u001b[0m\u001b[33m   122\u001b[0m\u001b[33m \u001b[0m│\u001b[32m \u001b[0m\u001b[32m\"aquamarine…\u001b[0m\u001b[32m \u001b[0m│\u001b[34m \u001b[0m\u001b[34m#87ffd7\u001b[0m\u001b[34m \u001b[0m│\u001b[35m \u001b[0m\u001b[35mrgb(135,255…\u001b[0m\u001b[35m \u001b[0m│\n",
      "│ \u001b[48;5;123m          \u001b[0m │\u001b[33m \u001b[0m\u001b[33m   123\u001b[0m\u001b[33m \u001b[0m│\u001b[32m \u001b[0m\u001b[32m\"dark_slate…\u001b[0m\u001b[32m \u001b[0m│\u001b[34m \u001b[0m\u001b[34m#87ffff\u001b[0m\u001b[34m \u001b[0m│\u001b[35m \u001b[0m\u001b[35mrgb(135,255…\u001b[0m\u001b[35m \u001b[0m│\n",
      "│ \u001b[48;5;125m          \u001b[0m │\u001b[33m \u001b[0m\u001b[33m   125\u001b[0m\u001b[33m \u001b[0m│\u001b[32m \u001b[0m\u001b[32m\"deep_pink4\"\u001b[0m\u001b[32m \u001b[0m│\u001b[34m \u001b[0m\u001b[34m#af005f\u001b[0m\u001b[34m \u001b[0m│\u001b[35m \u001b[0m\u001b[35mrgb(175,0,9…\u001b[0m\u001b[35m \u001b[0m│\n",
      "│ \u001b[48;5;126m          \u001b[0m │\u001b[33m \u001b[0m\u001b[33m   126\u001b[0m\u001b[33m \u001b[0m│\u001b[32m \u001b[0m\u001b[32m\"medium_vio…\u001b[0m\u001b[32m \u001b[0m│\u001b[34m \u001b[0m\u001b[34m#af0087\u001b[0m\u001b[34m \u001b[0m│\u001b[35m \u001b[0m\u001b[35mrgb(175,0,1…\u001b[0m\u001b[35m \u001b[0m│\n",
      "│ \u001b[48;5;128m          \u001b[0m │\u001b[33m \u001b[0m\u001b[33m   128\u001b[0m\u001b[33m \u001b[0m│\u001b[32m \u001b[0m\u001b[32m\"dark_viole…\u001b[0m\u001b[32m \u001b[0m│\u001b[34m \u001b[0m\u001b[34m#af00d7\u001b[0m\u001b[34m \u001b[0m│\u001b[35m \u001b[0m\u001b[35mrgb(175,0,2…\u001b[0m\u001b[35m \u001b[0m│\n",
      "│ \u001b[48;5;129m          \u001b[0m │\u001b[33m \u001b[0m\u001b[33m   129\u001b[0m\u001b[33m \u001b[0m│\u001b[32m \u001b[0m\u001b[32m\"purple\"    \u001b[0m\u001b[32m \u001b[0m│\u001b[34m \u001b[0m\u001b[34m#af00ff\u001b[0m\u001b[34m \u001b[0m│\u001b[35m \u001b[0m\u001b[35mrgb(175,0,2…\u001b[0m\u001b[35m \u001b[0m│\n",
      "│ \u001b[48;5;133m          \u001b[0m │\u001b[33m \u001b[0m\u001b[33m   133\u001b[0m\u001b[33m \u001b[0m│\u001b[32m \u001b[0m\u001b[32m\"medium_orc…\u001b[0m\u001b[32m \u001b[0m│\u001b[34m \u001b[0m\u001b[34m#af5faf\u001b[0m\u001b[34m \u001b[0m│\u001b[35m \u001b[0m\u001b[35mrgb(175,95,…\u001b[0m\u001b[35m \u001b[0m│\n",
      "│ \u001b[48;5;134m          \u001b[0m │\u001b[33m \u001b[0m\u001b[33m   134\u001b[0m\u001b[33m \u001b[0m│\u001b[32m \u001b[0m\u001b[32m\"medium_orc…\u001b[0m\u001b[32m \u001b[0m│\u001b[34m \u001b[0m\u001b[34m#af5fd7\u001b[0m\u001b[34m \u001b[0m│\u001b[35m \u001b[0m\u001b[35mrgb(175,95,…\u001b[0m\u001b[35m \u001b[0m│\n",
      "│ \u001b[48;5;136m          \u001b[0m │\u001b[33m \u001b[0m\u001b[33m   136\u001b[0m\u001b[33m \u001b[0m│\u001b[32m \u001b[0m\u001b[32m\"dark_golde…\u001b[0m\u001b[32m \u001b[0m│\u001b[34m \u001b[0m\u001b[34m#af8700\u001b[0m\u001b[34m \u001b[0m│\u001b[35m \u001b[0m\u001b[35mrgb(175,135…\u001b[0m\u001b[35m \u001b[0m│\n",
      "│ \u001b[48;5;138m          \u001b[0m │\u001b[33m \u001b[0m\u001b[33m   138\u001b[0m\u001b[33m \u001b[0m│\u001b[32m \u001b[0m\u001b[32m\"rosy_brown\"\u001b[0m\u001b[32m \u001b[0m│\u001b[34m \u001b[0m\u001b[34m#af8787\u001b[0m\u001b[34m \u001b[0m│\u001b[35m \u001b[0m\u001b[35mrgb(175,135…\u001b[0m\u001b[35m \u001b[0m│\n",
      "│ \u001b[48;5;139m          \u001b[0m │\u001b[33m \u001b[0m\u001b[33m   139\u001b[0m\u001b[33m \u001b[0m│\u001b[32m \u001b[0m\u001b[32m\"gray63\"    \u001b[0m\u001b[32m \u001b[0m│\u001b[34m \u001b[0m\u001b[34m#af87af\u001b[0m\u001b[34m \u001b[0m│\u001b[35m \u001b[0m\u001b[35mrgb(175,135…\u001b[0m\u001b[35m \u001b[0m│\n",
      "│ \u001b[48;5;140m          \u001b[0m │\u001b[33m \u001b[0m\u001b[33m   140\u001b[0m\u001b[33m \u001b[0m│\u001b[32m \u001b[0m\u001b[32m\"medium_pur…\u001b[0m\u001b[32m \u001b[0m│\u001b[34m \u001b[0m\u001b[34m#af87d7\u001b[0m\u001b[34m \u001b[0m│\u001b[35m \u001b[0m\u001b[35mrgb(175,135…\u001b[0m\u001b[35m \u001b[0m│\n",
      "│ \u001b[48;5;141m          \u001b[0m │\u001b[33m \u001b[0m\u001b[33m   141\u001b[0m\u001b[33m \u001b[0m│\u001b[32m \u001b[0m\u001b[32m\"medium_pur…\u001b[0m\u001b[32m \u001b[0m│\u001b[34m \u001b[0m\u001b[34m#af87ff\u001b[0m\u001b[34m \u001b[0m│\u001b[35m \u001b[0m\u001b[35mrgb(175,135…\u001b[0m\u001b[35m \u001b[0m│\n",
      "│ \u001b[48;5;143m          \u001b[0m │\u001b[33m \u001b[0m\u001b[33m   143\u001b[0m\u001b[33m \u001b[0m│\u001b[32m \u001b[0m\u001b[32m\"dark_khaki\"\u001b[0m\u001b[32m \u001b[0m│\u001b[34m \u001b[0m\u001b[34m#afaf5f\u001b[0m\u001b[34m \u001b[0m│\u001b[35m \u001b[0m\u001b[35mrgb(175,175…\u001b[0m\u001b[35m \u001b[0m│\n",
      "│ \u001b[48;5;144m          \u001b[0m │\u001b[33m \u001b[0m\u001b[33m   144\u001b[0m\u001b[33m \u001b[0m│\u001b[32m \u001b[0m\u001b[32m\"navajo_whi…\u001b[0m\u001b[32m \u001b[0m│\u001b[34m \u001b[0m\u001b[34m#afaf87\u001b[0m\u001b[34m \u001b[0m│\u001b[35m \u001b[0m\u001b[35mrgb(175,175…\u001b[0m\u001b[35m \u001b[0m│\n",
      "│ \u001b[48;5;145m          \u001b[0m │\u001b[33m \u001b[0m\u001b[33m   145\u001b[0m\u001b[33m \u001b[0m│\u001b[32m \u001b[0m\u001b[32m\"gray69\"    \u001b[0m\u001b[32m \u001b[0m│\u001b[34m \u001b[0m\u001b[34m#afafaf\u001b[0m\u001b[34m \u001b[0m│\u001b[35m \u001b[0m\u001b[35mrgb(175,175…\u001b[0m\u001b[35m \u001b[0m│\n",
      "│ \u001b[48;5;146m          \u001b[0m │\u001b[33m \u001b[0m\u001b[33m   146\u001b[0m\u001b[33m \u001b[0m│\u001b[32m \u001b[0m\u001b[32m\"light_stee…\u001b[0m\u001b[32m \u001b[0m│\u001b[34m \u001b[0m\u001b[34m#afafd7\u001b[0m\u001b[34m \u001b[0m│\u001b[35m \u001b[0m\u001b[35mrgb(175,175…\u001b[0m\u001b[35m \u001b[0m│\n",
      "│ \u001b[48;5;147m          \u001b[0m │\u001b[33m \u001b[0m\u001b[33m   147\u001b[0m\u001b[33m \u001b[0m│\u001b[32m \u001b[0m\u001b[32m\"light_stee…\u001b[0m\u001b[32m \u001b[0m│\u001b[34m \u001b[0m\u001b[34m#afafff\u001b[0m\u001b[34m \u001b[0m│\u001b[35m \u001b[0m\u001b[35mrgb(175,175…\u001b[0m\u001b[35m \u001b[0m│\n",
      "│ \u001b[48;5;149m          \u001b[0m │\u001b[33m \u001b[0m\u001b[33m   149\u001b[0m\u001b[33m \u001b[0m│\u001b[32m \u001b[0m\u001b[32m\"dark_olive…\u001b[0m\u001b[32m \u001b[0m│\u001b[34m \u001b[0m\u001b[34m#afd75f\u001b[0m\u001b[34m \u001b[0m│\u001b[35m \u001b[0m\u001b[35mrgb(175,215…\u001b[0m\u001b[35m \u001b[0m│\n",
      "│ \u001b[48;5;150m          \u001b[0m │\u001b[33m \u001b[0m\u001b[33m   150\u001b[0m\u001b[33m \u001b[0m│\u001b[32m \u001b[0m\u001b[32m\"dark_sea_g…\u001b[0m\u001b[32m \u001b[0m│\u001b[34m \u001b[0m\u001b[34m#afd787\u001b[0m\u001b[34m \u001b[0m│\u001b[35m \u001b[0m\u001b[35mrgb(175,215…\u001b[0m\u001b[35m \u001b[0m│\n",
      "│ \u001b[48;5;152m          \u001b[0m │\u001b[33m \u001b[0m\u001b[33m   152\u001b[0m\u001b[33m \u001b[0m│\u001b[32m \u001b[0m\u001b[32m\"light_cyan…\u001b[0m\u001b[32m \u001b[0m│\u001b[34m \u001b[0m\u001b[34m#afd7d7\u001b[0m\u001b[34m \u001b[0m│\u001b[35m \u001b[0m\u001b[35mrgb(175,215…\u001b[0m\u001b[35m \u001b[0m│\n",
      "│ \u001b[48;5;153m          \u001b[0m │\u001b[33m \u001b[0m\u001b[33m   153\u001b[0m\u001b[33m \u001b[0m│\u001b[32m \u001b[0m\u001b[32m\"light_sky_…\u001b[0m\u001b[32m \u001b[0m│\u001b[34m \u001b[0m\u001b[34m#afd7ff\u001b[0m\u001b[34m \u001b[0m│\u001b[35m \u001b[0m\u001b[35mrgb(175,215…\u001b[0m\u001b[35m \u001b[0m│\n",
      "│ \u001b[48;5;154m          \u001b[0m │\u001b[33m \u001b[0m\u001b[33m   154\u001b[0m\u001b[33m \u001b[0m│\u001b[32m \u001b[0m\u001b[32m\"green_yell…\u001b[0m\u001b[32m \u001b[0m│\u001b[34m \u001b[0m\u001b[34m#afff00\u001b[0m\u001b[34m \u001b[0m│\u001b[35m \u001b[0m\u001b[35mrgb(175,255…\u001b[0m\u001b[35m \u001b[0m│\n",
      "│ \u001b[48;5;155m          \u001b[0m │\u001b[33m \u001b[0m\u001b[33m   155\u001b[0m\u001b[33m \u001b[0m│\u001b[32m \u001b[0m\u001b[32m\"dark_olive…\u001b[0m\u001b[32m \u001b[0m│\u001b[34m \u001b[0m\u001b[34m#afff5f\u001b[0m\u001b[34m \u001b[0m│\u001b[35m \u001b[0m\u001b[35mrgb(175,255…\u001b[0m\u001b[35m \u001b[0m│\n",
      "│ \u001b[48;5;156m          \u001b[0m │\u001b[33m \u001b[0m\u001b[33m   156\u001b[0m\u001b[33m \u001b[0m│\u001b[32m \u001b[0m\u001b[32m\"pale_green…\u001b[0m\u001b[32m \u001b[0m│\u001b[34m \u001b[0m\u001b[34m#afff87\u001b[0m\u001b[34m \u001b[0m│\u001b[35m \u001b[0m\u001b[35mrgb(175,255…\u001b[0m\u001b[35m \u001b[0m│\n",
      "│ \u001b[48;5;157m          \u001b[0m │\u001b[33m \u001b[0m\u001b[33m   157\u001b[0m\u001b[33m \u001b[0m│\u001b[32m \u001b[0m\u001b[32m\"dark_sea_g…\u001b[0m\u001b[32m \u001b[0m│\u001b[34m \u001b[0m\u001b[34m#afffaf\u001b[0m\u001b[34m \u001b[0m│\u001b[35m \u001b[0m\u001b[35mrgb(175,255…\u001b[0m\u001b[35m \u001b[0m│\n",
      "│ \u001b[48;5;159m          \u001b[0m │\u001b[33m \u001b[0m\u001b[33m   159\u001b[0m\u001b[33m \u001b[0m│\u001b[32m \u001b[0m\u001b[32m\"pale_turqu…\u001b[0m\u001b[32m \u001b[0m│\u001b[34m \u001b[0m\u001b[34m#afffff\u001b[0m\u001b[34m \u001b[0m│\u001b[35m \u001b[0m\u001b[35mrgb(175,255…\u001b[0m\u001b[35m \u001b[0m│\n",
      "│ \u001b[48;5;160m          \u001b[0m │\u001b[33m \u001b[0m\u001b[33m   160\u001b[0m\u001b[33m \u001b[0m│\u001b[32m \u001b[0m\u001b[32m\"red3\"      \u001b[0m\u001b[32m \u001b[0m│\u001b[34m \u001b[0m\u001b[34m#d70000\u001b[0m\u001b[34m \u001b[0m│\u001b[35m \u001b[0m\u001b[35mrgb(215,0,0)\u001b[0m\u001b[35m \u001b[0m│\n",
      "│ \u001b[48;5;162m          \u001b[0m │\u001b[33m \u001b[0m\u001b[33m   162\u001b[0m\u001b[33m \u001b[0m│\u001b[32m \u001b[0m\u001b[32m\"deep_pink3\"\u001b[0m\u001b[32m \u001b[0m│\u001b[34m \u001b[0m\u001b[34m#d70087\u001b[0m\u001b[34m \u001b[0m│\u001b[35m \u001b[0m\u001b[35mrgb(215,0,1…\u001b[0m\u001b[35m \u001b[0m│\n",
      "│ \u001b[48;5;164m          \u001b[0m │\u001b[33m \u001b[0m\u001b[33m   164\u001b[0m\u001b[33m \u001b[0m│\u001b[32m \u001b[0m\u001b[32m\"magenta3\"  \u001b[0m\u001b[32m \u001b[0m│\u001b[34m \u001b[0m\u001b[34m#d700d7\u001b[0m\u001b[34m \u001b[0m│\u001b[35m \u001b[0m\u001b[35mrgb(215,0,2…\u001b[0m\u001b[35m \u001b[0m│\n",
      "│ \u001b[48;5;166m          \u001b[0m │\u001b[33m \u001b[0m\u001b[33m   166\u001b[0m\u001b[33m \u001b[0m│\u001b[32m \u001b[0m\u001b[32m\"dark_orang…\u001b[0m\u001b[32m \u001b[0m│\u001b[34m \u001b[0m\u001b[34m#d75f00\u001b[0m\u001b[34m \u001b[0m│\u001b[35m \u001b[0m\u001b[35mrgb(215,95,…\u001b[0m\u001b[35m \u001b[0m│\n",
      "│ \u001b[48;5;167m          \u001b[0m │\u001b[33m \u001b[0m\u001b[33m   167\u001b[0m\u001b[33m \u001b[0m│\u001b[32m \u001b[0m\u001b[32m\"indian_red\"\u001b[0m\u001b[32m \u001b[0m│\u001b[34m \u001b[0m\u001b[34m#d75f5f\u001b[0m\u001b[34m \u001b[0m│\u001b[35m \u001b[0m\u001b[35mrgb(215,95,…\u001b[0m\u001b[35m \u001b[0m│\n",
      "│ \u001b[48;5;168m          \u001b[0m │\u001b[33m \u001b[0m\u001b[33m   168\u001b[0m\u001b[33m \u001b[0m│\u001b[32m \u001b[0m\u001b[32m\"hot_pink3\" \u001b[0m\u001b[32m \u001b[0m│\u001b[34m \u001b[0m\u001b[34m#d75f87\u001b[0m\u001b[34m \u001b[0m│\u001b[35m \u001b[0m\u001b[35mrgb(215,95,…\u001b[0m\u001b[35m \u001b[0m│\n",
      "│ \u001b[48;5;169m          \u001b[0m │\u001b[33m \u001b[0m\u001b[33m   169\u001b[0m\u001b[33m \u001b[0m│\u001b[32m \u001b[0m\u001b[32m\"hot_pink2\" \u001b[0m\u001b[32m \u001b[0m│\u001b[34m \u001b[0m\u001b[34m#d75faf\u001b[0m\u001b[34m \u001b[0m│\u001b[35m \u001b[0m\u001b[35mrgb(215,95,…\u001b[0m\u001b[35m \u001b[0m│\n",
      "│ \u001b[48;5;170m          \u001b[0m │\u001b[33m \u001b[0m\u001b[33m   170\u001b[0m\u001b[33m \u001b[0m│\u001b[32m \u001b[0m\u001b[32m\"orchid\"    \u001b[0m\u001b[32m \u001b[0m│\u001b[34m \u001b[0m\u001b[34m#d75fd7\u001b[0m\u001b[34m \u001b[0m│\u001b[35m \u001b[0m\u001b[35mrgb(215,95,…\u001b[0m\u001b[35m \u001b[0m│\n",
      "│ \u001b[48;5;172m          \u001b[0m │\u001b[33m \u001b[0m\u001b[33m   172\u001b[0m\u001b[33m \u001b[0m│\u001b[32m \u001b[0m\u001b[32m\"orange3\"   \u001b[0m\u001b[32m \u001b[0m│\u001b[34m \u001b[0m\u001b[34m#d78700\u001b[0m\u001b[34m \u001b[0m│\u001b[35m \u001b[0m\u001b[35mrgb(215,135…\u001b[0m\u001b[35m \u001b[0m│\n",
      "│ \u001b[48;5;173m          \u001b[0m │\u001b[33m \u001b[0m\u001b[33m   173\u001b[0m\u001b[33m \u001b[0m│\u001b[32m \u001b[0m\u001b[32m\"light_salm…\u001b[0m\u001b[32m \u001b[0m│\u001b[34m \u001b[0m\u001b[34m#d7875f\u001b[0m\u001b[34m \u001b[0m│\u001b[35m \u001b[0m\u001b[35mrgb(215,135…\u001b[0m\u001b[35m \u001b[0m│\n",
      "│ \u001b[48;5;174m          \u001b[0m │\u001b[33m \u001b[0m\u001b[33m   174\u001b[0m\u001b[33m \u001b[0m│\u001b[32m \u001b[0m\u001b[32m\"light_pink…\u001b[0m\u001b[32m \u001b[0m│\u001b[34m \u001b[0m\u001b[34m#d78787\u001b[0m\u001b[34m \u001b[0m│\u001b[35m \u001b[0m\u001b[35mrgb(215,135…\u001b[0m\u001b[35m \u001b[0m│\n",
      "│ \u001b[48;5;175m          \u001b[0m │\u001b[33m \u001b[0m\u001b[33m   175\u001b[0m\u001b[33m \u001b[0m│\u001b[32m \u001b[0m\u001b[32m\"pink3\"     \u001b[0m\u001b[32m \u001b[0m│\u001b[34m \u001b[0m\u001b[34m#d787af\u001b[0m\u001b[34m \u001b[0m│\u001b[35m \u001b[0m\u001b[35mrgb(215,135…\u001b[0m\u001b[35m \u001b[0m│\n",
      "│ \u001b[48;5;176m          \u001b[0m │\u001b[33m \u001b[0m\u001b[33m   176\u001b[0m\u001b[33m \u001b[0m│\u001b[32m \u001b[0m\u001b[32m\"plum3\"     \u001b[0m\u001b[32m \u001b[0m│\u001b[34m \u001b[0m\u001b[34m#d787d7\u001b[0m\u001b[34m \u001b[0m│\u001b[35m \u001b[0m\u001b[35mrgb(215,135…\u001b[0m\u001b[35m \u001b[0m│\n",
      "│ \u001b[48;5;177m          \u001b[0m │\u001b[33m \u001b[0m\u001b[33m   177\u001b[0m\u001b[33m \u001b[0m│\u001b[32m \u001b[0m\u001b[32m\"violet\"    \u001b[0m\u001b[32m \u001b[0m│\u001b[34m \u001b[0m\u001b[34m#d787ff\u001b[0m\u001b[34m \u001b[0m│\u001b[35m \u001b[0m\u001b[35mrgb(215,135…\u001b[0m\u001b[35m \u001b[0m│\n",
      "│ \u001b[48;5;178m          \u001b[0m │\u001b[33m \u001b[0m\u001b[33m   178\u001b[0m\u001b[33m \u001b[0m│\u001b[32m \u001b[0m\u001b[32m\"gold3\"     \u001b[0m\u001b[32m \u001b[0m│\u001b[34m \u001b[0m\u001b[34m#d7af00\u001b[0m\u001b[34m \u001b[0m│\u001b[35m \u001b[0m\u001b[35mrgb(215,175…\u001b[0m\u001b[35m \u001b[0m│\n",
      "│ \u001b[48;5;179m          \u001b[0m │\u001b[33m \u001b[0m\u001b[33m   179\u001b[0m\u001b[33m \u001b[0m│\u001b[32m \u001b[0m\u001b[32m\"light_gold…\u001b[0m\u001b[32m \u001b[0m│\u001b[34m \u001b[0m\u001b[34m#d7af5f\u001b[0m\u001b[34m \u001b[0m│\u001b[35m \u001b[0m\u001b[35mrgb(215,175…\u001b[0m\u001b[35m \u001b[0m│\n",
      "│ \u001b[48;5;180m          \u001b[0m │\u001b[33m \u001b[0m\u001b[33m   180\u001b[0m\u001b[33m \u001b[0m│\u001b[32m \u001b[0m\u001b[32m\"tan\"       \u001b[0m\u001b[32m \u001b[0m│\u001b[34m \u001b[0m\u001b[34m#d7af87\u001b[0m\u001b[34m \u001b[0m│\u001b[35m \u001b[0m\u001b[35mrgb(215,175…\u001b[0m\u001b[35m \u001b[0m│\n",
      "│ \u001b[48;5;181m          \u001b[0m │\u001b[33m \u001b[0m\u001b[33m   181\u001b[0m\u001b[33m \u001b[0m│\u001b[32m \u001b[0m\u001b[32m\"misty_rose…\u001b[0m\u001b[32m \u001b[0m│\u001b[34m \u001b[0m\u001b[34m#d7afaf\u001b[0m\u001b[34m \u001b[0m│\u001b[35m \u001b[0m\u001b[35mrgb(215,175…\u001b[0m\u001b[35m \u001b[0m│\n",
      "│ \u001b[48;5;182m          \u001b[0m │\u001b[33m \u001b[0m\u001b[33m   182\u001b[0m\u001b[33m \u001b[0m│\u001b[32m \u001b[0m\u001b[32m\"thistle3\"  \u001b[0m\u001b[32m \u001b[0m│\u001b[34m \u001b[0m\u001b[34m#d7afd7\u001b[0m\u001b[34m \u001b[0m│\u001b[35m \u001b[0m\u001b[35mrgb(215,175…\u001b[0m\u001b[35m \u001b[0m│\n",
      "│ \u001b[48;5;183m          \u001b[0m │\u001b[33m \u001b[0m\u001b[33m   183\u001b[0m\u001b[33m \u001b[0m│\u001b[32m \u001b[0m\u001b[32m\"plum2\"     \u001b[0m\u001b[32m \u001b[0m│\u001b[34m \u001b[0m\u001b[34m#d7afff\u001b[0m\u001b[34m \u001b[0m│\u001b[35m \u001b[0m\u001b[35mrgb(215,175…\u001b[0m\u001b[35m \u001b[0m│\n",
      "│ \u001b[48;5;184m          \u001b[0m │\u001b[33m \u001b[0m\u001b[33m   184\u001b[0m\u001b[33m \u001b[0m│\u001b[32m \u001b[0m\u001b[32m\"yellow3\"   \u001b[0m\u001b[32m \u001b[0m│\u001b[34m \u001b[0m\u001b[34m#d7d700\u001b[0m\u001b[34m \u001b[0m│\u001b[35m \u001b[0m\u001b[35mrgb(215,215…\u001b[0m\u001b[35m \u001b[0m│\n",
      "│ \u001b[48;5;185m          \u001b[0m │\u001b[33m \u001b[0m\u001b[33m   185\u001b[0m\u001b[33m \u001b[0m│\u001b[32m \u001b[0m\u001b[32m\"khaki3\"    \u001b[0m\u001b[32m \u001b[0m│\u001b[34m \u001b[0m\u001b[34m#d7d75f\u001b[0m\u001b[34m \u001b[0m│\u001b[35m \u001b[0m\u001b[35mrgb(215,215…\u001b[0m\u001b[35m \u001b[0m│\n",
      "│ \u001b[48;5;187m          \u001b[0m │\u001b[33m \u001b[0m\u001b[33m   187\u001b[0m\u001b[33m \u001b[0m│\u001b[32m \u001b[0m\u001b[32m\"light_yell…\u001b[0m\u001b[32m \u001b[0m│\u001b[34m \u001b[0m\u001b[34m#d7d7af\u001b[0m\u001b[34m \u001b[0m│\u001b[35m \u001b[0m\u001b[35mrgb(215,215…\u001b[0m\u001b[35m \u001b[0m│\n",
      "│ \u001b[48;5;188m          \u001b[0m │\u001b[33m \u001b[0m\u001b[33m   188\u001b[0m\u001b[33m \u001b[0m│\u001b[32m \u001b[0m\u001b[32m\"gray84\"    \u001b[0m\u001b[32m \u001b[0m│\u001b[34m \u001b[0m\u001b[34m#d7d7d7\u001b[0m\u001b[34m \u001b[0m│\u001b[35m \u001b[0m\u001b[35mrgb(215,215…\u001b[0m\u001b[35m \u001b[0m│\n",
      "│ \u001b[48;5;189m          \u001b[0m │\u001b[33m \u001b[0m\u001b[33m   189\u001b[0m\u001b[33m \u001b[0m│\u001b[32m \u001b[0m\u001b[32m\"light_stee…\u001b[0m\u001b[32m \u001b[0m│\u001b[34m \u001b[0m\u001b[34m#d7d7ff\u001b[0m\u001b[34m \u001b[0m│\u001b[35m \u001b[0m\u001b[35mrgb(215,215…\u001b[0m\u001b[35m \u001b[0m│\n",
      "│ \u001b[48;5;190m          \u001b[0m │\u001b[33m \u001b[0m\u001b[33m   190\u001b[0m\u001b[33m \u001b[0m│\u001b[32m \u001b[0m\u001b[32m\"yellow2\"   \u001b[0m\u001b[32m \u001b[0m│\u001b[34m \u001b[0m\u001b[34m#d7ff00\u001b[0m\u001b[34m \u001b[0m│\u001b[35m \u001b[0m\u001b[35mrgb(215,255…\u001b[0m\u001b[35m \u001b[0m│\n",
      "│ \u001b[48;5;192m          \u001b[0m │\u001b[33m \u001b[0m\u001b[33m   192\u001b[0m\u001b[33m \u001b[0m│\u001b[32m \u001b[0m\u001b[32m\"dark_olive…\u001b[0m\u001b[32m \u001b[0m│\u001b[34m \u001b[0m\u001b[34m#d7ff87\u001b[0m\u001b[34m \u001b[0m│\u001b[35m \u001b[0m\u001b[35mrgb(215,255…\u001b[0m\u001b[35m \u001b[0m│\n",
      "│ \u001b[48;5;193m          \u001b[0m │\u001b[33m \u001b[0m\u001b[33m   193\u001b[0m\u001b[33m \u001b[0m│\u001b[32m \u001b[0m\u001b[32m\"dark_sea_g…\u001b[0m\u001b[32m \u001b[0m│\u001b[34m \u001b[0m\u001b[34m#d7ffaf\u001b[0m\u001b[34m \u001b[0m│\u001b[35m \u001b[0m\u001b[35mrgb(215,255…\u001b[0m\u001b[35m \u001b[0m│\n",
      "│ \u001b[48;5;194m          \u001b[0m │\u001b[33m \u001b[0m\u001b[33m   194\u001b[0m\u001b[33m \u001b[0m│\u001b[32m \u001b[0m\u001b[32m\"honeydew2\" \u001b[0m\u001b[32m \u001b[0m│\u001b[34m \u001b[0m\u001b[34m#d7ffd7\u001b[0m\u001b[34m \u001b[0m│\u001b[35m \u001b[0m\u001b[35mrgb(215,255…\u001b[0m\u001b[35m \u001b[0m│\n",
      "│ \u001b[48;5;195m          \u001b[0m │\u001b[33m \u001b[0m\u001b[33m   195\u001b[0m\u001b[33m \u001b[0m│\u001b[32m \u001b[0m\u001b[32m\"light_cyan…\u001b[0m\u001b[32m \u001b[0m│\u001b[34m \u001b[0m\u001b[34m#d7ffff\u001b[0m\u001b[34m \u001b[0m│\u001b[35m \u001b[0m\u001b[35mrgb(215,255…\u001b[0m\u001b[35m \u001b[0m│\n",
      "│ \u001b[48;5;196m          \u001b[0m │\u001b[33m \u001b[0m\u001b[33m   196\u001b[0m\u001b[33m \u001b[0m│\u001b[32m \u001b[0m\u001b[32m\"red1\"      \u001b[0m\u001b[32m \u001b[0m│\u001b[34m \u001b[0m\u001b[34m#ff0000\u001b[0m\u001b[34m \u001b[0m│\u001b[35m \u001b[0m\u001b[35mrgb(255,0,0)\u001b[0m\u001b[35m \u001b[0m│\n",
      "│ \u001b[48;5;197m          \u001b[0m │\u001b[33m \u001b[0m\u001b[33m   197\u001b[0m\u001b[33m \u001b[0m│\u001b[32m \u001b[0m\u001b[32m\"deep_pink2\"\u001b[0m\u001b[32m \u001b[0m│\u001b[34m \u001b[0m\u001b[34m#ff005f\u001b[0m\u001b[34m \u001b[0m│\u001b[35m \u001b[0m\u001b[35mrgb(255,0,9…\u001b[0m\u001b[35m \u001b[0m│\n",
      "│ \u001b[48;5;199m          \u001b[0m │\u001b[33m \u001b[0m\u001b[33m   199\u001b[0m\u001b[33m \u001b[0m│\u001b[32m \u001b[0m\u001b[32m\"deep_pink1\"\u001b[0m\u001b[32m \u001b[0m│\u001b[34m \u001b[0m\u001b[34m#ff00af\u001b[0m\u001b[34m \u001b[0m│\u001b[35m \u001b[0m\u001b[35mrgb(255,0,1…\u001b[0m\u001b[35m \u001b[0m│\n",
      "│ \u001b[48;5;200m          \u001b[0m │\u001b[33m \u001b[0m\u001b[33m   200\u001b[0m\u001b[33m \u001b[0m│\u001b[32m \u001b[0m\u001b[32m\"magenta2\"  \u001b[0m\u001b[32m \u001b[0m│\u001b[34m \u001b[0m\u001b[34m#ff00d7\u001b[0m\u001b[34m \u001b[0m│\u001b[35m \u001b[0m\u001b[35mrgb(255,0,2…\u001b[0m\u001b[35m \u001b[0m│\n",
      "│ \u001b[48;5;201m          \u001b[0m │\u001b[33m \u001b[0m\u001b[33m   201\u001b[0m\u001b[33m \u001b[0m│\u001b[32m \u001b[0m\u001b[32m\"magenta1\"  \u001b[0m\u001b[32m \u001b[0m│\u001b[34m \u001b[0m\u001b[34m#ff00ff\u001b[0m\u001b[34m \u001b[0m│\u001b[35m \u001b[0m\u001b[35mrgb(255,0,2…\u001b[0m\u001b[35m \u001b[0m│\n",
      "│ \u001b[48;5;202m          \u001b[0m │\u001b[33m \u001b[0m\u001b[33m   202\u001b[0m\u001b[33m \u001b[0m│\u001b[32m \u001b[0m\u001b[32m\"orange_red…\u001b[0m\u001b[32m \u001b[0m│\u001b[34m \u001b[0m\u001b[34m#ff5f00\u001b[0m\u001b[34m \u001b[0m│\u001b[35m \u001b[0m\u001b[35mrgb(255,95,…\u001b[0m\u001b[35m \u001b[0m│\n",
      "│ \u001b[48;5;204m          \u001b[0m │\u001b[33m \u001b[0m\u001b[33m   204\u001b[0m\u001b[33m \u001b[0m│\u001b[32m \u001b[0m\u001b[32m\"indian_red…\u001b[0m\u001b[32m \u001b[0m│\u001b[34m \u001b[0m\u001b[34m#ff5f87\u001b[0m\u001b[34m \u001b[0m│\u001b[35m \u001b[0m\u001b[35mrgb(255,95,…\u001b[0m\u001b[35m \u001b[0m│\n",
      "│ \u001b[48;5;206m          \u001b[0m │\u001b[33m \u001b[0m\u001b[33m   206\u001b[0m\u001b[33m \u001b[0m│\u001b[32m \u001b[0m\u001b[32m\"hot_pink\"  \u001b[0m\u001b[32m \u001b[0m│\u001b[34m \u001b[0m\u001b[34m#ff5fd7\u001b[0m\u001b[34m \u001b[0m│\u001b[35m \u001b[0m\u001b[35mrgb(255,95,…\u001b[0m\u001b[35m \u001b[0m│\n",
      "│ \u001b[48;5;207m          \u001b[0m │\u001b[33m \u001b[0m\u001b[33m   207\u001b[0m\u001b[33m \u001b[0m│\u001b[32m \u001b[0m\u001b[32m\"medium_orc…\u001b[0m\u001b[32m \u001b[0m│\u001b[34m \u001b[0m\u001b[34m#ff5fff\u001b[0m\u001b[34m \u001b[0m│\u001b[35m \u001b[0m\u001b[35mrgb(255,95,…\u001b[0m\u001b[35m \u001b[0m│\n",
      "│ \u001b[48;5;208m          \u001b[0m │\u001b[33m \u001b[0m\u001b[33m   208\u001b[0m\u001b[33m \u001b[0m│\u001b[32m \u001b[0m\u001b[32m\"dark_orang…\u001b[0m\u001b[32m \u001b[0m│\u001b[34m \u001b[0m\u001b[34m#ff8700\u001b[0m\u001b[34m \u001b[0m│\u001b[35m \u001b[0m\u001b[35mrgb(255,135…\u001b[0m\u001b[35m \u001b[0m│\n",
      "│ \u001b[48;5;209m          \u001b[0m │\u001b[33m \u001b[0m\u001b[33m   209\u001b[0m\u001b[33m \u001b[0m│\u001b[32m \u001b[0m\u001b[32m\"salmon1\"   \u001b[0m\u001b[32m \u001b[0m│\u001b[34m \u001b[0m\u001b[34m#ff875f\u001b[0m\u001b[34m \u001b[0m│\u001b[35m \u001b[0m\u001b[35mrgb(255,135…\u001b[0m\u001b[35m \u001b[0m│\n",
      "│ \u001b[48;5;210m          \u001b[0m │\u001b[33m \u001b[0m\u001b[33m   210\u001b[0m\u001b[33m \u001b[0m│\u001b[32m \u001b[0m\u001b[32m\"light_cora…\u001b[0m\u001b[32m \u001b[0m│\u001b[34m \u001b[0m\u001b[34m#ff8787\u001b[0m\u001b[34m \u001b[0m│\u001b[35m \u001b[0m\u001b[35mrgb(255,135…\u001b[0m\u001b[35m \u001b[0m│\n",
      "│ \u001b[48;5;211m          \u001b[0m │\u001b[33m \u001b[0m\u001b[33m   211\u001b[0m\u001b[33m \u001b[0m│\u001b[32m \u001b[0m\u001b[32m\"pale_viole…\u001b[0m\u001b[32m \u001b[0m│\u001b[34m \u001b[0m\u001b[34m#ff87af\u001b[0m\u001b[34m \u001b[0m│\u001b[35m \u001b[0m\u001b[35mrgb(255,135…\u001b[0m\u001b[35m \u001b[0m│\n",
      "│ \u001b[48;5;212m          \u001b[0m │\u001b[33m \u001b[0m\u001b[33m   212\u001b[0m\u001b[33m \u001b[0m│\u001b[32m \u001b[0m\u001b[32m\"orchid2\"   \u001b[0m\u001b[32m \u001b[0m│\u001b[34m \u001b[0m\u001b[34m#ff87d7\u001b[0m\u001b[34m \u001b[0m│\u001b[35m \u001b[0m\u001b[35mrgb(255,135…\u001b[0m\u001b[35m \u001b[0m│\n",
      "│ \u001b[48;5;213m          \u001b[0m │\u001b[33m \u001b[0m\u001b[33m   213\u001b[0m\u001b[33m \u001b[0m│\u001b[32m \u001b[0m\u001b[32m\"orchid1\"   \u001b[0m\u001b[32m \u001b[0m│\u001b[34m \u001b[0m\u001b[34m#ff87ff\u001b[0m\u001b[34m \u001b[0m│\u001b[35m \u001b[0m\u001b[35mrgb(255,135…\u001b[0m\u001b[35m \u001b[0m│\n",
      "│ \u001b[48;5;214m          \u001b[0m │\u001b[33m \u001b[0m\u001b[33m   214\u001b[0m\u001b[33m \u001b[0m│\u001b[32m \u001b[0m\u001b[32m\"orange1\"   \u001b[0m\u001b[32m \u001b[0m│\u001b[34m \u001b[0m\u001b[34m#ffaf00\u001b[0m\u001b[34m \u001b[0m│\u001b[35m \u001b[0m\u001b[35mrgb(255,175…\u001b[0m\u001b[35m \u001b[0m│\n",
      "│ \u001b[48;5;215m          \u001b[0m │\u001b[33m \u001b[0m\u001b[33m   215\u001b[0m\u001b[33m \u001b[0m│\u001b[32m \u001b[0m\u001b[32m\"sandy_brow…\u001b[0m\u001b[32m \u001b[0m│\u001b[34m \u001b[0m\u001b[34m#ffaf5f\u001b[0m\u001b[34m \u001b[0m│\u001b[35m \u001b[0m\u001b[35mrgb(255,175…\u001b[0m\u001b[35m \u001b[0m│\n",
      "│ \u001b[48;5;216m          \u001b[0m │\u001b[33m \u001b[0m\u001b[33m   216\u001b[0m\u001b[33m \u001b[0m│\u001b[32m \u001b[0m\u001b[32m\"light_salm…\u001b[0m\u001b[32m \u001b[0m│\u001b[34m \u001b[0m\u001b[34m#ffaf87\u001b[0m\u001b[34m \u001b[0m│\u001b[35m \u001b[0m\u001b[35mrgb(255,175…\u001b[0m\u001b[35m \u001b[0m│\n",
      "│ \u001b[48;5;217m          \u001b[0m │\u001b[33m \u001b[0m\u001b[33m   217\u001b[0m\u001b[33m \u001b[0m│\u001b[32m \u001b[0m\u001b[32m\"light_pink…\u001b[0m\u001b[32m \u001b[0m│\u001b[34m \u001b[0m\u001b[34m#ffafaf\u001b[0m\u001b[34m \u001b[0m│\u001b[35m \u001b[0m\u001b[35mrgb(255,175…\u001b[0m\u001b[35m \u001b[0m│\n",
      "│ \u001b[48;5;218m          \u001b[0m │\u001b[33m \u001b[0m\u001b[33m   218\u001b[0m\u001b[33m \u001b[0m│\u001b[32m \u001b[0m\u001b[32m\"pink1\"     \u001b[0m\u001b[32m \u001b[0m│\u001b[34m \u001b[0m\u001b[34m#ffafd7\u001b[0m\u001b[34m \u001b[0m│\u001b[35m \u001b[0m\u001b[35mrgb(255,175…\u001b[0m\u001b[35m \u001b[0m│\n",
      "│ \u001b[48;5;219m          \u001b[0m │\u001b[33m \u001b[0m\u001b[33m   219\u001b[0m\u001b[33m \u001b[0m│\u001b[32m \u001b[0m\u001b[32m\"plum1\"     \u001b[0m\u001b[32m \u001b[0m│\u001b[34m \u001b[0m\u001b[34m#ffafff\u001b[0m\u001b[34m \u001b[0m│\u001b[35m \u001b[0m\u001b[35mrgb(255,175…\u001b[0m\u001b[35m \u001b[0m│\n",
      "│ \u001b[48;5;220m          \u001b[0m │\u001b[33m \u001b[0m\u001b[33m   220\u001b[0m\u001b[33m \u001b[0m│\u001b[32m \u001b[0m\u001b[32m\"gold1\"     \u001b[0m\u001b[32m \u001b[0m│\u001b[34m \u001b[0m\u001b[34m#ffd700\u001b[0m\u001b[34m \u001b[0m│\u001b[35m \u001b[0m\u001b[35mrgb(255,215…\u001b[0m\u001b[35m \u001b[0m│\n",
      "│ \u001b[48;5;222m          \u001b[0m │\u001b[33m \u001b[0m\u001b[33m   222\u001b[0m\u001b[33m \u001b[0m│\u001b[32m \u001b[0m\u001b[32m\"light_gold…\u001b[0m\u001b[32m \u001b[0m│\u001b[34m \u001b[0m\u001b[34m#ffd787\u001b[0m\u001b[34m \u001b[0m│\u001b[35m \u001b[0m\u001b[35mrgb(255,215…\u001b[0m\u001b[35m \u001b[0m│\n",
      "│ \u001b[48;5;223m          \u001b[0m │\u001b[33m \u001b[0m\u001b[33m   223\u001b[0m\u001b[33m \u001b[0m│\u001b[32m \u001b[0m\u001b[32m\"navajo_whi…\u001b[0m\u001b[32m \u001b[0m│\u001b[34m \u001b[0m\u001b[34m#ffd7af\u001b[0m\u001b[34m \u001b[0m│\u001b[35m \u001b[0m\u001b[35mrgb(255,215…\u001b[0m\u001b[35m \u001b[0m│\n",
      "│ \u001b[48;5;224m          \u001b[0m │\u001b[33m \u001b[0m\u001b[33m   224\u001b[0m\u001b[33m \u001b[0m│\u001b[32m \u001b[0m\u001b[32m\"misty_rose…\u001b[0m\u001b[32m \u001b[0m│\u001b[34m \u001b[0m\u001b[34m#ffd7d7\u001b[0m\u001b[34m \u001b[0m│\u001b[35m \u001b[0m\u001b[35mrgb(255,215…\u001b[0m\u001b[35m \u001b[0m│\n",
      "│ \u001b[48;5;225m          \u001b[0m │\u001b[33m \u001b[0m\u001b[33m   225\u001b[0m\u001b[33m \u001b[0m│\u001b[32m \u001b[0m\u001b[32m\"thistle1\"  \u001b[0m\u001b[32m \u001b[0m│\u001b[34m \u001b[0m\u001b[34m#ffd7ff\u001b[0m\u001b[34m \u001b[0m│\u001b[35m \u001b[0m\u001b[35mrgb(255,215…\u001b[0m\u001b[35m \u001b[0m│\n",
      "│ \u001b[48;5;226m          \u001b[0m │\u001b[33m \u001b[0m\u001b[33m   226\u001b[0m\u001b[33m \u001b[0m│\u001b[32m \u001b[0m\u001b[32m\"yellow1\"   \u001b[0m\u001b[32m \u001b[0m│\u001b[34m \u001b[0m\u001b[34m#ffff00\u001b[0m\u001b[34m \u001b[0m│\u001b[35m \u001b[0m\u001b[35mrgb(255,255…\u001b[0m\u001b[35m \u001b[0m│\n",
      "│ \u001b[48;5;227m          \u001b[0m │\u001b[33m \u001b[0m\u001b[33m   227\u001b[0m\u001b[33m \u001b[0m│\u001b[32m \u001b[0m\u001b[32m\"light_gold…\u001b[0m\u001b[32m \u001b[0m│\u001b[34m \u001b[0m\u001b[34m#ffff5f\u001b[0m\u001b[34m \u001b[0m│\u001b[35m \u001b[0m\u001b[35mrgb(255,255…\u001b[0m\u001b[35m \u001b[0m│\n",
      "│ \u001b[48;5;228m          \u001b[0m │\u001b[33m \u001b[0m\u001b[33m   228\u001b[0m\u001b[33m \u001b[0m│\u001b[32m \u001b[0m\u001b[32m\"khaki1\"    \u001b[0m\u001b[32m \u001b[0m│\u001b[34m \u001b[0m\u001b[34m#ffff87\u001b[0m\u001b[34m \u001b[0m│\u001b[35m \u001b[0m\u001b[35mrgb(255,255…\u001b[0m\u001b[35m \u001b[0m│\n",
      "│ \u001b[48;5;229m          \u001b[0m │\u001b[33m \u001b[0m\u001b[33m   229\u001b[0m\u001b[33m \u001b[0m│\u001b[32m \u001b[0m\u001b[32m\"wheat1\"    \u001b[0m\u001b[32m \u001b[0m│\u001b[34m \u001b[0m\u001b[34m#ffffaf\u001b[0m\u001b[34m \u001b[0m│\u001b[35m \u001b[0m\u001b[35mrgb(255,255…\u001b[0m\u001b[35m \u001b[0m│\n",
      "│ \u001b[48;5;230m          \u001b[0m │\u001b[33m \u001b[0m\u001b[33m   230\u001b[0m\u001b[33m \u001b[0m│\u001b[32m \u001b[0m\u001b[32m\"cornsilk1\" \u001b[0m\u001b[32m \u001b[0m│\u001b[34m \u001b[0m\u001b[34m#ffffd7\u001b[0m\u001b[34m \u001b[0m│\u001b[35m \u001b[0m\u001b[35mrgb(255,255…\u001b[0m\u001b[35m \u001b[0m│\n",
      "│ \u001b[48;5;231m          \u001b[0m │\u001b[33m \u001b[0m\u001b[33m   231\u001b[0m\u001b[33m \u001b[0m│\u001b[32m \u001b[0m\u001b[32m\"gray100\"   \u001b[0m\u001b[32m \u001b[0m│\u001b[34m \u001b[0m\u001b[34m#ffffff\u001b[0m\u001b[34m \u001b[0m│\u001b[35m \u001b[0m\u001b[35mrgb(255,255…\u001b[0m\u001b[35m \u001b[0m│\n",
      "│ \u001b[48;5;232m          \u001b[0m │\u001b[33m \u001b[0m\u001b[33m   232\u001b[0m\u001b[33m \u001b[0m│\u001b[32m \u001b[0m\u001b[32m\"gray3\"     \u001b[0m\u001b[32m \u001b[0m│\u001b[34m \u001b[0m\u001b[34m#080808\u001b[0m\u001b[34m \u001b[0m│\u001b[35m \u001b[0m\u001b[35mrgb(8,8,8)  \u001b[0m\u001b[35m \u001b[0m│\n",
      "│ \u001b[48;5;233m          \u001b[0m │\u001b[33m \u001b[0m\u001b[33m   233\u001b[0m\u001b[33m \u001b[0m│\u001b[32m \u001b[0m\u001b[32m\"gray7\"     \u001b[0m\u001b[32m \u001b[0m│\u001b[34m \u001b[0m\u001b[34m#121212\u001b[0m\u001b[34m \u001b[0m│\u001b[35m \u001b[0m\u001b[35mrgb(18,18,1…\u001b[0m\u001b[35m \u001b[0m│\n",
      "│ \u001b[48;5;234m          \u001b[0m │\u001b[33m \u001b[0m\u001b[33m   234\u001b[0m\u001b[33m \u001b[0m│\u001b[32m \u001b[0m\u001b[32m\"gray11\"    \u001b[0m\u001b[32m \u001b[0m│\u001b[34m \u001b[0m\u001b[34m#1c1c1c\u001b[0m\u001b[34m \u001b[0m│\u001b[35m \u001b[0m\u001b[35mrgb(28,28,2…\u001b[0m\u001b[35m \u001b[0m│\n",
      "│ \u001b[48;5;235m          \u001b[0m │\u001b[33m \u001b[0m\u001b[33m   235\u001b[0m\u001b[33m \u001b[0m│\u001b[32m \u001b[0m\u001b[32m\"gray15\"    \u001b[0m\u001b[32m \u001b[0m│\u001b[34m \u001b[0m\u001b[34m#262626\u001b[0m\u001b[34m \u001b[0m│\u001b[35m \u001b[0m\u001b[35mrgb(38,38,3…\u001b[0m\u001b[35m \u001b[0m│\n",
      "│ \u001b[48;5;236m          \u001b[0m │\u001b[33m \u001b[0m\u001b[33m   236\u001b[0m\u001b[33m \u001b[0m│\u001b[32m \u001b[0m\u001b[32m\"gray19\"    \u001b[0m\u001b[32m \u001b[0m│\u001b[34m \u001b[0m\u001b[34m#303030\u001b[0m\u001b[34m \u001b[0m│\u001b[35m \u001b[0m\u001b[35mrgb(48,48,4…\u001b[0m\u001b[35m \u001b[0m│\n",
      "│ \u001b[48;5;237m          \u001b[0m │\u001b[33m \u001b[0m\u001b[33m   237\u001b[0m\u001b[33m \u001b[0m│\u001b[32m \u001b[0m\u001b[32m\"gray23\"    \u001b[0m\u001b[32m \u001b[0m│\u001b[34m \u001b[0m\u001b[34m#3a3a3a\u001b[0m\u001b[34m \u001b[0m│\u001b[35m \u001b[0m\u001b[35mrgb(58,58,5…\u001b[0m\u001b[35m \u001b[0m│\n",
      "│ \u001b[48;5;238m          \u001b[0m │\u001b[33m \u001b[0m\u001b[33m   238\u001b[0m\u001b[33m \u001b[0m│\u001b[32m \u001b[0m\u001b[32m\"gray27\"    \u001b[0m\u001b[32m \u001b[0m│\u001b[34m \u001b[0m\u001b[34m#444444\u001b[0m\u001b[34m \u001b[0m│\u001b[35m \u001b[0m\u001b[35mrgb(68,68,6…\u001b[0m\u001b[35m \u001b[0m│\n",
      "│ \u001b[48;5;239m          \u001b[0m │\u001b[33m \u001b[0m\u001b[33m   239\u001b[0m\u001b[33m \u001b[0m│\u001b[32m \u001b[0m\u001b[32m\"gray30\"    \u001b[0m\u001b[32m \u001b[0m│\u001b[34m \u001b[0m\u001b[34m#4e4e4e\u001b[0m\u001b[34m \u001b[0m│\u001b[35m \u001b[0m\u001b[35mrgb(78,78,7…\u001b[0m\u001b[35m \u001b[0m│\n",
      "│ \u001b[48;5;240m          \u001b[0m │\u001b[33m \u001b[0m\u001b[33m   240\u001b[0m\u001b[33m \u001b[0m│\u001b[32m \u001b[0m\u001b[32m\"gray35\"    \u001b[0m\u001b[32m \u001b[0m│\u001b[34m \u001b[0m\u001b[34m#585858\u001b[0m\u001b[34m \u001b[0m│\u001b[35m \u001b[0m\u001b[35mrgb(88,88,8…\u001b[0m\u001b[35m \u001b[0m│\n",
      "│ \u001b[48;5;241m          \u001b[0m │\u001b[33m \u001b[0m\u001b[33m   241\u001b[0m\u001b[33m \u001b[0m│\u001b[32m \u001b[0m\u001b[32m\"gray39\"    \u001b[0m\u001b[32m \u001b[0m│\u001b[34m \u001b[0m\u001b[34m#626262\u001b[0m\u001b[34m \u001b[0m│\u001b[35m \u001b[0m\u001b[35mrgb(98,98,9…\u001b[0m\u001b[35m \u001b[0m│\n",
      "│ \u001b[48;5;242m          \u001b[0m │\u001b[33m \u001b[0m\u001b[33m   242\u001b[0m\u001b[33m \u001b[0m│\u001b[32m \u001b[0m\u001b[32m\"gray42\"    \u001b[0m\u001b[32m \u001b[0m│\u001b[34m \u001b[0m\u001b[34m#6c6c6c\u001b[0m\u001b[34m \u001b[0m│\u001b[35m \u001b[0m\u001b[35mrgb(108,108…\u001b[0m\u001b[35m \u001b[0m│\n",
      "│ \u001b[48;5;243m          \u001b[0m │\u001b[33m \u001b[0m\u001b[33m   243\u001b[0m\u001b[33m \u001b[0m│\u001b[32m \u001b[0m\u001b[32m\"gray46\"    \u001b[0m\u001b[32m \u001b[0m│\u001b[34m \u001b[0m\u001b[34m#767676\u001b[0m\u001b[34m \u001b[0m│\u001b[35m \u001b[0m\u001b[35mrgb(118,118…\u001b[0m\u001b[35m \u001b[0m│\n",
      "│ \u001b[48;5;244m          \u001b[0m │\u001b[33m \u001b[0m\u001b[33m   244\u001b[0m\u001b[33m \u001b[0m│\u001b[32m \u001b[0m\u001b[32m\"gray50\"    \u001b[0m\u001b[32m \u001b[0m│\u001b[34m \u001b[0m\u001b[34m#808080\u001b[0m\u001b[34m \u001b[0m│\u001b[35m \u001b[0m\u001b[35mrgb(128,128…\u001b[0m\u001b[35m \u001b[0m│\n",
      "│ \u001b[48;5;245m          \u001b[0m │\u001b[33m \u001b[0m\u001b[33m   245\u001b[0m\u001b[33m \u001b[0m│\u001b[32m \u001b[0m\u001b[32m\"gray54\"    \u001b[0m\u001b[32m \u001b[0m│\u001b[34m \u001b[0m\u001b[34m#8a8a8a\u001b[0m\u001b[34m \u001b[0m│\u001b[35m \u001b[0m\u001b[35mrgb(138,138…\u001b[0m\u001b[35m \u001b[0m│\n",
      "│ \u001b[48;5;246m          \u001b[0m │\u001b[33m \u001b[0m\u001b[33m   246\u001b[0m\u001b[33m \u001b[0m│\u001b[32m \u001b[0m\u001b[32m\"gray58\"    \u001b[0m\u001b[32m \u001b[0m│\u001b[34m \u001b[0m\u001b[34m#949494\u001b[0m\u001b[34m \u001b[0m│\u001b[35m \u001b[0m\u001b[35mrgb(148,148…\u001b[0m\u001b[35m \u001b[0m│\n",
      "│ \u001b[48;5;247m          \u001b[0m │\u001b[33m \u001b[0m\u001b[33m   247\u001b[0m\u001b[33m \u001b[0m│\u001b[32m \u001b[0m\u001b[32m\"gray62\"    \u001b[0m\u001b[32m \u001b[0m│\u001b[34m \u001b[0m\u001b[34m#9e9e9e\u001b[0m\u001b[34m \u001b[0m│\u001b[35m \u001b[0m\u001b[35mrgb(158,158…\u001b[0m\u001b[35m \u001b[0m│\n",
      "│ \u001b[48;5;248m          \u001b[0m │\u001b[33m \u001b[0m\u001b[33m   248\u001b[0m\u001b[33m \u001b[0m│\u001b[32m \u001b[0m\u001b[32m\"gray66\"    \u001b[0m\u001b[32m \u001b[0m│\u001b[34m \u001b[0m\u001b[34m#a8a8a8\u001b[0m\u001b[34m \u001b[0m│\u001b[35m \u001b[0m\u001b[35mrgb(168,168…\u001b[0m\u001b[35m \u001b[0m│\n",
      "│ \u001b[48;5;249m          \u001b[0m │\u001b[33m \u001b[0m\u001b[33m   249\u001b[0m\u001b[33m \u001b[0m│\u001b[32m \u001b[0m\u001b[32m\"gray70\"    \u001b[0m\u001b[32m \u001b[0m│\u001b[34m \u001b[0m\u001b[34m#b2b2b2\u001b[0m\u001b[34m \u001b[0m│\u001b[35m \u001b[0m\u001b[35mrgb(178,178…\u001b[0m\u001b[35m \u001b[0m│\n",
      "│ \u001b[48;5;250m          \u001b[0m │\u001b[33m \u001b[0m\u001b[33m   250\u001b[0m\u001b[33m \u001b[0m│\u001b[32m \u001b[0m\u001b[32m\"gray74\"    \u001b[0m\u001b[32m \u001b[0m│\u001b[34m \u001b[0m\u001b[34m#bcbcbc\u001b[0m\u001b[34m \u001b[0m│\u001b[35m \u001b[0m\u001b[35mrgb(188,188…\u001b[0m\u001b[35m \u001b[0m│\n",
      "│ \u001b[48;5;251m          \u001b[0m │\u001b[33m \u001b[0m\u001b[33m   251\u001b[0m\u001b[33m \u001b[0m│\u001b[32m \u001b[0m\u001b[32m\"gray78\"    \u001b[0m\u001b[32m \u001b[0m│\u001b[34m \u001b[0m\u001b[34m#c6c6c6\u001b[0m\u001b[34m \u001b[0m│\u001b[35m \u001b[0m\u001b[35mrgb(198,198…\u001b[0m\u001b[35m \u001b[0m│\n",
      "│ \u001b[48;5;252m          \u001b[0m │\u001b[33m \u001b[0m\u001b[33m   252\u001b[0m\u001b[33m \u001b[0m│\u001b[32m \u001b[0m\u001b[32m\"gray82\"    \u001b[0m\u001b[32m \u001b[0m│\u001b[34m \u001b[0m\u001b[34m#d0d0d0\u001b[0m\u001b[34m \u001b[0m│\u001b[35m \u001b[0m\u001b[35mrgb(208,208…\u001b[0m\u001b[35m \u001b[0m│\n",
      "│ \u001b[48;5;253m          \u001b[0m │\u001b[33m \u001b[0m\u001b[33m   253\u001b[0m\u001b[33m \u001b[0m│\u001b[32m \u001b[0m\u001b[32m\"gray85\"    \u001b[0m\u001b[32m \u001b[0m│\u001b[34m \u001b[0m\u001b[34m#dadada\u001b[0m\u001b[34m \u001b[0m│\u001b[35m \u001b[0m\u001b[35mrgb(218,218…\u001b[0m\u001b[35m \u001b[0m│\n",
      "│ \u001b[48;5;254m          \u001b[0m │\u001b[33m \u001b[0m\u001b[33m   254\u001b[0m\u001b[33m \u001b[0m│\u001b[32m \u001b[0m\u001b[32m\"gray89\"    \u001b[0m\u001b[32m \u001b[0m│\u001b[34m \u001b[0m\u001b[34m#e4e4e4\u001b[0m\u001b[34m \u001b[0m│\u001b[35m \u001b[0m\u001b[35mrgb(228,228…\u001b[0m\u001b[35m \u001b[0m│\n",
      "│ \u001b[48;5;255m          \u001b[0m │\u001b[33m \u001b[0m\u001b[33m   255\u001b[0m\u001b[33m \u001b[0m│\u001b[32m \u001b[0m\u001b[32m\"gray93\"    \u001b[0m\u001b[32m \u001b[0m│\u001b[34m \u001b[0m\u001b[34m#eeeeee\u001b[0m\u001b[34m \u001b[0m│\u001b[35m \u001b[0m\u001b[35mrgb(238,238…\u001b[0m\u001b[35m \u001b[0m│\n",
      "└────────────┴────────┴──────────────┴─────────┴──────────────┘\n"
     ]
    }
   ],
   "source": [
    "!python -m rich.color"
   ]
  },
  {
   "cell_type": "code",
   "execution_count": 5,
   "id": "44af2234-b7a4-4aa2-bab2-b106c88706af",
   "metadata": {},
   "outputs": [
    {
     "data": {
      "text/html": [
       "<pre style=\"white-space:pre;overflow-x:auto;line-height:normal;font-family:Menlo,'DejaVu Sans Mono',consolas,'Courier New',monospace\">╔═══════════════════════════════════════════════════════════════════════════════════════════╗\n",
       "║                                         <span style=\"font-weight: bold\">Markdown</span>                                          ║\n",
       "╚═══════════════════════════════════════════════════════════════════════════════════════════╝\n",
       "\n",
       "Podemos renderizar <span style=\"font-weight: bold\">markdown</span> (commonmark)                                                     \n",
       "\n",
       "<span style=\"color: #808000; text-decoration-color: #808000; font-weight: bold\"> • </span>Lista                                                                                     \n",
       "<span style=\"color: #808000; text-decoration-color: #808000; font-weight: bold\">    1 </span>Lista numerada                                                                         \n",
       "<span style=\"color: #808000; text-decoration-color: #808000; font-weight: bold\">    2 </span>Lista numerada                                                                         \n",
       "<span style=\"color: #808000; text-decoration-color: #808000; font-weight: bold\"> • </span>Lista                                                                                     \n",
       "\n",
       "<span style=\"color: #7f7f7f; text-decoration-color: #7f7f7f\">┌───────────────────────────────────────────────────────────────────────────────────────────┐</span>\n",
       "<span style=\"color: #7f7f7f; text-decoration-color: #7f7f7f\">│</span> <span style=\"color: #66d9ef; text-decoration-color: #66d9ef; background-color: #272822\">def</span><span style=\"color: #f8f8f2; text-decoration-color: #f8f8f2; background-color: #272822\"> </span><span style=\"color: #a6e22e; text-decoration-color: #a6e22e; background-color: #272822\">saluda</span><span style=\"color: #f8f8f2; text-decoration-color: #f8f8f2; background-color: #272822\">():</span><span style=\"background-color: #272822\">                                                                            </span> <span style=\"color: #7f7f7f; text-decoration-color: #7f7f7f\">│</span>\n",
       "<span style=\"color: #7f7f7f; text-decoration-color: #7f7f7f\">│</span> <span style=\"color: #f8f8f2; text-decoration-color: #f8f8f2; background-color: #272822\">    print(</span><span style=\"color: #e6db74; text-decoration-color: #e6db74; background-color: #272822\">\"Hola mundo\"</span><span style=\"color: #f8f8f2; text-decoration-color: #f8f8f2; background-color: #272822\">)</span><span style=\"background-color: #272822\">                                                                  </span> <span style=\"color: #7f7f7f; text-decoration-color: #7f7f7f\">│</span>\n",
       "<span style=\"color: #7f7f7f; text-decoration-color: #7f7f7f\">└───────────────────────────────────────────────────────────────────────────────────────────┘</span>\n",
       "</pre>\n"
      ],
      "text/plain": [
       "╔═══════════════════════════════════════════════════════════════════════════════════════════╗\n",
       "║                                         \u001b[1mMarkdown\u001b[0m                                          ║\n",
       "╚═══════════════════════════════════════════════════════════════════════════════════════════╝\n",
       "\n",
       "Podemos renderizar \u001b[1mmarkdown\u001b[0m (commonmark)                                                     \n",
       "\n",
       "\u001b[1;33m • \u001b[0mLista                                                                                     \n",
       "\u001b[1;33m   \u001b[0m\u001b[1;33m 1 \u001b[0mLista numerada                                                                         \n",
       "\u001b[1;33m   \u001b[0m\u001b[1;33m 2 \u001b[0mLista numerada                                                                         \n",
       "\u001b[1;33m • \u001b[0mLista                                                                                     \n",
       "\n",
       "\u001b[2m┌───────────────────────────────────────────────────────────────────────────────────────────┐\u001b[0m\n",
       "\u001b[2m│\u001b[0m \u001b[38;2;102;217;239;48;2;39;40;34mdef\u001b[0m\u001b[38;2;248;248;242;48;2;39;40;34m \u001b[0m\u001b[38;2;166;226;46;48;2;39;40;34msaluda\u001b[0m\u001b[38;2;248;248;242;48;2;39;40;34m(\u001b[0m\u001b[38;2;248;248;242;48;2;39;40;34m)\u001b[0m\u001b[38;2;248;248;242;48;2;39;40;34m:\u001b[0m\u001b[48;2;39;40;34m                                                                            \u001b[0m \u001b[2m│\u001b[0m\n",
       "\u001b[2m│\u001b[0m \u001b[38;2;248;248;242;48;2;39;40;34m    \u001b[0m\u001b[38;2;248;248;242;48;2;39;40;34mprint\u001b[0m\u001b[38;2;248;248;242;48;2;39;40;34m(\u001b[0m\u001b[38;2;230;219;116;48;2;39;40;34m\"\u001b[0m\u001b[38;2;230;219;116;48;2;39;40;34mHola mundo\u001b[0m\u001b[38;2;230;219;116;48;2;39;40;34m\"\u001b[0m\u001b[38;2;248;248;242;48;2;39;40;34m)\u001b[0m\u001b[48;2;39;40;34m                                                                  \u001b[0m \u001b[2m│\u001b[0m\n",
       "\u001b[2m└───────────────────────────────────────────────────────────────────────────────────────────┘\u001b[0m\n"
      ]
     },
     "metadata": {},
     "output_type": "display_data"
    }
   ],
   "source": [
    "# python -m rich.markdown README.md\n",
    "texto = \"\"\"# Markdown\n",
    "\n",
    "Podemos renderizar **markdown** (commonmark)\n",
    "* Lista\n",
    "  1. Lista numerada\n",
    "  1. Lista numerada\n",
    "* Lista\n",
    "\n",
    "``` py\n",
    "def saluda():\n",
    "    print(\"Hola mundo\")\n",
    "```\n",
    "\"\"\"\n",
    "md = rich.markdown.Markdown(texto)\n",
    "rich.print(md)\n"
   ]
  },
  {
   "cell_type": "markdown",
   "id": "9fbc309e-32d6-44d6-a14b-9aa301612217",
   "metadata": {
    "slideshow": {
     "slide_type": "slide"
    },
    "tags": []
   },
   "source": [
    "Puedes imprimir tus datos con resaltado de sintaxis y sangrado automático"
   ]
  },
  {
   "cell_type": "code",
   "execution_count": 6,
   "id": "42f01f68-7956-41b1-bd50-2c528758aaf3",
   "metadata": {},
   "outputs": [
    {
     "data": {
      "text/html": [
       "<pre style=\"white-space:pre;overflow-x:auto;line-height:normal;font-family:Menlo,'DejaVu Sans Mono',consolas,'Courier New',monospace\"><span style=\"font-weight: bold\">{</span>\n",
       "    <span style=\"color: #008000; text-decoration-color: #008000\">'list'</span>: <span style=\"font-weight: bold\">[</span><span style=\"color: #008080; text-decoration-color: #008080; font-weight: bold\">1</span>, <span style=\"color: #008080; text-decoration-color: #008080; font-weight: bold\">2</span>, <span style=\"color: #008080; text-decoration-color: #008080; font-weight: bold\">3</span><span style=\"font-weight: bold\">]</span>,\n",
       "    <span style=\"color: #008000; text-decoration-color: #008000\">'dict'</span>: <span style=\"font-weight: bold\">{</span>\n",
       "        <span style=\"color: #008080; text-decoration-color: #008080; font-weight: bold\">1</span>: <span style=\"color: #008080; text-decoration-color: #008080; font-weight: bold\">1</span>,\n",
       "        <span style=\"color: #008080; text-decoration-color: #008080; font-weight: bold\">2</span>: <span style=\"color: #008080; text-decoration-color: #008080; font-weight: bold\">1267650600228229401496703205376</span>,\n",
       "        <span style=\"color: #008080; text-decoration-color: #008080; font-weight: bold\">3</span>: <span style=\"font-weight: bold\">[</span>\n",
       "            <span style=\"color: #008080; text-decoration-color: #008080; font-weight: bold\">1298074214633706907132624082305024</span>,\n",
       "            <span style=\"color: #008080; text-decoration-color: #008080; font-weight: bold\">9094947017729282379150390625</span>,\n",
       "            <span style=\"color: #008080; text-decoration-color: #008080; font-weight: bold\">221073919720733357899776</span>\n",
       "        <span style=\"font-weight: bold\">]</span>\n",
       "    <span style=\"font-weight: bold\">}</span>,\n",
       "    <span style=\"color: #008000; text-decoration-color: #008000\">'class'</span>: <span style=\"font-weight: bold\">&lt;</span><span style=\"color: #ff00ff; text-decoration-color: #ff00ff; font-weight: bold\">class</span><span style=\"color: #000000; text-decoration-color: #000000\"> </span><span style=\"color: #008000; text-decoration-color: #008000\">'rich.color.Color'</span><span style=\"font-weight: bold\">&gt;</span>,\n",
       "    <span style=\"color: #008000; text-decoration-color: #008000\">'str'</span>: <span style=\"color: #008000; text-decoration-color: #008000\">'bla bla bla bla bla bla bla bla bla bla '</span>\n",
       "<span style=\"font-weight: bold\">}</span>\n",
       "</pre>\n"
      ],
      "text/plain": [
       "\u001b[1m{\u001b[0m\n",
       "    \u001b[32m'list'\u001b[0m: \u001b[1m[\u001b[0m\u001b[1;36m1\u001b[0m, \u001b[1;36m2\u001b[0m, \u001b[1;36m3\u001b[0m\u001b[1m]\u001b[0m,\n",
       "    \u001b[32m'dict'\u001b[0m: \u001b[1m{\u001b[0m\n",
       "        \u001b[1;36m1\u001b[0m: \u001b[1;36m1\u001b[0m,\n",
       "        \u001b[1;36m2\u001b[0m: \u001b[1;36m1267650600228229401496703205376\u001b[0m,\n",
       "        \u001b[1;36m3\u001b[0m: \u001b[1m[\u001b[0m\n",
       "            \u001b[1;36m1298074214633706907132624082305024\u001b[0m,\n",
       "            \u001b[1;36m9094947017729282379150390625\u001b[0m,\n",
       "            \u001b[1;36m221073919720733357899776\u001b[0m\n",
       "        \u001b[1m]\u001b[0m\n",
       "    \u001b[1m}\u001b[0m,\n",
       "    \u001b[32m'class'\u001b[0m: \u001b[1m<\u001b[0m\u001b[1;95mclass\u001b[0m\u001b[39m \u001b[0m\u001b[32m'rich.color.Color'\u001b[0m\u001b[1m>\u001b[0m,\n",
       "    \u001b[32m'str'\u001b[0m: \u001b[32m'bla bla bla bla bla bla bla bla bla bla '\u001b[0m\n",
       "\u001b[1m}\u001b[0m\n"
      ]
     },
     "metadata": {},
     "output_type": "display_data"
    }
   ],
   "source": [
    "datos = {'list':[1,2,3],'dict':{1:1,2:2**100,3:[4**55,5**40,6**30]},\n",
    "            'class':rich.color.Color,'str':'bla '*10}\n",
    "rich.print(datos)"
   ]
  },
  {
   "cell_type": "markdown",
   "id": "0ef7f5ad-cf2c-4c85-aefb-ffa84cabbb23",
   "metadata": {
    "slideshow": {
     "slide_type": "slide"
    },
    "tags": []
   },
   "source": [
    "Bastante util para depurar una variable, mostrando su contenido y métodos con `rich.inspect`."
   ]
  },
  {
   "cell_type": "code",
   "execution_count": 7,
   "id": "72b5c42c-a53e-4ab7-b2b6-28ebc79ec3ae",
   "metadata": {
    "tags": []
   },
   "outputs": [
    {
     "data": {
      "text/html": [
       "<pre style=\"white-space:pre;overflow-x:auto;line-height:normal;font-family:Menlo,'DejaVu Sans Mono',consolas,'Courier New',monospace\"><span style=\"color: #000080; text-decoration-color: #000080\">╭─────────────────────────────── </span><span style=\"color: #000080; text-decoration-color: #000080; font-weight: bold\">&lt;</span><span style=\"color: #ff00ff; text-decoration-color: #ff00ff; font-weight: bold\">class</span><span style=\"color: #000000; text-decoration-color: #000000\"> </span><span style=\"color: #008000; text-decoration-color: #008000\">'rich.color.Color'</span><span style=\"color: #000080; text-decoration-color: #000080; font-weight: bold\">&gt;</span><span style=\"color: #000080; text-decoration-color: #000080\"> ────────────────────────────────╮</span>\n",
       "<span style=\"color: #000080; text-decoration-color: #000080\">│</span> <span style=\"color: #008080; text-decoration-color: #008080\">Terminal color definition.</span>                                                                <span style=\"color: #000080; text-decoration-color: #000080\">│</span>\n",
       "<span style=\"color: #000080; text-decoration-color: #000080\">│</span>                                                                                           <span style=\"color: #000080; text-decoration-color: #000080\">│</span>\n",
       "<span style=\"color: #000080; text-decoration-color: #000080\">│</span> <span style=\"color: #008000; text-decoration-color: #008000\">╭───────────────────────────────────────────────────────────────────────────────────────╮</span> <span style=\"color: #000080; text-decoration-color: #000080\">│</span>\n",
       "<span style=\"color: #000080; text-decoration-color: #000080\">│</span> <span style=\"color: #008000; text-decoration-color: #008000\">│</span> <span style=\"color: #800080; text-decoration-color: #800080; font-weight: bold\">Color</span><span style=\"font-weight: bold\">(</span><span style=\"color: #008000; text-decoration-color: #008000\">'red1'</span>, ColorType.EIGHT_BIT, <span style=\"color: #808000; text-decoration-color: #808000\">number</span>=<span style=\"color: #008080; text-decoration-color: #008080; font-weight: bold\">196</span><span style=\"font-weight: bold\">)</span>                                        <span style=\"color: #008000; text-decoration-color: #008000\">│</span> <span style=\"color: #000080; text-decoration-color: #000080\">│</span>\n",
       "<span style=\"color: #000080; text-decoration-color: #000080\">│</span> <span style=\"color: #008000; text-decoration-color: #008000\">╰───────────────────────────────────────────────────────────────────────────────────────╯</span> <span style=\"color: #000080; text-decoration-color: #000080\">│</span>\n",
       "<span style=\"color: #000080; text-decoration-color: #000080\">│</span>                                                                                           <span style=\"color: #000080; text-decoration-color: #000080\">│</span>\n",
       "<span style=\"color: #000080; text-decoration-color: #000080\">│</span>        <span style=\"color: #808000; text-decoration-color: #808000; font-style: italic\">is_default</span> = <span style=\"color: #ff0000; text-decoration-color: #ff0000; font-style: italic\">False</span>                                                                 <span style=\"color: #000080; text-decoration-color: #000080\">│</span>\n",
       "<span style=\"color: #000080; text-decoration-color: #000080\">│</span> <span style=\"color: #808000; text-decoration-color: #808000; font-style: italic\">is_system_defined</span> = <span style=\"color: #ff0000; text-decoration-color: #ff0000; font-style: italic\">False</span>                                                                 <span style=\"color: #000080; text-decoration-color: #000080\">│</span>\n",
       "<span style=\"color: #000080; text-decoration-color: #000080\">│</span>              <span style=\"color: #808000; text-decoration-color: #808000; font-style: italic\">name</span> = <span style=\"color: #008000; text-decoration-color: #008000\">'red1'</span>                                                                <span style=\"color: #000080; text-decoration-color: #000080\">│</span>\n",
       "<span style=\"color: #000080; text-decoration-color: #000080\">│</span>            <span style=\"color: #808000; text-decoration-color: #808000; font-style: italic\">number</span> = <span style=\"color: #008080; text-decoration-color: #008080; font-weight: bold\">196</span>                                                                   <span style=\"color: #000080; text-decoration-color: #000080\">│</span>\n",
       "<span style=\"color: #000080; text-decoration-color: #000080\">│</span>            <span style=\"color: #808000; text-decoration-color: #808000; font-style: italic\">system</span> = ColorSystem.EIGHT_BIT                                                 <span style=\"color: #000080; text-decoration-color: #000080\">│</span>\n",
       "<span style=\"color: #000080; text-decoration-color: #000080\">│</span>           <span style=\"color: #808000; text-decoration-color: #808000; font-style: italic\">triplet</span> = <span style=\"color: #800080; text-decoration-color: #800080; font-style: italic\">None</span>                                                                  <span style=\"color: #000080; text-decoration-color: #000080\">│</span>\n",
       "<span style=\"color: #000080; text-decoration-color: #000080\">│</span>              <span style=\"color: #808000; text-decoration-color: #808000; font-style: italic\">type</span> = ColorType.EIGHT_BIT                                                   <span style=\"color: #000080; text-decoration-color: #000080\">│</span>\n",
       "<span style=\"color: #000080; text-decoration-color: #000080\">│</span>             <span style=\"color: #808000; text-decoration-color: #808000; font-style: italic\">count</span> = <span style=\"color: #00ffff; text-decoration-color: #00ffff; font-style: italic\">def </span><span style=\"color: #800000; text-decoration-color: #800000; font-weight: bold\">count</span><span style=\"font-weight: bold\">(</span>value, <span style=\"color: #800080; text-decoration-color: #800080\">/</span><span style=\"font-weight: bold\">)</span>: <span style=\"color: #7f7f7f; text-decoration-color: #7f7f7f\">Return number of occurrences of value.</span>           <span style=\"color: #000080; text-decoration-color: #000080\">│</span>\n",
       "<span style=\"color: #000080; text-decoration-color: #000080\">│</span>           <span style=\"color: #808000; text-decoration-color: #808000; font-style: italic\">default</span> = <span style=\"color: #00ffff; text-decoration-color: #00ffff; font-style: italic\">def </span><span style=\"color: #800000; text-decoration-color: #800000; font-weight: bold\">default</span><span style=\"font-weight: bold\">()</span> -&gt; <span style=\"color: #008000; text-decoration-color: #008000\">'Color'</span>: <span style=\"color: #7f7f7f; text-decoration-color: #7f7f7f\">Get a Color instance representing the </span>      <span style=\"color: #000080; text-decoration-color: #000080\">│</span>\n",
       "<span style=\"color: #000080; text-decoration-color: #000080\">│</span>                     <span style=\"color: #7f7f7f; text-decoration-color: #7f7f7f\">default color.</span>                                                        <span style=\"color: #000080; text-decoration-color: #000080\">│</span>\n",
       "<span style=\"color: #000080; text-decoration-color: #000080\">│</span>         <span style=\"color: #808000; text-decoration-color: #808000; font-style: italic\">downgrade</span> = <span style=\"color: #00ffff; text-decoration-color: #00ffff; font-style: italic\">def </span><span style=\"color: #800000; text-decoration-color: #800000; font-weight: bold\">downgrade</span><span style=\"font-weight: bold\">(</span>system: rich.color.ColorSystem<span style=\"font-weight: bold\">)</span> -&gt; <span style=\"color: #008000; text-decoration-color: #008000\">'Color'</span>: <span style=\"color: #7f7f7f; text-decoration-color: #7f7f7f\">Downgrade a</span> <span style=\"color: #000080; text-decoration-color: #000080\">│</span>\n",
       "<span style=\"color: #000080; text-decoration-color: #000080\">│</span>                     <span style=\"color: #7f7f7f; text-decoration-color: #7f7f7f\">color system to a system with fewer colors.</span>                           <span style=\"color: #000080; text-decoration-color: #000080\">│</span>\n",
       "<span style=\"color: #000080; text-decoration-color: #000080\">│</span>         <span style=\"color: #808000; text-decoration-color: #808000; font-style: italic\">from_ansi</span> = <span style=\"color: #00ffff; text-decoration-color: #00ffff; font-style: italic\">def </span><span style=\"color: #800000; text-decoration-color: #800000; font-weight: bold\">from_ansi</span><span style=\"font-weight: bold\">(</span>number: int<span style=\"font-weight: bold\">)</span> -&gt; <span style=\"color: #008000; text-decoration-color: #008000\">'Color'</span>: <span style=\"color: #7f7f7f; text-decoration-color: #7f7f7f\">Create a Color number from </span>    <span style=\"color: #000080; text-decoration-color: #000080\">│</span>\n",
       "<span style=\"color: #000080; text-decoration-color: #000080\">│</span>                     <span style=\"color: #7f7f7f; text-decoration-color: #7f7f7f\">it's </span><span style=\"color: #7fbfbf; text-decoration-color: #7fbfbf; font-weight: bold\">8</span><span style=\"color: #7f7f7f; text-decoration-color: #7f7f7f\">-bit ansi number.</span>                                               <span style=\"color: #000080; text-decoration-color: #000080\">│</span>\n",
       "<span style=\"color: #000080; text-decoration-color: #000080\">│</span>          <span style=\"color: #808000; text-decoration-color: #808000; font-style: italic\">from_rgb</span> = <span style=\"color: #00ffff; text-decoration-color: #00ffff; font-style: italic\">def </span><span style=\"color: #800000; text-decoration-color: #800000; font-weight: bold\">from_rgb</span><span style=\"font-weight: bold\">(</span>red: float, green: float, blue: float<span style=\"font-weight: bold\">)</span> -&gt; <span style=\"color: #008000; text-decoration-color: #008000\">'Color'</span>:       <span style=\"color: #000080; text-decoration-color: #000080\">│</span>\n",
       "<span style=\"color: #000080; text-decoration-color: #000080\">│</span>                     <span style=\"color: #7f7f7f; text-decoration-color: #7f7f7f\">Create a truecolor from three color components in the </span><span style=\"color: #bf7fbf; text-decoration-color: #bf7fbf; font-weight: bold\">range</span><span style=\"color: #7f7f7f; text-decoration-color: #7f7f7f; font-weight: bold\">(</span><span style=\"color: #7fbfbf; text-decoration-color: #7fbfbf; font-weight: bold\">0</span><span style=\"color: #7f7f7f; text-decoration-color: #7f7f7f\">-&gt;</span><span style=\"color: #7fbfbf; text-decoration-color: #7fbfbf; font-weight: bold\">255</span><span style=\"color: #7f7f7f; text-decoration-color: #7f7f7f; font-weight: bold\">)</span><span style=\"color: #7f7f7f; text-decoration-color: #7f7f7f\">.</span>  <span style=\"color: #000080; text-decoration-color: #000080\">│</span>\n",
       "<span style=\"color: #000080; text-decoration-color: #000080\">│</span>      <span style=\"color: #808000; text-decoration-color: #808000; font-style: italic\">from_triplet</span> = <span style=\"color: #00ffff; text-decoration-color: #00ffff; font-style: italic\">def </span><span style=\"color: #800000; text-decoration-color: #800000; font-weight: bold\">from_triplet</span><span style=\"font-weight: bold\">(</span>triplet: <span style=\"color: #008000; text-decoration-color: #008000\">'ColorTriplet'</span><span style=\"font-weight: bold\">)</span> -&gt; <span style=\"color: #008000; text-decoration-color: #008000\">'Color'</span>: <span style=\"color: #7f7f7f; text-decoration-color: #7f7f7f\">Create a </span>       <span style=\"color: #000080; text-decoration-color: #000080\">│</span>\n",
       "<span style=\"color: #000080; text-decoration-color: #000080\">│</span>                     <span style=\"color: #7f7f7f; text-decoration-color: #7f7f7f\">truecolor RGB color from a triplet of values.</span>                         <span style=\"color: #000080; text-decoration-color: #000080\">│</span>\n",
       "<span style=\"color: #000080; text-decoration-color: #000080\">│</span>    <span style=\"color: #808000; text-decoration-color: #808000; font-style: italic\">get_ansi_codes</span> = <span style=\"color: #00ffff; text-decoration-color: #00ffff; font-style: italic\">def </span><span style=\"color: #800000; text-decoration-color: #800000; font-weight: bold\">get_ansi_codes</span><span style=\"font-weight: bold\">(</span>foreground: bool = <span style=\"color: #00ff00; text-decoration-color: #00ff00; font-style: italic\">True</span><span style=\"font-weight: bold\">)</span> -&gt; Tuple<span style=\"font-weight: bold\">[</span>str, <span style=\"color: #808000; text-decoration-color: #808000\">...</span><span style=\"font-weight: bold\">]</span>: <span style=\"color: #7f7f7f; text-decoration-color: #7f7f7f\">Get </span>  <span style=\"color: #000080; text-decoration-color: #000080\">│</span>\n",
       "<span style=\"color: #000080; text-decoration-color: #000080\">│</span>                     <span style=\"color: #7f7f7f; text-decoration-color: #7f7f7f\">the ANSI escape codes for this color.</span>                                 <span style=\"color: #000080; text-decoration-color: #000080\">│</span>\n",
       "<span style=\"color: #000080; text-decoration-color: #000080\">│</span>     <span style=\"color: #808000; text-decoration-color: #808000; font-style: italic\">get_truecolor</span> = <span style=\"color: #00ffff; text-decoration-color: #00ffff; font-style: italic\">def </span><span style=\"color: #800000; text-decoration-color: #800000; font-weight: bold\">get_truecolor</span><span style=\"font-weight: bold\">(</span>theme: Optional<span style=\"font-weight: bold\">[</span><span style=\"color: #800080; text-decoration-color: #800080; font-weight: bold\">ForwardRef</span><span style=\"font-weight: bold\">(</span><span style=\"color: #008000; text-decoration-color: #008000\">'TerminalTheme'</span><span style=\"font-weight: bold\">)]</span> =      <span style=\"color: #000080; text-decoration-color: #000080\">│</span>\n",
       "<span style=\"color: #000080; text-decoration-color: #000080\">│</span>                     <span style=\"color: #800080; text-decoration-color: #800080; font-style: italic\">None</span>, foreground: bool = <span style=\"color: #00ff00; text-decoration-color: #00ff00; font-style: italic\">True</span><span style=\"font-weight: bold\">)</span> -&gt; rich.color_triplet.ColorTriplet:    <span style=\"color: #000080; text-decoration-color: #000080\">│</span>\n",
       "<span style=\"color: #000080; text-decoration-color: #000080\">│</span>                     <span style=\"color: #7f7f7f; text-decoration-color: #7f7f7f\">Get an equivalent color triplet for this color.</span>                       <span style=\"color: #000080; text-decoration-color: #000080\">│</span>\n",
       "<span style=\"color: #000080; text-decoration-color: #000080\">│</span>             <span style=\"color: #808000; text-decoration-color: #808000; font-style: italic\">index</span> = <span style=\"color: #00ffff; text-decoration-color: #00ffff; font-style: italic\">def </span><span style=\"color: #800000; text-decoration-color: #800000; font-weight: bold\">index</span><span style=\"font-weight: bold\">(</span>value, <span style=\"color: #808000; text-decoration-color: #808000\">start</span>=<span style=\"color: #008080; text-decoration-color: #008080; font-weight: bold\">0</span>, <span style=\"color: #808000; text-decoration-color: #808000\">stop</span>=<span style=\"color: #008080; text-decoration-color: #008080; font-weight: bold\">9223372036854775807</span>, <span style=\"color: #800080; text-decoration-color: #800080\">/</span><span style=\"font-weight: bold\">)</span>: <span style=\"color: #7f7f7f; text-decoration-color: #7f7f7f\">Return first </span> <span style=\"color: #000080; text-decoration-color: #000080\">│</span>\n",
       "<span style=\"color: #000080; text-decoration-color: #000080\">│</span>                     <span style=\"color: #7f7f7f; text-decoration-color: #7f7f7f\">index of value.</span>                                                       <span style=\"color: #000080; text-decoration-color: #000080\">│</span>\n",
       "<span style=\"color: #000080; text-decoration-color: #000080\">│</span>             <span style=\"color: #808000; text-decoration-color: #808000; font-style: italic\">parse</span> = <span style=\"color: #00ffff; text-decoration-color: #00ffff; font-style: italic\">def </span><span style=\"color: #800000; text-decoration-color: #800000; font-weight: bold\">parse</span><span style=\"font-weight: bold\">(</span>color: str<span style=\"font-weight: bold\">)</span> -&gt; <span style=\"color: #008000; text-decoration-color: #008000\">'Color'</span>: <span style=\"color: #7f7f7f; text-decoration-color: #7f7f7f\">Parse a color definition.</span>           <span style=\"color: #000080; text-decoration-color: #000080\">│</span>\n",
       "<span style=\"color: #000080; text-decoration-color: #000080\">╰───────────────────────────────────────────────────────────────────────────────────────────╯</span>\n",
       "</pre>\n"
      ],
      "text/plain": [
       "\u001b[34m╭─\u001b[0m\u001b[34m────────────────────────────── \u001b[0m\u001b[1;34m<\u001b[0m\u001b[1;95mclass\u001b[0m\u001b[39m \u001b[0m\u001b[32m'rich.color.Color'\u001b[0m\u001b[1;34m>\u001b[0m\u001b[34m ───────────────────────────────\u001b[0m\u001b[34m─╮\u001b[0m\n",
       "\u001b[34m│\u001b[0m \u001b[36mTerminal color definition.\u001b[0m                                                                \u001b[34m│\u001b[0m\n",
       "\u001b[34m│\u001b[0m                                                                                           \u001b[34m│\u001b[0m\n",
       "\u001b[34m│\u001b[0m \u001b[32m╭───────────────────────────────────────────────────────────────────────────────────────╮\u001b[0m \u001b[34m│\u001b[0m\n",
       "\u001b[34m│\u001b[0m \u001b[32m│\u001b[0m \u001b[1;35mColor\u001b[0m\u001b[1m(\u001b[0m\u001b[32m'red1'\u001b[0m, ColorType.EIGHT_BIT, \u001b[33mnumber\u001b[0m=\u001b[1;36m196\u001b[0m\u001b[1m)\u001b[0m                                        \u001b[32m│\u001b[0m \u001b[34m│\u001b[0m\n",
       "\u001b[34m│\u001b[0m \u001b[32m╰───────────────────────────────────────────────────────────────────────────────────────╯\u001b[0m \u001b[34m│\u001b[0m\n",
       "\u001b[34m│\u001b[0m                                                                                           \u001b[34m│\u001b[0m\n",
       "\u001b[34m│\u001b[0m        \u001b[3;33mis_default\u001b[0m = \u001b[3;91mFalse\u001b[0m                                                                 \u001b[34m│\u001b[0m\n",
       "\u001b[34m│\u001b[0m \u001b[3;33mis_system_defined\u001b[0m = \u001b[3;91mFalse\u001b[0m                                                                 \u001b[34m│\u001b[0m\n",
       "\u001b[34m│\u001b[0m              \u001b[3;33mname\u001b[0m = \u001b[32m'red1'\u001b[0m                                                                \u001b[34m│\u001b[0m\n",
       "\u001b[34m│\u001b[0m            \u001b[3;33mnumber\u001b[0m = \u001b[1;36m196\u001b[0m                                                                   \u001b[34m│\u001b[0m\n",
       "\u001b[34m│\u001b[0m            \u001b[3;33msystem\u001b[0m = ColorSystem.EIGHT_BIT                                                 \u001b[34m│\u001b[0m\n",
       "\u001b[34m│\u001b[0m           \u001b[3;33mtriplet\u001b[0m = \u001b[3;35mNone\u001b[0m                                                                  \u001b[34m│\u001b[0m\n",
       "\u001b[34m│\u001b[0m              \u001b[3;33mtype\u001b[0m = ColorType.EIGHT_BIT                                                   \u001b[34m│\u001b[0m\n",
       "\u001b[34m│\u001b[0m             \u001b[3;33mcount\u001b[0m = \u001b[3;96mdef \u001b[0m\u001b[1;31mcount\u001b[0m\u001b[1m(\u001b[0mvalue, \u001b[35m/\u001b[0m\u001b[1m)\u001b[0m: \u001b[2mReturn number of occurrences of value.\u001b[0m           \u001b[34m│\u001b[0m\n",
       "\u001b[34m│\u001b[0m           \u001b[3;33mdefault\u001b[0m = \u001b[3;96mdef \u001b[0m\u001b[1;31mdefault\u001b[0m\u001b[1m(\u001b[0m\u001b[1m)\u001b[0m -> \u001b[32m'Color'\u001b[0m: \u001b[2mGet a Color instance representing the \u001b[0m      \u001b[34m│\u001b[0m\n",
       "\u001b[34m│\u001b[0m                     \u001b[2mdefault color.\u001b[0m                                                        \u001b[34m│\u001b[0m\n",
       "\u001b[34m│\u001b[0m         \u001b[3;33mdowngrade\u001b[0m = \u001b[3;96mdef \u001b[0m\u001b[1;31mdowngrade\u001b[0m\u001b[1m(\u001b[0msystem: rich.color.ColorSystem\u001b[1m)\u001b[0m -> \u001b[32m'Color'\u001b[0m: \u001b[2mDowngrade a\u001b[0m \u001b[34m│\u001b[0m\n",
       "\u001b[34m│\u001b[0m                     \u001b[2mcolor system to a system with fewer colors.\u001b[0m                           \u001b[34m│\u001b[0m\n",
       "\u001b[34m│\u001b[0m         \u001b[3;33mfrom_ansi\u001b[0m = \u001b[3;96mdef \u001b[0m\u001b[1;31mfrom_ansi\u001b[0m\u001b[1m(\u001b[0mnumber: int\u001b[1m)\u001b[0m -> \u001b[32m'Color'\u001b[0m: \u001b[2mCreate a Color number from \u001b[0m    \u001b[34m│\u001b[0m\n",
       "\u001b[34m│\u001b[0m                     \u001b[2mit's \u001b[0m\u001b[1;2;36m8\u001b[0m\u001b[2m-bit ansi number.\u001b[0m                                               \u001b[34m│\u001b[0m\n",
       "\u001b[34m│\u001b[0m          \u001b[3;33mfrom_rgb\u001b[0m = \u001b[3;96mdef \u001b[0m\u001b[1;31mfrom_rgb\u001b[0m\u001b[1m(\u001b[0mred: float, green: float, blue: float\u001b[1m)\u001b[0m -> \u001b[32m'Color'\u001b[0m:       \u001b[34m│\u001b[0m\n",
       "\u001b[34m│\u001b[0m                     \u001b[2mCreate a truecolor from three color components in the \u001b[0m\u001b[1;2;35mrange\u001b[0m\u001b[1;2m(\u001b[0m\u001b[1;2;36m0\u001b[0m\u001b[2m->\u001b[0m\u001b[1;2;36m255\u001b[0m\u001b[1;2m)\u001b[0m\u001b[2m.\u001b[0m  \u001b[34m│\u001b[0m\n",
       "\u001b[34m│\u001b[0m      \u001b[3;33mfrom_triplet\u001b[0m = \u001b[3;96mdef \u001b[0m\u001b[1;31mfrom_triplet\u001b[0m\u001b[1m(\u001b[0mtriplet: \u001b[32m'ColorTriplet'\u001b[0m\u001b[1m)\u001b[0m -> \u001b[32m'Color'\u001b[0m: \u001b[2mCreate a \u001b[0m       \u001b[34m│\u001b[0m\n",
       "\u001b[34m│\u001b[0m                     \u001b[2mtruecolor RGB color from a triplet of values.\u001b[0m                         \u001b[34m│\u001b[0m\n",
       "\u001b[34m│\u001b[0m    \u001b[3;33mget_ansi_codes\u001b[0m = \u001b[3;96mdef \u001b[0m\u001b[1;31mget_ansi_codes\u001b[0m\u001b[1m(\u001b[0mforeground: bool = \u001b[3;92mTrue\u001b[0m\u001b[1m)\u001b[0m -> Tuple\u001b[1m[\u001b[0mstr, \u001b[33m...\u001b[0m\u001b[1m]\u001b[0m: \u001b[2mGet \u001b[0m  \u001b[34m│\u001b[0m\n",
       "\u001b[34m│\u001b[0m                     \u001b[2mthe ANSI escape codes for this color.\u001b[0m                                 \u001b[34m│\u001b[0m\n",
       "\u001b[34m│\u001b[0m     \u001b[3;33mget_truecolor\u001b[0m = \u001b[3;96mdef \u001b[0m\u001b[1;31mget_truecolor\u001b[0m\u001b[1m(\u001b[0mtheme: Optional\u001b[1m[\u001b[0m\u001b[1;35mForwardRef\u001b[0m\u001b[1m(\u001b[0m\u001b[32m'TerminalTheme'\u001b[0m\u001b[1m)\u001b[0m\u001b[1m]\u001b[0m =      \u001b[34m│\u001b[0m\n",
       "\u001b[34m│\u001b[0m                     \u001b[3;35mNone\u001b[0m, foreground: bool = \u001b[3;92mTrue\u001b[0m\u001b[1m)\u001b[0m -> rich.color_triplet.ColorTriplet:    \u001b[34m│\u001b[0m\n",
       "\u001b[34m│\u001b[0m                     \u001b[2mGet an equivalent color triplet for this color.\u001b[0m                       \u001b[34m│\u001b[0m\n",
       "\u001b[34m│\u001b[0m             \u001b[3;33mindex\u001b[0m = \u001b[3;96mdef \u001b[0m\u001b[1;31mindex\u001b[0m\u001b[1m(\u001b[0mvalue, \u001b[33mstart\u001b[0m=\u001b[1;36m0\u001b[0m, \u001b[33mstop\u001b[0m=\u001b[1;36m9223372036854775807\u001b[0m, \u001b[35m/\u001b[0m\u001b[1m)\u001b[0m: \u001b[2mReturn first \u001b[0m \u001b[34m│\u001b[0m\n",
       "\u001b[34m│\u001b[0m                     \u001b[2mindex of value.\u001b[0m                                                       \u001b[34m│\u001b[0m\n",
       "\u001b[34m│\u001b[0m             \u001b[3;33mparse\u001b[0m = \u001b[3;96mdef \u001b[0m\u001b[1;31mparse\u001b[0m\u001b[1m(\u001b[0mcolor: str\u001b[1m)\u001b[0m -> \u001b[32m'Color'\u001b[0m: \u001b[2mParse a color definition.\u001b[0m           \u001b[34m│\u001b[0m\n",
       "\u001b[34m╰───────────────────────────────────────────────────────────────────────────────────────────╯\u001b[0m\n"
      ]
     },
     "metadata": {},
     "output_type": "display_data"
    }
   ],
   "source": [
    "color = rich.color.Color.parse(\"red1\")\n",
    "rich.inspect(color, methods=True)"
   ]
  },
  {
   "cell_type": "markdown",
   "id": "b8fb8aa8-3489-4577-a453-4d22c4365980",
   "metadata": {
    "slideshow": {
     "slide_type": "slide"
    },
    "tags": []
   },
   "source": [
    "### Emojis"
   ]
  },
  {
   "cell_type": "code",
   "execution_count": 8,
   "id": "cc11113d-d6bd-4556-8976-a3ed0062e54b",
   "metadata": {
    "slideshow": {
     "slide_type": "fragment"
    },
    "tags": []
   },
   "outputs": [
    {
     "data": {
      "text/html": [
       "<pre style=\"white-space:pre;overflow-x:auto;line-height:normal;font-family:Menlo,'DejaVu Sans Mono',consolas,'Courier New',monospace\">🤔 💡 🐍 😁 👍\n",
       "</pre>\n"
      ],
      "text/plain": [
       "🤔 💡 🐍 😁 👍\n"
      ]
     },
     "metadata": {},
     "output_type": "display_data"
    }
   ],
   "source": [
    "# python -m rich.emoji\n",
    "rich.print(\":thinking_face: :light_bulb: :snake: \"\n",
    "           \":beaming_face_with_smiling_eyes: :+1:\")"
   ]
  },
  {
   "cell_type": "code",
   "execution_count": 9,
   "id": "447db34b-de08-424f-a730-2027405406e3",
   "metadata": {
    "slideshow": {
     "slide_type": "fragment"
    },
    "tags": []
   },
   "outputs": [
    {
     "data": {
      "text/html": [
       "<pre style=\"white-space:pre;overflow-x:auto;line-height:normal;font-family:Menlo,'DejaVu Sans Mono',consolas,'Courier New',monospace\">Pueden estar disponibles dos versiones: 🎉️ ✨️ 🎉︎ ✨︎\n",
       "</pre>\n"
      ],
      "text/plain": [
       "Pueden estar disponibles dos versiones: 🎉️ ✨️ 🎉︎ ✨︎\n"
      ]
     },
     "metadata": {},
     "output_type": "display_data"
    }
   ],
   "source": [
    "rich.print(\"Pueden estar disponibles dos versiones: \"\n",
    "           \":tada-emoji: :sparkles-emoji: :tada-text: :sparkles-text:\")"
   ]
  },
  {
   "cell_type": "code",
   "execution_count": 10,
   "id": "8887b140-4d42-4487-8d4d-ca970587788c",
   "metadata": {
    "slideshow": {
     "slide_type": "fragment"
    },
    "tags": []
   },
   "outputs": [
    {
     "data": {
      "text/plain": [
       "[('mask', '😷'),\n",
       " ('man_scientist_light_skin_tone', '👨🏻\\u200d🔬'),\n",
       " ('man_in_suit_levitating_medium_skin_tone', '🕴🏽'),\n",
       " ('one', '1️⃣'),\n",
       " ('family_woman_girl', '👩\\u200d👧'),\n",
       " ('woman_mountain_biking_medium-dark_skin_tone', '🚵🏾\\u200d♀️'),\n",
       " ('sailboat', '⛵'),\n",
       " ('spade_suit', '♠'),\n",
       " ('man_farmer_medium-dark_skin_tone', '👨🏾\\u200d🌾'),\n",
       " ('woman_surfing_medium-light_skin_tone', '🏄🏼\\u200d♀️'),\n",
       " ('man', '👨'),\n",
       " ('candy', '🍬')]"
      ]
     },
     "execution_count": 10,
     "metadata": {},
     "output_type": "execute_result"
    }
   ],
   "source": [
    "random.choices(list(rich.emoji.EMOJI.items()), k=12)"
   ]
  },
  {
   "cell_type": "markdown",
   "id": "821d4b3b-1d30-4d79-aa71-16dcc5d7d335",
   "metadata": {},
   "source": [
    "### Tracebacks\n",
    "\n",
    "No funciona eh Jupyter (por ahora).\n",
    "\n",
    "``` py\n",
    "console = rich.console.Console()\n",
    "\n",
    "def compute(x,y,z):\n",
    "    x = y - z\n",
    "    y = z * 2\n",
    "    z = y/x\n",
    "    return x + y + z\n",
    "    \n",
    "try:\n",
    "    print(compute(2, 3, 3))\n",
    "except Exception:\n",
    "    console.print_exception(show_locals=True)\n",
    "```\n",
    "\n",
    "```\n",
    "╭─────────────────────────────── Traceback (most recent call last) ──────────────────╮\n",
    "│ <stdin>:2 in <module>                                                              │\n",
    "│ ╭─────────────────────────────────────────── locals ─────────────────────────────╮ │\n",
    "│ │ __annotations__ = {}                                                           │ │\n",
    "│ │    __builtins__ = <module 'builtins' (built-in)>                               │ │\n",
    "│ │         __doc__ = None                                                         │ │\n",
    "│ │      __loader__ = <class '_frozen_importlib.BuiltinImporter'>                  │ │\n",
    "│ │        __name__ = '__main__'                                                   │ │\n",
    "│ │     __package__ = None                                                         │ │\n",
    "│ │        __spec__ = None                                                         │ │\n",
    "│ │         compute = <function compute at 0x7f5ea9d5c670>                         │ │\n",
    "│ │         console = <console width=234 ColorSystem.TRUECOLOR>                    │ │\n",
    "│ │            rich = <module 'rich' from                                          │ │\n",
    "│ │                   '~/git/lightning_2022-04-21_rich/venv/lib64/python3.10/sit…  │ │\n",
    "│ ╰────────────────────────────────────────────────────────────────────────────────╯ │\n",
    "│ <stdin>:4 in compute                                                               │\n",
    "│ ╭─ locals ─╮                                                                       │\n",
    "│ │ x = 0    │                                                                       │\n",
    "│ │ y = 6    │                                                                       │\n",
    "│ │ z = 3    │                                                                       │\n",
    "│ ╰──────────╯                                                                       │\n",
    "╰────────────────────────────────────────────────────────────────────────────────────╯\n",
    "ZeroDivisionError: division by zero\n",
    "```"
   ]
  },
  {
   "cell_type": "code",
   "execution_count": 11,
   "id": "c7427b9b-78d1-48e8-94ad-719f06d700d0",
   "metadata": {},
   "outputs": [
    {
     "data": {
      "application/vnd.jupyter.widget-view+json": {
       "model_id": "b4ca26c0c9fd49c3b0b8fdb08b04f42b",
       "version_major": 2,
       "version_minor": 0
      },
      "text/plain": [
       "Output()"
      ]
     },
     "metadata": {},
     "output_type": "display_data"
    },
    {
     "data": {
      "text/html": [
       "<pre style=\"white-space:pre;overflow-x:auto;line-height:normal;font-family:Menlo,'DejaVu Sans Mono',consolas,'Courier New',monospace\"></pre>\n"
      ],
      "text/plain": []
     },
     "metadata": {},
     "output_type": "display_data"
    },
    {
     "data": {
      "text/html": [
       "<pre style=\"white-space:pre;overflow-x:auto;line-height:normal;font-family:Menlo,'DejaVu Sans Mono',consolas,'Courier New',monospace\">\n",
       "</pre>\n"
      ],
      "text/plain": [
       "\n"
      ]
     },
     "metadata": {},
     "output_type": "display_data"
    }
   ],
   "source": [
    "for step in rich.progress.track(range(100)):\n",
    "    time.sleep(0.01)  # Aquí el procesamiento a medir"
   ]
  },
  {
   "cell_type": "markdown",
   "id": "6bb697cc-4cd1-4f97-9f54-9486839ad948",
   "metadata": {},
   "source": [
    "### Table"
   ]
  },
  {
   "cell_type": "code",
   "execution_count": 12,
   "id": "940eba2e-4934-44aa-aac8-0ffcc1169a36",
   "metadata": {},
   "outputs": [
    {
     "data": {
      "text/html": [
       "<pre style=\"white-space:pre;overflow-x:auto;line-height:normal;font-family:Menlo,'DejaVu Sans Mono',consolas,'Courier New',monospace\"><span style=\"font-style: italic\">                          Star Wars Movies                           </span>\n",
       "┏━━━━━━━━━━━━━━┳━━━━━━━━━━━━━━━━━━━━━━━━━━━━━━━━━━━┳━━━━━━━━━━━━━━━━┓\n",
       "┃<span style=\"font-weight: bold\">     Released </span>┃<span style=\"font-weight: bold\"> Title                             </span>┃<span style=\"font-weight: bold\">     Box Office </span>┃\n",
       "┡━━━━━━━━━━━━━━╇━━━━━━━━━━━━━━━━━━━━━━━━━━━━━━━━━━━╇━━━━━━━━━━━━━━━━┩\n",
       "│<span style=\"color: #008080; text-decoration-color: #008080\"> Dec 20, 2019 </span>│<span style=\"color: #800080; text-decoration-color: #800080\"> Star Wars: The Rise of Skywalker  </span>│<span style=\"color: #008000; text-decoration-color: #008000\">   $952,110,690 </span>│\n",
       "│<span style=\"color: #008080; text-decoration-color: #008080\"> May 25, 2018 </span>│<span style=\"color: #800080; text-decoration-color: #800080\"> Solo: A Star Wars Story           </span>│<span style=\"color: #008000; text-decoration-color: #008000\">   $393,151,347 </span>│\n",
       "│<span style=\"color: #008080; text-decoration-color: #008080\"> Dec 15, 2017 </span>│<span style=\"color: #800080; text-decoration-color: #800080\"> Star Wars Ep. V111: The Last Jedi </span>│<span style=\"color: #008000; text-decoration-color: #008000\"> $1,332,539,889 </span>│\n",
       "│<span style=\"color: #008080; text-decoration-color: #008080\"> Dec 16, 2016 </span>│<span style=\"color: #800080; text-decoration-color: #800080\"> Rogue One: A Star Wars Story      </span>│<span style=\"color: #008000; text-decoration-color: #008000\"> $1,332,439,889 </span>│\n",
       "└──────────────┴───────────────────────────────────┴────────────────┘\n",
       "</pre>\n"
      ],
      "text/plain": [
       "\u001b[3m                          Star Wars Movies                           \u001b[0m\n",
       "┏━━━━━━━━━━━━━━┳━━━━━━━━━━━━━━━━━━━━━━━━━━━━━━━━━━━┳━━━━━━━━━━━━━━━━┓\n",
       "┃\u001b[1m \u001b[0m\u001b[1m    Released\u001b[0m\u001b[1m \u001b[0m┃\u001b[1m \u001b[0m\u001b[1mTitle                            \u001b[0m\u001b[1m \u001b[0m┃\u001b[1m \u001b[0m\u001b[1m    Box Office\u001b[0m\u001b[1m \u001b[0m┃\n",
       "┡━━━━━━━━━━━━━━╇━━━━━━━━━━━━━━━━━━━━━━━━━━━━━━━━━━━╇━━━━━━━━━━━━━━━━┩\n",
       "│\u001b[36m \u001b[0m\u001b[36mDec 20, 2019\u001b[0m\u001b[36m \u001b[0m│\u001b[35m \u001b[0m\u001b[35mStar Wars: The Rise of Skywalker \u001b[0m\u001b[35m \u001b[0m│\u001b[32m \u001b[0m\u001b[32m  $952,110,690\u001b[0m\u001b[32m \u001b[0m│\n",
       "│\u001b[36m \u001b[0m\u001b[36mMay 25, 2018\u001b[0m\u001b[36m \u001b[0m│\u001b[35m \u001b[0m\u001b[35mSolo: A Star Wars Story          \u001b[0m\u001b[35m \u001b[0m│\u001b[32m \u001b[0m\u001b[32m  $393,151,347\u001b[0m\u001b[32m \u001b[0m│\n",
       "│\u001b[36m \u001b[0m\u001b[36mDec 15, 2017\u001b[0m\u001b[36m \u001b[0m│\u001b[35m \u001b[0m\u001b[35mStar Wars Ep. V111: The Last Jedi\u001b[0m\u001b[35m \u001b[0m│\u001b[32m \u001b[0m\u001b[32m$1,332,539,889\u001b[0m\u001b[32m \u001b[0m│\n",
       "│\u001b[36m \u001b[0m\u001b[36mDec 16, 2016\u001b[0m\u001b[36m \u001b[0m│\u001b[35m \u001b[0m\u001b[35mRogue One: A Star Wars Story     \u001b[0m\u001b[35m \u001b[0m│\u001b[32m \u001b[0m\u001b[32m$1,332,439,889\u001b[0m\u001b[32m \u001b[0m│\n",
       "└──────────────┴───────────────────────────────────┴────────────────┘\n"
      ]
     },
     "metadata": {},
     "output_type": "display_data"
    }
   ],
   "source": [
    "table = rich.table.Table(title=\"Star Wars Movies\")\n",
    "\n",
    "table.add_column(\"Released\", justify=\"right\", style=\"cyan\", no_wrap=True)\n",
    "table.add_column(\"Title\", style=\"magenta\")\n",
    "table.add_column(\"Box Office\", justify=\"right\", style=\"green\")\n",
    "\n",
    "table.add_row(\"Dec 20, 2019\", \"Star Wars: The Rise of Skywalker\", \"$952,110,690\")\n",
    "table.add_row(\"May 25, 2018\", \"Solo: A Star Wars Story\", \"$393,151,347\")\n",
    "table.add_row(\"Dec 15, 2017\", \"Star Wars Ep. V111: The Last Jedi\", \"$1,332,539,889\")\n",
    "table.add_row(\"Dec 16, 2016\", \"Rogue One: A Star Wars Story\", \"$1,332,439,889\")\n",
    "\n",
    "rich.print(table)"
   ]
  },
  {
   "cell_type": "markdown",
   "id": "79e17626-5176-4596-b9d0-1fdffe8a79fc",
   "metadata": {
    "slideshow": {
     "slide_type": "slide"
    },
    "tags": []
   },
   "source": [
    "### Tree"
   ]
  },
  {
   "cell_type": "code",
   "execution_count": 13,
   "id": "b13b3d93-68d9-4d30-b39a-748709930d61",
   "metadata": {
    "tags": []
   },
   "outputs": [
    {
     "data": {
      "text/html": [
       "<pre style=\"white-space:pre;overflow-x:auto;line-height:normal;font-family:Menlo,'DejaVu Sans Mono',consolas,'Courier New',monospace\">Rich Tree\n",
       "├── foo\n",
       "├── bar\n",
       "└── baz\n",
       "    └── <span style=\"color: #800000; text-decoration-color: #800000\">Red</span>\n",
       "        └── <span style=\"color: #008000; text-decoration-color: #008000\">Green</span>\n",
       "            └── <span style=\"color: #000080; text-decoration-color: #000080\">Blue</span>\n",
       "</pre>\n"
      ],
      "text/plain": [
       "Rich Tree\n",
       "├── foo\n",
       "├── bar\n",
       "└── baz\n",
       "    └── \u001b[31mRed\u001b[0m\n",
       "        └── \u001b[32mGreen\u001b[0m\n",
       "            └── \u001b[34mBlue\u001b[0m\n"
      ]
     },
     "metadata": {},
     "output_type": "display_data"
    }
   ],
   "source": [
    "# python -m rich.tree\n",
    "import rich.tree \n",
    "\n",
    "tree = rich.tree.Tree(\"Rich Tree\")\n",
    "tree.add(\"foo\")\n",
    "tree.add(\"bar\")\n",
    "baz_tree = tree.add(\"baz\")\n",
    "baz_tree.add(\"[red]Red\").add(\"[green]Green\").add(\"[blue]Blue\")\n",
    "rich.print(tree)\n"
   ]
  },
  {
   "cell_type": "markdown",
   "id": "a58a8754-524f-48af-b04d-1244c5cff3db",
   "metadata": {
    "slideshow": {
     "slide_type": "slide"
    },
    "tags": []
   },
   "source": [
    "Para saber las características del terminal actual:"
   ]
  },
  {
   "cell_type": "code",
   "execution_count": 14,
   "id": "f89afc00-7dbe-4ae6-832e-6efbab6bfe90",
   "metadata": {
    "tags": []
   },
   "outputs": [
    {
     "name": "stdout",
     "output_type": "stream",
     "text": [
      "\u001b[34m╭─\u001b[0m\u001b[34m───────────── \u001b[0m\u001b[1;34m<\u001b[0m\u001b[1;95mclass\u001b[0m\u001b[39m \u001b[0m\u001b[32m'rich.console.Console'\u001b[0m\u001b[1;34m>\u001b[0m\u001b[34m ──────────────\u001b[0m\u001b[34m─╮\u001b[0m\n",
      "\u001b[34m│\u001b[0m \u001b[36mA high level console interface.\u001b[0m                             \u001b[34m│\u001b[0m\n",
      "\u001b[34m│\u001b[0m                                                             \u001b[34m│\u001b[0m\n",
      "\u001b[34m│\u001b[0m \u001b[32m╭─────────────────────────────────────────────────────────╮\u001b[0m \u001b[34m│\u001b[0m\n",
      "\u001b[34m│\u001b[0m \u001b[32m│\u001b[0m \u001b[1m<\u001b[0m\u001b[1;95mconsole\u001b[0m\u001b[39m \u001b[0m\u001b[33mwidth\u001b[0m\u001b[39m=\u001b[0m\u001b[1;36m63\u001b[0m\u001b[39m ColorSystem.TRUECOLOR\u001b[0m\u001b[1m>\u001b[0m                \u001b[32m│\u001b[0m \u001b[34m│\u001b[0m\n",
      "\u001b[34m│\u001b[0m \u001b[32m╰─────────────────────────────────────────────────────────╯\u001b[0m \u001b[34m│\u001b[0m\n",
      "\u001b[34m│\u001b[0m                                                             \u001b[34m│\u001b[0m\n",
      "\u001b[34m│\u001b[0m     \u001b[3;33mcolor_system\u001b[0m = \u001b[32m'truecolor'\u001b[0m                              \u001b[34m│\u001b[0m\n",
      "\u001b[34m│\u001b[0m         \u001b[3;33mencoding\u001b[0m = \u001b[32m'utf-8'\u001b[0m                                  \u001b[34m│\u001b[0m\n",
      "\u001b[34m│\u001b[0m             \u001b[3;33mfile\u001b[0m = \u001b[1m<\u001b[0m\u001b[1;95m_io.TextIOWrapper\u001b[0m\u001b[39m \u001b[0m\u001b[33mname\u001b[0m\u001b[39m=\u001b[0m\u001b[32m'<stdout\u001b[0m\u001b[32m>\u001b[0m\u001b[32m'\u001b[0m       \u001b[34m│\u001b[0m\n",
      "\u001b[34m│\u001b[0m                    \u001b[33mmode\u001b[0m=\u001b[32m'w'\u001b[0m \u001b[33mencoding\u001b[0m=\u001b[32m'utf-8'\u001b[0m>               \u001b[34m│\u001b[0m\n",
      "\u001b[34m│\u001b[0m           \u001b[3;33mheight\u001b[0m = \u001b[1;36m24\u001b[0m                                       \u001b[34m│\u001b[0m\n",
      "\u001b[34m│\u001b[0m    \u001b[3;33mis_alt_screen\u001b[0m = \u001b[3;91mFalse\u001b[0m                                    \u001b[34m│\u001b[0m\n",
      "\u001b[34m│\u001b[0m \u001b[3;33mis_dumb_terminal\u001b[0m = \u001b[3;91mFalse\u001b[0m                                    \u001b[34m│\u001b[0m\n",
      "\u001b[34m│\u001b[0m   \u001b[3;33mis_interactive\u001b[0m = \u001b[3;92mTrue\u001b[0m                                     \u001b[34m│\u001b[0m\n",
      "\u001b[34m│\u001b[0m       \u001b[3;33mis_jupyter\u001b[0m = \u001b[3;91mFalse\u001b[0m                                    \u001b[34m│\u001b[0m\n",
      "\u001b[34m│\u001b[0m      \u001b[3;33mis_terminal\u001b[0m = \u001b[3;92mTrue\u001b[0m                                     \u001b[34m│\u001b[0m\n",
      "\u001b[34m│\u001b[0m   \u001b[3;33mlegacy_windows\u001b[0m = \u001b[3;91mFalse\u001b[0m                                    \u001b[34m│\u001b[0m\n",
      "\u001b[34m│\u001b[0m         \u001b[3;33mno_color\u001b[0m = \u001b[3;91mFalse\u001b[0m                                    \u001b[34m│\u001b[0m\n",
      "\u001b[34m│\u001b[0m          \u001b[3;33moptions\u001b[0m = \u001b[1;35mConsoleOptions\u001b[0m\u001b[1m(\u001b[0m                          \u001b[34m│\u001b[0m\n",
      "\u001b[34m│\u001b[0m                        \u001b[33msize\u001b[0m=\u001b[1;35mConsoleDimensions\u001b[0m\u001b[1m(\u001b[0m              \u001b[34m│\u001b[0m\n",
      "\u001b[34m│\u001b[0m                            \u001b[33mwidth\u001b[0m=\u001b[1;36m63\u001b[0m,                        \u001b[34m│\u001b[0m\n",
      "\u001b[34m│\u001b[0m                            \u001b[33mheight\u001b[0m=\u001b[1;36m24\u001b[0m                        \u001b[34m│\u001b[0m\n",
      "\u001b[34m│\u001b[0m                        \u001b[1m)\u001b[0m,                                   \u001b[34m│\u001b[0m\n",
      "\u001b[34m│\u001b[0m                        \u001b[33mlegacy_windows\u001b[0m=\u001b[3;91mFalse\u001b[0m,                \u001b[34m│\u001b[0m\n",
      "\u001b[34m│\u001b[0m                        \u001b[33mmin_width\u001b[0m=\u001b[1;36m1\u001b[0m,                         \u001b[34m│\u001b[0m\n",
      "\u001b[34m│\u001b[0m                        \u001b[33mmax_width\u001b[0m=\u001b[1;36m63\u001b[0m,                        \u001b[34m│\u001b[0m\n",
      "\u001b[34m│\u001b[0m                        \u001b[33mis_terminal\u001b[0m=\u001b[3;92mTrue\u001b[0m,                    \u001b[34m│\u001b[0m\n",
      "\u001b[34m│\u001b[0m                        \u001b[33mencoding\u001b[0m=\u001b[32m'utf-8'\u001b[0m,                    \u001b[34m│\u001b[0m\n",
      "\u001b[34m│\u001b[0m                        \u001b[33mmax_height\u001b[0m=\u001b[1;36m24\u001b[0m,                       \u001b[34m│\u001b[0m\n",
      "\u001b[34m│\u001b[0m                        \u001b[33mjustify\u001b[0m=\u001b[3;35mNone\u001b[0m,                        \u001b[34m│\u001b[0m\n",
      "\u001b[34m│\u001b[0m                        \u001b[33moverflow\u001b[0m=\u001b[3;35mNone\u001b[0m,                       \u001b[34m│\u001b[0m\n",
      "\u001b[34m│\u001b[0m                        \u001b[33mno_wrap\u001b[0m=\u001b[3;91mFalse\u001b[0m,                       \u001b[34m│\u001b[0m\n",
      "\u001b[34m│\u001b[0m                        \u001b[33mhighlight\u001b[0m=\u001b[3;35mNone\u001b[0m,                      \u001b[34m│\u001b[0m\n",
      "\u001b[34m│\u001b[0m                        \u001b[33mmarkup\u001b[0m=\u001b[3;35mNone\u001b[0m,                         \u001b[34m│\u001b[0m\n",
      "\u001b[34m│\u001b[0m                        \u001b[33mheight\u001b[0m=\u001b[3;35mNone\u001b[0m                          \u001b[34m│\u001b[0m\n",
      "\u001b[34m│\u001b[0m                    \u001b[1m)\u001b[0m                                        \u001b[34m│\u001b[0m\n",
      "\u001b[34m│\u001b[0m            \u001b[3;33mquiet\u001b[0m = \u001b[3;91mFalse\u001b[0m                                    \u001b[34m│\u001b[0m\n",
      "\u001b[34m│\u001b[0m           \u001b[3;33mrecord\u001b[0m = \u001b[3;91mFalse\u001b[0m                                    \u001b[34m│\u001b[0m\n",
      "\u001b[34m│\u001b[0m         \u001b[3;33msafe_box\u001b[0m = \u001b[3;92mTrue\u001b[0m                                     \u001b[34m│\u001b[0m\n",
      "\u001b[34m│\u001b[0m             \u001b[3;33msize\u001b[0m = \u001b[1;35mConsoleDimensions\u001b[0m\u001b[1m(\u001b[0m\u001b[33mwidth\u001b[0m=\u001b[1;36m63\u001b[0m, \u001b[33mheight\u001b[0m=\u001b[1;36m24\u001b[0m\u001b[1m)\u001b[0m   \u001b[34m│\u001b[0m\n",
      "\u001b[34m│\u001b[0m        \u001b[3;33msoft_wrap\u001b[0m = \u001b[3;91mFalse\u001b[0m                                    \u001b[34m│\u001b[0m\n",
      "\u001b[34m│\u001b[0m           \u001b[3;33mstderr\u001b[0m = \u001b[3;91mFalse\u001b[0m                                    \u001b[34m│\u001b[0m\n",
      "\u001b[34m│\u001b[0m            \u001b[3;33mstyle\u001b[0m = \u001b[3;35mNone\u001b[0m                                     \u001b[34m│\u001b[0m\n",
      "\u001b[34m│\u001b[0m         \u001b[3;33mtab_size\u001b[0m = \u001b[1;36m8\u001b[0m                                        \u001b[34m│\u001b[0m\n",
      "\u001b[34m│\u001b[0m            \u001b[3;33mwidth\u001b[0m = \u001b[1;36m63\u001b[0m                                       \u001b[34m│\u001b[0m\n",
      "\u001b[34m╰─────────────────────────────────────────────────────────────╯\u001b[0m\n",
      "\u001b[34m╭─\u001b[0m\u001b[34m── \u001b[0m\u001b[1;34m<\u001b[0m\u001b[1;95mclass\u001b[0m\u001b[39m \u001b[0m\u001b[32m'rich._windows.WindowsConsoleFeatures'\u001b[0m\u001b[1;34m>\u001b[0m\u001b[34m ───\u001b[0m\u001b[34m─╮\u001b[0m\n",
      "\u001b[34m│\u001b[0m \u001b[36mWindows features available.\u001b[0m                           \u001b[34m│\u001b[0m\n",
      "\u001b[34m│\u001b[0m                                                       \u001b[34m│\u001b[0m\n",
      "\u001b[34m│\u001b[0m \u001b[32m╭───────────────────────────────────────────────────╮\u001b[0m \u001b[34m│\u001b[0m\n",
      "\u001b[34m│\u001b[0m \u001b[32m│\u001b[0m \u001b[1;35mWindowsConsoleFeatures\u001b[0m\u001b[1m(\u001b[0m\u001b[33mvt\u001b[0m=\u001b[3;91mFalse\u001b[0m, \u001b[33mtruecolor\u001b[0m=\u001b[3;91mFalse\u001b[0m\u001b[1m)\u001b[0m \u001b[32m│\u001b[0m \u001b[34m│\u001b[0m\n",
      "\u001b[34m│\u001b[0m \u001b[32m╰───────────────────────────────────────────────────╯\u001b[0m \u001b[34m│\u001b[0m\n",
      "\u001b[34m│\u001b[0m                                                       \u001b[34m│\u001b[0m\n",
      "\u001b[34m│\u001b[0m \u001b[3;33mtruecolor\u001b[0m = \u001b[3;91mFalse\u001b[0m                                     \u001b[34m│\u001b[0m\n",
      "\u001b[34m│\u001b[0m        \u001b[3;33mvt\u001b[0m = \u001b[3;91mFalse\u001b[0m                                     \u001b[34m│\u001b[0m\n",
      "\u001b[34m╰───────────────────────────────────────────────────────╯\u001b[0m\n",
      "╭────── \u001b[1mEnvironment Variables\u001b[0m ───────╮\n",
      "│ \u001b[1m{\u001b[0m                                  │\n",
      "│     \u001b[32m'TERM'\u001b[0m: \u001b[32m'xterm-color'\u001b[0m,         │\n",
      "│     \u001b[32m'COLORTERM'\u001b[0m: \u001b[32m'truecolor'\u001b[0m,      │\n",
      "│     \u001b[32m'CLICOLOR'\u001b[0m: \u001b[32m'1'\u001b[0m,               │\n",
      "│     \u001b[32m'NO_COLOR'\u001b[0m: \u001b[3;35mNone\u001b[0m,              │\n",
      "│     \u001b[32m'TERM_PROGRAM'\u001b[0m: \u001b[3;35mNone\u001b[0m,          │\n",
      "│     \u001b[32m'COLUMNS'\u001b[0m: \u001b[32m'63'\u001b[0m,               │\n",
      "│     \u001b[32m'LINES'\u001b[0m: \u001b[3;35mNone\u001b[0m,                 │\n",
      "│     \u001b[32m'JPY_PARENT_PID'\u001b[0m: \u001b[32m'8903'\u001b[0m,      │\n",
      "│     \u001b[32m'VSCODE_VERBOSE_LOGGING'\u001b[0m: \u001b[3;35mNone\u001b[0m │\n",
      "│ \u001b[1m}\u001b[0m                                  │\n",
      "╰────────────────────────────────────╯\n",
      "\u001b[33mplatform\u001b[0m=\u001b[32m\"Linux\"\u001b[0m\n"
     ]
    }
   ],
   "source": [
    "! python -m rich.diagnose"
   ]
  },
  {
   "cell_type": "code",
   "execution_count": 15,
   "id": "eff227d4-362f-4dad-a8de-9e72d84b4670",
   "metadata": {
    "slideshow": {
     "slide_type": "slide"
    },
    "tags": []
   },
   "outputs": [
    {
     "name": "stdout",
     "output_type": "stream",
     "text": [
      "\u001b[34m╭─\u001b[0m\u001b[34m──────────────────── \u001b[0m\u001b[32m'header'\u001b[0m\u001b[34m \u001b[0m\u001b[1;34m(\u001b[0m\u001b[1;36m63\u001b[0m\u001b[34m x \u001b[0m\u001b[1;36m3\u001b[0m\u001b[1;34m)\u001b[0m\u001b[34m ────────────────────\u001b[0m\u001b[34m─╮\u001b[0m\n",
      "\u001b[34m│\u001b[0m                \u001b[1;35mLayout\u001b[0m\u001b[1m(\u001b[0m\u001b[33mname\u001b[0m=\u001b[32m'header'\u001b[0m, \u001b[33msize\u001b[0m=\u001b[1;36m3\u001b[0m\u001b[1m)\u001b[0m                \u001b[34m│\u001b[0m\n",
      "\u001b[34m╰─────────────────────────────────────────────────────────────╯\u001b[0m\n",
      "\u001b[34m⬍\u001b[0m \u001b[1;35mLayout\u001b[0m\u001b[1m(\u001b[0m\u001b[1m)\u001b[0m           foo                         \u001b[34m╭─\u001b[0m\u001b[34m \u001b[0m\u001b[32m'top'\u001b[0m\u001b[34m \u001b[0m\u001b[1;34m(\u001b[0m\u001b[1;36m14\u001b[0m\u001b[34m─╮\u001b[0m\n",
      "\u001b[34m├── \u001b[0m\u001b[34m⬍\u001b[0m \u001b[1;35mLayout\u001b[0m\u001b[1m(\u001b[0m                                    \u001b[34m│\u001b[0m \u001b[1;35mLayout\u001b[0m\u001b[1m(\u001b[0m    \u001b[34m│\u001b[0m\n",
      "\u001b[34m│   \u001b[0m      \u001b[33mname\u001b[0m=\u001b[32m'head…\u001b[0m                            \u001b[34m╰────────────╯\u001b[0m\n",
      "\u001b[34m│   \u001b[0m      \u001b[33msize\u001b[0m=\u001b[1;36m3\u001b[0m                                 \u001b[34m╭─\u001b[0m\u001b[34m \u001b[0m\u001b[32m'middle'\u001b[0m\u001b[34m \u001b[0m\u001b[34m─╮\u001b[0m\n",
      "\u001b[34m│   \u001b[0m  \u001b[1m)\u001b[0m                                          \u001b[34m│\u001b[0m \u001b[1;35mLayout\u001b[0m\u001b[1m(\u001b[0m    \u001b[34m│\u001b[0m\n",
      "\u001b[34m╭─\u001b[0m\u001b[34m \u001b[0m\u001b[32m'left2'\u001b[0m\u001b[34m \u001b[0m\u001b[1;34m(\u001b[0m\u001b[1;36m21\u001b[0m\u001b[34m x \u001b[0m\u001b[1;36m6\u001b[0m\u001b[1;34m)\u001b[0m\u001b[34m─╮\u001b[0m                            \u001b[34m│\u001b[0m     \u001b[33mname\u001b[0m=\u001b[32m'\u001b[0m \u001b[34m│\u001b[0m\n",
      "\u001b[34m│\u001b[0m \u001b[1;35mLayout\u001b[0m\u001b[1m(\u001b[0m           \u001b[34m│\u001b[0m                            \u001b[34m╰────────────╯\u001b[0m\n",
      "\u001b[34m│\u001b[0m     \u001b[33mname\u001b[0m=\u001b[32m'left2'\u001b[0m  \u001b[34m│\u001b[0m                            \u001b[34m╭─\u001b[0m\u001b[34m \u001b[0m\u001b[32m'bottom'\u001b[0m\u001b[34m \u001b[0m\u001b[34m─╮\u001b[0m\n",
      "\u001b[34m│\u001b[0m \u001b[1m)\u001b[0m                 \u001b[34m│\u001b[0m                            \u001b[34m│\u001b[0m \u001b[1;35mLayout\u001b[0m\u001b[1m(\u001b[0m    \u001b[34m│\u001b[0m\n",
      "\u001b[34m│\u001b[0m                   \u001b[34m│\u001b[0m                            \u001b[34m│\u001b[0m     \u001b[33mname\u001b[0m=\u001b[32m'\u001b[0m \u001b[34m│\u001b[0m\n",
      "\u001b[34m╰───────────────────╯\u001b[0m                            \u001b[34m╰────────────╯\u001b[0m\n",
      "\u001b[34m╭─\u001b[0m\u001b[34m─────────────────── \u001b[0m\u001b[32m'footer'\u001b[0m\u001b[34m \u001b[0m\u001b[1;34m(\u001b[0m\u001b[1;36m63\u001b[0m\u001b[34m x \u001b[0m\u001b[1;36m10\u001b[0m\u001b[1;34m)\u001b[0m\u001b[34m ────────────────────\u001b[0m\u001b[34m─╮\u001b[0m\n",
      "\u001b[34m│\u001b[0m                                                             \u001b[34m│\u001b[0m\n",
      "\u001b[34m│\u001b[0m                                                             \u001b[34m│\u001b[0m\n",
      "\u001b[34m│\u001b[0m                                                             \u001b[34m│\u001b[0m\n",
      "\u001b[34m│\u001b[0m               \u001b[1;35mLayout\u001b[0m\u001b[1m(\u001b[0m\u001b[33mname\u001b[0m=\u001b[32m'footer'\u001b[0m, \u001b[33msize\u001b[0m=\u001b[1;36m10\u001b[0m\u001b[1m)\u001b[0m                \u001b[34m│\u001b[0m\n",
      "\u001b[34m│\u001b[0m                                                             \u001b[34m│\u001b[0m\n",
      "\u001b[34m│\u001b[0m                                                             \u001b[34m│\u001b[0m\n",
      "\u001b[34m│\u001b[0m                                                             \u001b[34m│\u001b[0m\n",
      "\u001b[34m│\u001b[0m                                                             \u001b[34m│\u001b[0m\n",
      "\u001b[34m╰─────────────────────────────────────────────────────────────╯\u001b[0m\n"
     ]
    }
   ],
   "source": [
    "!python -m rich.layout"
   ]
  }
 ],
 "metadata": {
  "kernelspec": {
   "display_name": "Python 3 (ipykernel)",
   "language": "python",
   "name": "python3"
  },
  "language_info": {
   "codemirror_mode": {
    "name": "ipython",
    "version": 3
   },
   "file_extension": ".py",
   "mimetype": "text/x-python",
   "name": "python",
   "nbconvert_exporter": "python",
   "pygments_lexer": "ipython3",
   "version": "3.10.4"
  }
 },
 "nbformat": 4,
 "nbformat_minor": 5
}
